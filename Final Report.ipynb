{
 "cells": [
  {
   "cell_type": "markdown",
   "id": "80e7c55d-f35b-4ab8-9e89-7aeed2a42118",
   "metadata": {},
   "source": [
    "## Census Income - Final Report"
   ]
  },
  {
   "cell_type": "code",
   "execution_count": 1,
   "id": "249a7e2a-7f92-4dee-b608-31eaeb63a1b2",
   "metadata": {},
   "outputs": [
    {
     "name": "stderr",
     "output_type": "stream",
     "text": [
      "Loading required package: carData\n",
      "\n",
      "── \u001b[1mAttaching core tidyverse packages\u001b[22m ──────────────────────── tidyverse 2.0.0 ──\n",
      "\u001b[32m✔\u001b[39m \u001b[34mdplyr    \u001b[39m 1.1.4     \u001b[32m✔\u001b[39m \u001b[34mreadr    \u001b[39m 2.1.5\n",
      "\u001b[32m✔\u001b[39m \u001b[34mforcats  \u001b[39m 1.0.0     \u001b[32m✔\u001b[39m \u001b[34mstringr  \u001b[39m 1.5.1\n",
      "\u001b[32m✔\u001b[39m \u001b[34mggplot2  \u001b[39m 3.5.1     \u001b[32m✔\u001b[39m \u001b[34mtibble   \u001b[39m 3.2.1\n",
      "\u001b[32m✔\u001b[39m \u001b[34mlubridate\u001b[39m 1.9.3     \u001b[32m✔\u001b[39m \u001b[34mtidyr    \u001b[39m 1.3.1\n",
      "\u001b[32m✔\u001b[39m \u001b[34mpurrr    \u001b[39m 1.0.2     \n",
      "── \u001b[1mConflicts\u001b[22m ────────────────────────────────────────── tidyverse_conflicts() ──\n",
      "\u001b[31m✖\u001b[39m \u001b[34mdplyr\u001b[39m::\u001b[32mfilter()\u001b[39m masks \u001b[34mstats\u001b[39m::filter()\n",
      "\u001b[31m✖\u001b[39m \u001b[34mdplyr\u001b[39m::\u001b[32mlag()\u001b[39m    masks \u001b[34mstats\u001b[39m::lag()\n",
      "\u001b[31m✖\u001b[39m \u001b[34mdplyr\u001b[39m::\u001b[32mrecode()\u001b[39m masks \u001b[34mcar\u001b[39m::recode()\n",
      "\u001b[31m✖\u001b[39m \u001b[34mpurrr\u001b[39m::\u001b[32msome()\u001b[39m   masks \u001b[34mcar\u001b[39m::some()\n",
      "\u001b[36mℹ\u001b[39m Use the conflicted package (\u001b[3m\u001b[34m<http://conflicted.r-lib.org/>\u001b[39m\u001b[23m) to force all conflicts to become errors\n",
      "── \u001b[1mAttaching packages\u001b[22m ────────────────────────────────────── tidymodels 1.2.0 ──\n",
      "\n",
      "\u001b[32m✔\u001b[39m \u001b[34mbroom       \u001b[39m 1.0.6     \u001b[32m✔\u001b[39m \u001b[34mrsample     \u001b[39m 1.2.1\n",
      "\u001b[32m✔\u001b[39m \u001b[34mdials       \u001b[39m 1.2.1     \u001b[32m✔\u001b[39m \u001b[34mtune        \u001b[39m 1.2.1\n",
      "\u001b[32m✔\u001b[39m \u001b[34minfer       \u001b[39m 1.0.7     \u001b[32m✔\u001b[39m \u001b[34mworkflows   \u001b[39m 1.1.4\n",
      "\u001b[32m✔\u001b[39m \u001b[34mmodeldata   \u001b[39m 1.4.0     \u001b[32m✔\u001b[39m \u001b[34mworkflowsets\u001b[39m 1.1.0\n",
      "\u001b[32m✔\u001b[39m \u001b[34mparsnip     \u001b[39m 1.2.1     \u001b[32m✔\u001b[39m \u001b[34myardstick   \u001b[39m 1.3.1\n",
      "\u001b[32m✔\u001b[39m \u001b[34mrecipes     \u001b[39m 1.1.0     \n",
      "\n",
      "── \u001b[1mConflicts\u001b[22m ───────────────────────────────────────── tidymodels_conflicts() ──\n",
      "\u001b[31m✖\u001b[39m \u001b[34mscales\u001b[39m::\u001b[32mdiscard()\u001b[39m masks \u001b[34mpurrr\u001b[39m::discard()\n",
      "\u001b[31m✖\u001b[39m \u001b[34mdplyr\u001b[39m::\u001b[32mfilter()\u001b[39m   masks \u001b[34mstats\u001b[39m::filter()\n",
      "\u001b[31m✖\u001b[39m \u001b[34mrecipes\u001b[39m::\u001b[32mfixed()\u001b[39m  masks \u001b[34mstringr\u001b[39m::fixed()\n",
      "\u001b[31m✖\u001b[39m \u001b[34mdplyr\u001b[39m::\u001b[32mlag()\u001b[39m      masks \u001b[34mstats\u001b[39m::lag()\n",
      "\u001b[31m✖\u001b[39m \u001b[34mdplyr\u001b[39m::\u001b[32mrecode()\u001b[39m   masks \u001b[34mcar\u001b[39m::recode()\n",
      "\u001b[31m✖\u001b[39m \u001b[34mpurrr\u001b[39m::\u001b[32msome()\u001b[39m     masks \u001b[34mcar\u001b[39m::some()\n",
      "\u001b[31m✖\u001b[39m \u001b[34myardstick\u001b[39m::\u001b[32mspec()\u001b[39m masks \u001b[34mreadr\u001b[39m::spec()\n",
      "\u001b[31m✖\u001b[39m \u001b[34mrecipes\u001b[39m::\u001b[32mstep()\u001b[39m   masks \u001b[34mstats\u001b[39m::step()\n",
      "\u001b[34m•\u001b[39m Use suppressPackageStartupMessages() to eliminate package startup messages\n",
      "\n",
      "Loading required package: Matrix\n",
      "\n",
      "\n",
      "Attaching package: ‘Matrix’\n",
      "\n",
      "\n",
      "The following objects are masked from ‘package:tidyr’:\n",
      "\n",
      "    expand, pack, unpack\n",
      "\n",
      "\n",
      "Loaded glmnet 4.1-8\n",
      "\n",
      "\n",
      "Attaching package: ‘faraway’\n",
      "\n",
      "\n",
      "The following objects are masked from ‘package:car’:\n",
      "\n",
      "    logit, vif\n",
      "\n",
      "\n",
      "\n",
      "Attaching package: ‘mltools’\n",
      "\n",
      "\n",
      "The following objects are masked from ‘package:yardstick’:\n",
      "\n",
      "    mcc, rmse\n",
      "\n",
      "\n",
      "The following object is masked from ‘package:tidyr’:\n",
      "\n",
      "    replace_na\n",
      "\n",
      "\n"
     ]
    }
   ],
   "source": [
    "# Loading packages\n",
    "library(car)\n",
    "library(tidyverse)\n",
    "library(tidymodels)\n",
    "library(broom)\n",
    "library(glmnet)\n",
    "library(leaps)\n",
    "library(faraway)\n",
    "library(mltools)"
   ]
  },
  {
   "cell_type": "markdown",
   "id": "2fb40015-ecb6-455e-8150-5ff7deded0fe",
   "metadata": {},
   "source": [
    "## Introduction"
   ]
  },
  {
   "cell_type": "markdown",
   "id": "317d99d2-d795-4a89-b696-1eaf80863eeb",
   "metadata": {},
   "source": [
    "Our team worked with the \"Adult\" dataset (https://archive.ics.uci.edu/dataset/2/adult), also called the \"Census Income\" dataset, which has been widely used for income prediction tasks in machine learning. It’s a public dataset, originally composed by the U.S. Census Bureau, and it’s available on the UCI Machine Learning Repository. The dataset was compiled to help classify whether a person’s income exceeds $50,000 per year based on demographic and work-related factors.\n",
    "\n",
    "In the dataset, there are 48,842 individuals (observations) and 15 attributes (column variables) which include our target variable « income ». Since the dataset has more variables than we might need, a big part of this project will be exploring which variables are actually useful for predicting income. \n",
    "\n",
    "The response variable is:\n",
    "- `income`: Binary label that indicates if a person earns more than \\\\$50,000 or less than/equal to \\\\$50,000.\n",
    "\n",
    "The 14 input variables are:\n",
    "- `age`: Age in years.\n",
    "- `workclass`: Employment status of the individual.\n",
    "- `fnlwgt`: Final weight of how race, sex,  country of origin factors in when it comes to predicting income.\n",
    "- `education`: Highest degree of education attained.\n",
    "- `education.num`: Education level in years.\n",
    "- `marital.status`: Marital status of the individual.\n",
    "- `occupation`: Type of occupation.\n",
    "- `relationship`: Relationship status.\n",
    "- `race`: Individual's race.\n",
    "- `sex`: Gender.\n",
    "- `capital.gain`: Capital gains in the past year (U.S. dollars).\n",
    "- `capital.loss`: Capital losses in the past year (U.S. dollars).\n",
    "- `hours.per.week`: Number of hours worked per week.\n",
    "- `native.country`: Country of birth.\n",
    "\n",
    "The continuous variables include `age`, `fnlwgt`, `education.num`, `capital.gain`, `capital.loss`, and `hours.per.week`. \n",
    "\n",
    "The categorical variables include `income`, `workclass`, `education`, `marital.status`, `occupation`, `relationship`, `race`, `sex`, and `native.country`."
   ]
  },
  {
   "cell_type": "markdown",
   "id": "27d4def6-4b04-4c4f-87a9-34d271879c30",
   "metadata": {},
   "source": [
    "According to Pew Research Center, on average, married men still tend to out-earn married women. Overall, husbands’ median earnings are higher than wives’ (\\\\$65,000 vs. \\\\$35,000 in 2022), making it more likely for men to surpass the \\\\$50,000 threshold. Even when marriages are structured to be more equal, wives’ median earnings (\\\\$60,000) nearly match husbands’ (\\\\$62,000), but in traditional “breadwinner husband” marriages, the gap is much larger (\\\\$96,000 for husbands vs. $30,000 for wives). While wives’ earnings have grown closer to their husbands’ over time, especially in egalitarian marriages, the evidence suggests that married men generally remain more likely than married women to earn above \\\\$50,000 (Fry et al., 2023)."
   ]
  },
  {
   "cell_type": "markdown",
   "id": "fc0c3e86-f793-4395-9124-228095c1ab9f",
   "metadata": {},
   "source": [
    "**Questions**: Are married men more likely to earn above $50K than married women?\n",
    "\n",
    "This question examines whether the combination of gender and marital status influences income level, focusing on the differences in income between married men and women. It is an inference question as we are finding the income difference between two levels of the input variable, gender. We would be comparing the proportion of men who earn over \\\\$50k, and the proportion of women who earn over \\\\$50k.\n",
    "\n",
    "To answer this question using the above dataset, we need to filter all the married individuals, and select the relevant columns: `sex`, `marital.status`, and `income`. \n",
    "\n",
    "Then test if there are other explanatory variables that could answer our question, group the individuals by `sex` and graph to see the proportions of individuals of each group who earn above \\\\$50k."
   ]
  },
  {
   "cell_type": "markdown",
   "id": "11d3a7b5-6d42-426b-90fd-4317462869fa",
   "metadata": {},
   "source": [
    "## Methods And Results"
   ]
  },
  {
   "cell_type": "markdown",
   "id": "1e3b8f6b-8ebc-4313-ab1c-24470fd1a6b5",
   "metadata": {},
   "source": [
    "### Exploratory Data Analysis (EDA)”"
   ]
  },
  {
   "cell_type": "code",
   "execution_count": 2,
   "id": "ccfd5de8-1373-4139-af85-e8f257d8f8d9",
   "metadata": {},
   "outputs": [
    {
     "name": "stderr",
     "output_type": "stream",
     "text": [
      "\u001b[1mRows: \u001b[22m\u001b[34m32561\u001b[39m \u001b[1mColumns: \u001b[22m\u001b[34m15\u001b[39m\n",
      "\u001b[36m──\u001b[39m \u001b[1mColumn specification\u001b[22m \u001b[36m────────────────────────────────────────────────────────\u001b[39m\n",
      "\u001b[1mDelimiter:\u001b[22m \",\"\n",
      "\u001b[31mchr\u001b[39m (9): workclass, education, marital.status, occupation, relationship, rac...\n",
      "\u001b[32mdbl\u001b[39m (6): age, fnlwgt, education.num, capital.gain, capital.loss, hours.per.week\n",
      "\n",
      "\u001b[36mℹ\u001b[39m Use `spec()` to retrieve the full column specification for this data.\n",
      "\u001b[36mℹ\u001b[39m Specify the column types or set `show_col_types = FALSE` to quiet this message.\n"
     ]
    },
    {
     "data": {
      "text/html": [
       "<table class=\"dataframe\">\n",
       "<caption>A tibble: 10 × 15</caption>\n",
       "<thead>\n",
       "\t<tr><th scope=col>age</th><th scope=col>workclass</th><th scope=col>fnlwgt</th><th scope=col>education</th><th scope=col>education.num</th><th scope=col>marital.status</th><th scope=col>occupation</th><th scope=col>relationship</th><th scope=col>race</th><th scope=col>sex</th><th scope=col>capital.gain</th><th scope=col>capital.loss</th><th scope=col>hours.per.week</th><th scope=col>native.country</th><th scope=col>income</th></tr>\n",
       "\t<tr><th scope=col>&lt;dbl&gt;</th><th scope=col>&lt;chr&gt;</th><th scope=col>&lt;dbl&gt;</th><th scope=col>&lt;chr&gt;</th><th scope=col>&lt;dbl&gt;</th><th scope=col>&lt;chr&gt;</th><th scope=col>&lt;chr&gt;</th><th scope=col>&lt;chr&gt;</th><th scope=col>&lt;chr&gt;</th><th scope=col>&lt;chr&gt;</th><th scope=col>&lt;dbl&gt;</th><th scope=col>&lt;dbl&gt;</th><th scope=col>&lt;dbl&gt;</th><th scope=col>&lt;chr&gt;</th><th scope=col>&lt;chr&gt;</th></tr>\n",
       "</thead>\n",
       "<tbody>\n",
       "\t<tr><td>90</td><td><span style=white-space:pre-wrap>?          </span></td><td> 77053</td><td><span style=white-space:pre-wrap>HS-grad     </span></td><td> 9</td><td><span style=white-space:pre-wrap>Widowed      </span></td><td><span style=white-space:pre-wrap>?                </span></td><td>Not-in-family </td><td>White</td><td>Female</td><td>0</td><td>4356</td><td>40</td><td>United-States</td><td>&lt;=50K</td></tr>\n",
       "\t<tr><td>82</td><td><span style=white-space:pre-wrap>Private    </span></td><td>132870</td><td><span style=white-space:pre-wrap>HS-grad     </span></td><td> 9</td><td><span style=white-space:pre-wrap>Widowed      </span></td><td><span style=white-space:pre-wrap>Exec-managerial  </span></td><td>Not-in-family </td><td>White</td><td>Female</td><td>0</td><td>4356</td><td>18</td><td>United-States</td><td>&lt;=50K</td></tr>\n",
       "\t<tr><td>66</td><td><span style=white-space:pre-wrap>?          </span></td><td>186061</td><td>Some-college</td><td>10</td><td><span style=white-space:pre-wrap>Widowed      </span></td><td><span style=white-space:pre-wrap>?                </span></td><td><span style=white-space:pre-wrap>Unmarried     </span></td><td>Black</td><td>Female</td><td>0</td><td>4356</td><td>40</td><td>United-States</td><td>&lt;=50K</td></tr>\n",
       "\t<tr><td>54</td><td><span style=white-space:pre-wrap>Private    </span></td><td>140359</td><td><span style=white-space:pre-wrap>7th-8th     </span></td><td> 4</td><td><span style=white-space:pre-wrap>Divorced     </span></td><td>Machine-op-inspct</td><td><span style=white-space:pre-wrap>Unmarried     </span></td><td>White</td><td>Female</td><td>0</td><td>3900</td><td>40</td><td>United-States</td><td>&lt;=50K</td></tr>\n",
       "\t<tr><td>41</td><td><span style=white-space:pre-wrap>Private    </span></td><td>264663</td><td>Some-college</td><td>10</td><td><span style=white-space:pre-wrap>Separated    </span></td><td><span style=white-space:pre-wrap>Prof-specialty   </span></td><td><span style=white-space:pre-wrap>Own-child     </span></td><td>White</td><td>Female</td><td>0</td><td>3900</td><td>40</td><td>United-States</td><td>&lt;=50K</td></tr>\n",
       "\t<tr><td>34</td><td><span style=white-space:pre-wrap>Private    </span></td><td>216864</td><td><span style=white-space:pre-wrap>HS-grad     </span></td><td> 9</td><td><span style=white-space:pre-wrap>Divorced     </span></td><td><span style=white-space:pre-wrap>Other-service    </span></td><td><span style=white-space:pre-wrap>Unmarried     </span></td><td>White</td><td>Female</td><td>0</td><td>3770</td><td>45</td><td>United-States</td><td>&lt;=50K</td></tr>\n",
       "\t<tr><td>38</td><td><span style=white-space:pre-wrap>Private    </span></td><td>150601</td><td><span style=white-space:pre-wrap>10th        </span></td><td> 6</td><td><span style=white-space:pre-wrap>Separated    </span></td><td><span style=white-space:pre-wrap>Adm-clerical     </span></td><td><span style=white-space:pre-wrap>Unmarried     </span></td><td>White</td><td><span style=white-space:pre-wrap>Male  </span></td><td>0</td><td>3770</td><td>40</td><td>United-States</td><td>&lt;=50K</td></tr>\n",
       "\t<tr><td>74</td><td><span style=white-space:pre-wrap>State-gov  </span></td><td> 88638</td><td><span style=white-space:pre-wrap>Doctorate   </span></td><td>16</td><td>Never-married</td><td><span style=white-space:pre-wrap>Prof-specialty   </span></td><td>Other-relative</td><td>White</td><td>Female</td><td>0</td><td>3683</td><td>20</td><td>United-States</td><td>&gt;50K </td></tr>\n",
       "\t<tr><td>68</td><td>Federal-gov</td><td>422013</td><td><span style=white-space:pre-wrap>HS-grad     </span></td><td> 9</td><td><span style=white-space:pre-wrap>Divorced     </span></td><td><span style=white-space:pre-wrap>Prof-specialty   </span></td><td>Not-in-family </td><td>White</td><td>Female</td><td>0</td><td>3683</td><td>40</td><td>United-States</td><td>&lt;=50K</td></tr>\n",
       "\t<tr><td>41</td><td><span style=white-space:pre-wrap>Private    </span></td><td> 70037</td><td>Some-college</td><td>10</td><td>Never-married</td><td><span style=white-space:pre-wrap>Craft-repair     </span></td><td><span style=white-space:pre-wrap>Unmarried     </span></td><td>White</td><td><span style=white-space:pre-wrap>Male  </span></td><td>0</td><td>3004</td><td>60</td><td><span style=white-space:pre-wrap>?            </span></td><td>&gt;50K </td></tr>\n",
       "</tbody>\n",
       "</table>\n"
      ],
      "text/latex": [
       "A tibble: 10 × 15\n",
       "\\begin{tabular}{lllllllllllllll}\n",
       " age & workclass & fnlwgt & education & education.num & marital.status & occupation & relationship & race & sex & capital.gain & capital.loss & hours.per.week & native.country & income\\\\\n",
       " <dbl> & <chr> & <dbl> & <chr> & <dbl> & <chr> & <chr> & <chr> & <chr> & <chr> & <dbl> & <dbl> & <dbl> & <chr> & <chr>\\\\\n",
       "\\hline\n",
       "\t 90 & ?           &  77053 & HS-grad      &  9 & Widowed       & ?                 & Not-in-family  & White & Female & 0 & 4356 & 40 & United-States & <=50K\\\\\n",
       "\t 82 & Private     & 132870 & HS-grad      &  9 & Widowed       & Exec-managerial   & Not-in-family  & White & Female & 0 & 4356 & 18 & United-States & <=50K\\\\\n",
       "\t 66 & ?           & 186061 & Some-college & 10 & Widowed       & ?                 & Unmarried      & Black & Female & 0 & 4356 & 40 & United-States & <=50K\\\\\n",
       "\t 54 & Private     & 140359 & 7th-8th      &  4 & Divorced      & Machine-op-inspct & Unmarried      & White & Female & 0 & 3900 & 40 & United-States & <=50K\\\\\n",
       "\t 41 & Private     & 264663 & Some-college & 10 & Separated     & Prof-specialty    & Own-child      & White & Female & 0 & 3900 & 40 & United-States & <=50K\\\\\n",
       "\t 34 & Private     & 216864 & HS-grad      &  9 & Divorced      & Other-service     & Unmarried      & White & Female & 0 & 3770 & 45 & United-States & <=50K\\\\\n",
       "\t 38 & Private     & 150601 & 10th         &  6 & Separated     & Adm-clerical      & Unmarried      & White & Male   & 0 & 3770 & 40 & United-States & <=50K\\\\\n",
       "\t 74 & State-gov   &  88638 & Doctorate    & 16 & Never-married & Prof-specialty    & Other-relative & White & Female & 0 & 3683 & 20 & United-States & >50K \\\\\n",
       "\t 68 & Federal-gov & 422013 & HS-grad      &  9 & Divorced      & Prof-specialty    & Not-in-family  & White & Female & 0 & 3683 & 40 & United-States & <=50K\\\\\n",
       "\t 41 & Private     &  70037 & Some-college & 10 & Never-married & Craft-repair      & Unmarried      & White & Male   & 0 & 3004 & 60 & ?             & >50K \\\\\n",
       "\\end{tabular}\n"
      ],
      "text/markdown": [
       "\n",
       "A tibble: 10 × 15\n",
       "\n",
       "| age &lt;dbl&gt; | workclass &lt;chr&gt; | fnlwgt &lt;dbl&gt; | education &lt;chr&gt; | education.num &lt;dbl&gt; | marital.status &lt;chr&gt; | occupation &lt;chr&gt; | relationship &lt;chr&gt; | race &lt;chr&gt; | sex &lt;chr&gt; | capital.gain &lt;dbl&gt; | capital.loss &lt;dbl&gt; | hours.per.week &lt;dbl&gt; | native.country &lt;chr&gt; | income &lt;chr&gt; |\n",
       "|---|---|---|---|---|---|---|---|---|---|---|---|---|---|---|\n",
       "| 90 | ?           |  77053 | HS-grad      |  9 | Widowed       | ?                 | Not-in-family  | White | Female | 0 | 4356 | 40 | United-States | &lt;=50K |\n",
       "| 82 | Private     | 132870 | HS-grad      |  9 | Widowed       | Exec-managerial   | Not-in-family  | White | Female | 0 | 4356 | 18 | United-States | &lt;=50K |\n",
       "| 66 | ?           | 186061 | Some-college | 10 | Widowed       | ?                 | Unmarried      | Black | Female | 0 | 4356 | 40 | United-States | &lt;=50K |\n",
       "| 54 | Private     | 140359 | 7th-8th      |  4 | Divorced      | Machine-op-inspct | Unmarried      | White | Female | 0 | 3900 | 40 | United-States | &lt;=50K |\n",
       "| 41 | Private     | 264663 | Some-college | 10 | Separated     | Prof-specialty    | Own-child      | White | Female | 0 | 3900 | 40 | United-States | &lt;=50K |\n",
       "| 34 | Private     | 216864 | HS-grad      |  9 | Divorced      | Other-service     | Unmarried      | White | Female | 0 | 3770 | 45 | United-States | &lt;=50K |\n",
       "| 38 | Private     | 150601 | 10th         |  6 | Separated     | Adm-clerical      | Unmarried      | White | Male   | 0 | 3770 | 40 | United-States | &lt;=50K |\n",
       "| 74 | State-gov   |  88638 | Doctorate    | 16 | Never-married | Prof-specialty    | Other-relative | White | Female | 0 | 3683 | 20 | United-States | &gt;50K  |\n",
       "| 68 | Federal-gov | 422013 | HS-grad      |  9 | Divorced      | Prof-specialty    | Not-in-family  | White | Female | 0 | 3683 | 40 | United-States | &lt;=50K |\n",
       "| 41 | Private     |  70037 | Some-college | 10 | Never-married | Craft-repair      | Unmarried      | White | Male   | 0 | 3004 | 60 | ?             | &gt;50K  |\n",
       "\n"
      ],
      "text/plain": [
       "   age workclass   fnlwgt education    education.num marital.status\n",
       "1  90  ?            77053 HS-grad       9            Widowed       \n",
       "2  82  Private     132870 HS-grad       9            Widowed       \n",
       "3  66  ?           186061 Some-college 10            Widowed       \n",
       "4  54  Private     140359 7th-8th       4            Divorced      \n",
       "5  41  Private     264663 Some-college 10            Separated     \n",
       "6  34  Private     216864 HS-grad       9            Divorced      \n",
       "7  38  Private     150601 10th          6            Separated     \n",
       "8  74  State-gov    88638 Doctorate    16            Never-married \n",
       "9  68  Federal-gov 422013 HS-grad       9            Divorced      \n",
       "10 41  Private      70037 Some-college 10            Never-married \n",
       "   occupation        relationship   race  sex    capital.gain capital.loss\n",
       "1  ?                 Not-in-family  White Female 0            4356        \n",
       "2  Exec-managerial   Not-in-family  White Female 0            4356        \n",
       "3  ?                 Unmarried      Black Female 0            4356        \n",
       "4  Machine-op-inspct Unmarried      White Female 0            3900        \n",
       "5  Prof-specialty    Own-child      White Female 0            3900        \n",
       "6  Other-service     Unmarried      White Female 0            3770        \n",
       "7  Adm-clerical      Unmarried      White Male   0            3770        \n",
       "8  Prof-specialty    Other-relative White Female 0            3683        \n",
       "9  Prof-specialty    Not-in-family  White Female 0            3683        \n",
       "10 Craft-repair      Unmarried      White Male   0            3004        \n",
       "   hours.per.week native.country income\n",
       "1  40             United-States  <=50K \n",
       "2  18             United-States  <=50K \n",
       "3  40             United-States  <=50K \n",
       "4  40             United-States  <=50K \n",
       "5  40             United-States  <=50K \n",
       "6  45             United-States  <=50K \n",
       "7  40             United-States  <=50K \n",
       "8  20             United-States  >50K  \n",
       "9  40             United-States  <=50K \n",
       "10 60             ?              >50K  "
      ]
     },
     "metadata": {},
     "output_type": "display_data"
    }
   ],
   "source": [
    "# load dataset\n",
    "# Main developer: Lily\n",
    "# Contributor: Manuella, Una, Kaiwei\n",
    "data <- read_csv(\"adult.csv\")\n",
    "\n",
    "head(data, 10)"
   ]
  },
  {
   "cell_type": "code",
   "execution_count": 3,
   "id": "72c9badd-e0e5-454f-9bd4-4eb56dcac226",
   "metadata": {},
   "outputs": [
    {
     "data": {
      "text/html": [
       "0"
      ],
      "text/latex": [
       "0"
      ],
      "text/markdown": [
       "0"
      ],
      "text/plain": [
       "[1] 0"
      ]
     },
     "metadata": {},
     "output_type": "display_data"
    },
    {
     "data": {
      "text/html": [
       "0"
      ],
      "text/latex": [
       "0"
      ],
      "text/markdown": [
       "0"
      ],
      "text/plain": [
       "[1] 0"
      ]
     },
     "metadata": {},
     "output_type": "display_data"
    },
    {
     "data": {
      "text/html": [
       "0"
      ],
      "text/latex": [
       "0"
      ],
      "text/markdown": [
       "0"
      ],
      "text/plain": [
       "[1] 0"
      ]
     },
     "metadata": {},
     "output_type": "display_data"
    }
   ],
   "source": [
    "# check for any missing values\n",
    "# Main developer: Lily\n",
    "# Contributor: Manuella, Una, Kaiwei\n",
    "missing_status <- sum(is.na(data$marital.status))\n",
    "missing_status\n",
    "\n",
    "missing_gender <- sum(is.na(data$sex))\n",
    "missing_gender\n",
    "\n",
    "missing_income <- sum(is.na(data$income))\n",
    "missing_income"
   ]
  },
  {
   "cell_type": "markdown",
   "id": "de342c3e-7a5b-40d4-b766-eb250d470da9",
   "metadata": {},
   "source": [
    "The step above checks that there are no missing values for each of the variables."
   ]
  },
  {
   "cell_type": "code",
   "execution_count": 4,
   "id": "976c3f7a-0179-499d-bc76-e00f3a8d1fcf",
   "metadata": {},
   "outputs": [],
   "source": [
    "# Main developer: Lily\n",
    "# Contributor: Manuella, Una, Kaiwei\n",
    "data_filtered <- data %>%\n",
    "    filter(marital.status == \"Married-civ-spouse\" | marital.status == \"Married-AF-spouse\" | marital.status == \"Married-spouse-absent\")\n",
    "\n",
    "data_filtered <- data_filtered %>%\n",
    "    mutate(income = ifelse(income == \">50K\", 1, 0))"
   ]
  },
  {
   "cell_type": "markdown",
   "id": "8b48efd8-4927-4786-bd91-59befcb37c5e",
   "metadata": {},
   "source": [
    "### “Methods: Plan”"
   ]
  },
  {
   "cell_type": "markdown",
   "id": "9072b39c-f605-4588-a246-d9037ec6f1d8",
   "metadata": {},
   "source": [
    "A logistic regression model is used to answer whether married men are more likely to earn >50k than married women. This model is appropriate since the dependent variable `income` is binary, and the logistic model is used to estimate and test the true relation between different types of variables and a binary response. It can predict whether `income` is `>50K` or `<=50K` and also the probability of the binary responses. We are able to measure the likelihood of earning more than $50K for the two genders  with this probability. The logistic regression model allows us to include multiple independent input variables, which can eliminate any confounding effects that some variables may have. \n",
    "\n",
    "When using the logistic regression model, we assume that each observation in the dataset is independent. We also assume that there is a linear relationship between the explanatory and response variables. Third, multicollinearity should not exist in the logistic regression model, that is the independent input variables in the model are not highly correlated to one another. Multicollinearity can inflate standard errors which lead to unreliable estimates.\n",
    "\n",
    "There are potential limitations/weaknesses in the logistic regression model. When we exclude input variables that are related to `income` but not related to the question to be answered, it could lead to biased estimates. For example, if we decide not to include `education.num` which significantly improves the goodness of fit of the model, we could overestimate the effect that gender has on `income`. In addition, the logistic regression may fail if the relation between variables is too complex. It assumes the input variables have additive effects on the response variable, and we would have to state the complex interactions between variables if they exist. Finally, if too many variables are included in the model, it would be overfitted."
   ]
  },
  {
   "cell_type": "code",
   "execution_count": 5,
   "id": "f00906d7-f35a-4a97-a648-6cbbd3508eb3",
   "metadata": {},
   "outputs": [
    {
     "data": {
      "text/html": [
       "<table class=\"dataframe\">\n",
       "<caption>A matrix: 2 × 4 of type dbl</caption>\n",
       "<thead>\n",
       "\t<tr><th></th><th scope=col>Estimate</th><th scope=col>Std. Error</th><th scope=col>z value</th><th scope=col>Pr(&gt;|z|)</th></tr>\n",
       "</thead>\n",
       "<tbody>\n",
       "\t<tr><th scope=row>(Intercept)</th><td>-0.3599122</td><td>0.04692541</td><td>-7.669879</td><td>1.721583e-14</td></tr>\n",
       "\t<tr><th scope=row>sexMale</th><td> 0.1208359</td><td>0.05001634</td><td> 2.415929</td><td>1.569512e-02</td></tr>\n",
       "</tbody>\n",
       "</table>\n"
      ],
      "text/latex": [
       "A matrix: 2 × 4 of type dbl\n",
       "\\begin{tabular}{r|llll}\n",
       "  & Estimate & Std. Error & z value & Pr(>\\textbar{}z\\textbar{})\\\\\n",
       "\\hline\n",
       "\t(Intercept) & -0.3599122 & 0.04692541 & -7.669879 & 1.721583e-14\\\\\n",
       "\tsexMale &  0.1208359 & 0.05001634 &  2.415929 & 1.569512e-02\\\\\n",
       "\\end{tabular}\n"
      ],
      "text/markdown": [
       "\n",
       "A matrix: 2 × 4 of type dbl\n",
       "\n",
       "| <!--/--> | Estimate | Std. Error | z value | Pr(&gt;|z|) |\n",
       "|---|---|---|---|---|\n",
       "| (Intercept) | -0.3599122 | 0.04692541 | -7.669879 | 1.721583e-14 |\n",
       "| sexMale |  0.1208359 | 0.05001634 |  2.415929 | 1.569512e-02 |\n",
       "\n"
      ],
      "text/plain": [
       "            Estimate   Std. Error z value   Pr(>|z|)    \n",
       "(Intercept) -0.3599122 0.04692541 -7.669879 1.721583e-14\n",
       "sexMale      0.1208359 0.05001634  2.415929 1.569512e-02"
      ]
     },
     "metadata": {},
     "output_type": "display_data"
    }
   ],
   "source": [
    "# Main developer: Lily\n",
    "# Contributor: Manuella, Una, Kaiwei\n",
    "log_model <- glm(income ~ sex, data = data_filtered, family = binomial)\n",
    "\n",
    "summary(log_model)$coefficients"
   ]
  },
  {
   "cell_type": "markdown",
   "id": "6c0c1163-4478-4543-9b64-42cedd98ccbd",
   "metadata": {},
   "source": [
    "To determine whether other variables (eg. confounding variables) other than `sex` should be added to the regression model, we would perform a Likelihood Ratio Test. This would determine the goodness of fit of the simple model with only `sex` as the input variable and another model with multiple additive input variables, and it would be compared if adding multiple variables significantly improves the goodness of fit. "
   ]
  },
  {
   "cell_type": "code",
   "execution_count": 6,
   "id": "3d9e6d97-dde6-4dcb-ae27-974581c17819",
   "metadata": {},
   "outputs": [
    {
     "data": {
      "text/html": [
       "<table class=\"dataframe\">\n",
       "<caption>A tibble: 2 × 5</caption>\n",
       "<thead>\n",
       "\t<tr><th scope=col>term</th><th scope=col>estimate</th><th scope=col>std.error</th><th scope=col>statistic</th><th scope=col>p.value</th></tr>\n",
       "\t<tr><th scope=col>&lt;chr&gt;</th><th scope=col>&lt;dbl&gt;</th><th scope=col>&lt;dbl&gt;</th><th scope=col>&lt;dbl&gt;</th><th scope=col>&lt;dbl&gt;</th></tr>\n",
       "</thead>\n",
       "<tbody>\n",
       "\t<tr><td>(Intercept)</td><td>0.698</td><td>0.047</td><td>-7.670</td><td>0.000</td></tr>\n",
       "\t<tr><td>sexMale    </td><td>1.128</td><td>0.050</td><td> 2.416</td><td>0.016</td></tr>\n",
       "</tbody>\n",
       "</table>\n"
      ],
      "text/latex": [
       "A tibble: 2 × 5\n",
       "\\begin{tabular}{lllll}\n",
       " term & estimate & std.error & statistic & p.value\\\\\n",
       " <chr> & <dbl> & <dbl> & <dbl> & <dbl>\\\\\n",
       "\\hline\n",
       "\t (Intercept) & 0.698 & 0.047 & -7.670 & 0.000\\\\\n",
       "\t sexMale     & 1.128 & 0.050 &  2.416 & 0.016\\\\\n",
       "\\end{tabular}\n"
      ],
      "text/markdown": [
       "\n",
       "A tibble: 2 × 5\n",
       "\n",
       "| term &lt;chr&gt; | estimate &lt;dbl&gt; | std.error &lt;dbl&gt; | statistic &lt;dbl&gt; | p.value &lt;dbl&gt; |\n",
       "|---|---|---|---|---|\n",
       "| (Intercept) | 0.698 | 0.047 | -7.670 | 0.000 |\n",
       "| sexMale     | 1.128 | 0.050 |  2.416 | 0.016 |\n",
       "\n"
      ],
      "text/plain": [
       "  term        estimate std.error statistic p.value\n",
       "1 (Intercept) 0.698    0.047     -7.670    0.000  \n",
       "2 sexMale     1.128    0.050      2.416    0.016  "
      ]
     },
     "metadata": {},
     "output_type": "display_data"
    },
    {
     "data": {
      "text/html": [
       "<table class=\"dataframe\">\n",
       "<caption>A tibble: 3 × 5</caption>\n",
       "<thead>\n",
       "\t<tr><th scope=col>term</th><th scope=col>estimate</th><th scope=col>std.error</th><th scope=col>statistic</th><th scope=col>p.value</th></tr>\n",
       "\t<tr><th scope=col>&lt;chr&gt;</th><th scope=col>&lt;dbl&gt;</th><th scope=col>&lt;dbl&gt;</th><th scope=col>&lt;dbl&gt;</th><th scope=col>&lt;dbl&gt;</th></tr>\n",
       "</thead>\n",
       "<tbody>\n",
       "\t<tr><td>(Intercept)   </td><td>0.246</td><td>0.073</td><td>-19.106</td><td>0.000</td></tr>\n",
       "\t<tr><td>sexMale       </td><td>0.923</td><td>0.052</td><td> -1.561</td><td>0.119</td></tr>\n",
       "\t<tr><td>hours.per.week</td><td>1.029</td><td>0.001</td><td> 18.795</td><td>0.000</td></tr>\n",
       "</tbody>\n",
       "</table>\n"
      ],
      "text/latex": [
       "A tibble: 3 × 5\n",
       "\\begin{tabular}{lllll}\n",
       " term & estimate & std.error & statistic & p.value\\\\\n",
       " <chr> & <dbl> & <dbl> & <dbl> & <dbl>\\\\\n",
       "\\hline\n",
       "\t (Intercept)    & 0.246 & 0.073 & -19.106 & 0.000\\\\\n",
       "\t sexMale        & 0.923 & 0.052 &  -1.561 & 0.119\\\\\n",
       "\t hours.per.week & 1.029 & 0.001 &  18.795 & 0.000\\\\\n",
       "\\end{tabular}\n"
      ],
      "text/markdown": [
       "\n",
       "A tibble: 3 × 5\n",
       "\n",
       "| term &lt;chr&gt; | estimate &lt;dbl&gt; | std.error &lt;dbl&gt; | statistic &lt;dbl&gt; | p.value &lt;dbl&gt; |\n",
       "|---|---|---|---|---|\n",
       "| (Intercept)    | 0.246 | 0.073 | -19.106 | 0.000 |\n",
       "| sexMale        | 0.923 | 0.052 |  -1.561 | 0.119 |\n",
       "| hours.per.week | 1.029 | 0.001 |  18.795 | 0.000 |\n",
       "\n"
      ],
      "text/plain": [
       "  term           estimate std.error statistic p.value\n",
       "1 (Intercept)    0.246    0.073     -19.106   0.000  \n",
       "2 sexMale        0.923    0.052      -1.561   0.119  \n",
       "3 hours.per.week 1.029    0.001      18.795   0.000  "
      ]
     },
     "metadata": {},
     "output_type": "display_data"
    }
   ],
   "source": [
    "# Main developer: Lily\n",
    "# Contributor: Manuella, Una, Kaiwei\n",
    "simple_log_model <- glm(income ~ sex, \n",
    "                        data = data_filtered, \n",
    "                        family = binomial)\n",
    "simple_log_model_tidy <- tidy(simple_log_model, exponentiate = TRUE) %>% \n",
    "    mutate_if(is.numeric, round, 3)\n",
    "\n",
    "two_log_model <- glm(income ~ sex + hours.per.week, \n",
    "                     data = data_filtered, \n",
    "                     family = binomial)\n",
    "two_log_model_tidy <- tidy(two_log_model, exponentiate = TRUE) %>% \n",
    "    mutate_if(is.numeric, round, 3)\n",
    "\n",
    "simple_log_model_tidy\n",
    "two_log_model_tidy"
   ]
  },
  {
   "cell_type": "code",
   "execution_count": 7,
   "id": "3038a3c3-798a-4af5-9a64-cbe449314d12",
   "metadata": {},
   "outputs": [
    {
     "data": {
      "text/html": [
       "<table class=\"dataframe\">\n",
       "<caption>A anova: 2 × 5</caption>\n",
       "<thead>\n",
       "\t<tr><th></th><th scope=col>Resid. Df</th><th scope=col>Resid. Dev</th><th scope=col>Df</th><th scope=col>Deviance</th><th scope=col>Pr(&gt;Chi)</th></tr>\n",
       "\t<tr><th></th><th scope=col>&lt;dbl&gt;</th><th scope=col>&lt;dbl&gt;</th><th scope=col>&lt;dbl&gt;</th><th scope=col>&lt;dbl&gt;</th><th scope=col>&lt;dbl&gt;</th></tr>\n",
       "</thead>\n",
       "<tbody>\n",
       "\t<tr><th scope=row>1</th><td>15415</td><td>21120.60</td><td>NA</td><td>      NA</td><td>          NA</td></tr>\n",
       "\t<tr><th scope=row>2</th><td>15414</td><td>20739.61</td><td> 1</td><td>380.9931</td><td>7.563833e-85</td></tr>\n",
       "</tbody>\n",
       "</table>\n"
      ],
      "text/latex": [
       "A anova: 2 × 5\n",
       "\\begin{tabular}{r|lllll}\n",
       "  & Resid. Df & Resid. Dev & Df & Deviance & Pr(>Chi)\\\\\n",
       "  & <dbl> & <dbl> & <dbl> & <dbl> & <dbl>\\\\\n",
       "\\hline\n",
       "\t1 & 15415 & 21120.60 & NA &       NA &           NA\\\\\n",
       "\t2 & 15414 & 20739.61 &  1 & 380.9931 & 7.563833e-85\\\\\n",
       "\\end{tabular}\n"
      ],
      "text/markdown": [
       "\n",
       "A anova: 2 × 5\n",
       "\n",
       "| <!--/--> | Resid. Df &lt;dbl&gt; | Resid. Dev &lt;dbl&gt; | Df &lt;dbl&gt; | Deviance &lt;dbl&gt; | Pr(&gt;Chi) &lt;dbl&gt; |\n",
       "|---|---|---|---|---|---|\n",
       "| 1 | 15415 | 21120.60 | NA |       NA |           NA |\n",
       "| 2 | 15414 | 20739.61 |  1 | 380.9931 | 7.563833e-85 |\n",
       "\n"
      ],
      "text/plain": [
       "  Resid. Df Resid. Dev Df Deviance Pr(>Chi)    \n",
       "1 15415     21120.60   NA       NA           NA\n",
       "2 15414     20739.61    1 380.9931 7.563833e-85"
      ]
     },
     "metadata": {},
     "output_type": "display_data"
    }
   ],
   "source": [
    "# Computing the likelihood ratio test between a single additive input variable and two variables model to measure goodness of fit\n",
    "# Main developer: Lily\n",
    "# Contributor: Manuella, Una, Kaiwei\n",
    "compare_result <- anova(simple_log_model, two_log_model, test = \"LRT\")\n",
    "\n",
    "compare_result"
   ]
  },
  {
   "cell_type": "markdown",
   "id": "73961841-fadc-4e75-8efd-bd0b8bd85db1",
   "metadata": {},
   "source": [
    "After adding `hours.per.week` to the model, the estimate for `sexMale` changed from 0.1208 to -0.0807. This suggests that maybe men are more likely to earn over $50K because they are working more hours per week, making `hours.per.week` a confounding variable. Also, the analysis of the deviance table shows that the residual deviance decreased when `hours.per.week` is added, indicating that this variable significantly improves the model's fit."
   ]
  },
  {
   "cell_type": "markdown",
   "id": "71b38ef9-cd7d-44a0-8963-81fe4f36d1dd",
   "metadata": {},
   "source": [
    "Adding another variable to the model, `education.num`."
   ]
  },
  {
   "cell_type": "code",
   "execution_count": 8,
   "id": "47cc252b-2be7-43de-b89c-7d0b4f4a1053",
   "metadata": {},
   "outputs": [
    {
     "data": {
      "text/html": [
       "<table class=\"dataframe\">\n",
       "<caption>A tibble: 3 × 5</caption>\n",
       "<thead>\n",
       "\t<tr><th scope=col>term</th><th scope=col>estimate</th><th scope=col>std.error</th><th scope=col>statistic</th><th scope=col>p.value</th></tr>\n",
       "\t<tr><th scope=col>&lt;chr&gt;</th><th scope=col>&lt;dbl&gt;</th><th scope=col>&lt;dbl&gt;</th><th scope=col>&lt;dbl&gt;</th><th scope=col>&lt;dbl&gt;</th></tr>\n",
       "</thead>\n",
       "<tbody>\n",
       "\t<tr><td>(Intercept)   </td><td>0.246</td><td>0.073</td><td>-19.106</td><td>0.000</td></tr>\n",
       "\t<tr><td>sexMale       </td><td>0.923</td><td>0.052</td><td> -1.561</td><td>0.119</td></tr>\n",
       "\t<tr><td>hours.per.week</td><td>1.029</td><td>0.001</td><td> 18.795</td><td>0.000</td></tr>\n",
       "</tbody>\n",
       "</table>\n"
      ],
      "text/latex": [
       "A tibble: 3 × 5\n",
       "\\begin{tabular}{lllll}\n",
       " term & estimate & std.error & statistic & p.value\\\\\n",
       " <chr> & <dbl> & <dbl> & <dbl> & <dbl>\\\\\n",
       "\\hline\n",
       "\t (Intercept)    & 0.246 & 0.073 & -19.106 & 0.000\\\\\n",
       "\t sexMale        & 0.923 & 0.052 &  -1.561 & 0.119\\\\\n",
       "\t hours.per.week & 1.029 & 0.001 &  18.795 & 0.000\\\\\n",
       "\\end{tabular}\n"
      ],
      "text/markdown": [
       "\n",
       "A tibble: 3 × 5\n",
       "\n",
       "| term &lt;chr&gt; | estimate &lt;dbl&gt; | std.error &lt;dbl&gt; | statistic &lt;dbl&gt; | p.value &lt;dbl&gt; |\n",
       "|---|---|---|---|---|\n",
       "| (Intercept)    | 0.246 | 0.073 | -19.106 | 0.000 |\n",
       "| sexMale        | 0.923 | 0.052 |  -1.561 | 0.119 |\n",
       "| hours.per.week | 1.029 | 0.001 |  18.795 | 0.000 |\n",
       "\n"
      ],
      "text/plain": [
       "  term           estimate std.error statistic p.value\n",
       "1 (Intercept)    0.246    0.073     -19.106   0.000  \n",
       "2 sexMale        0.923    0.052      -1.561   0.119  \n",
       "3 hours.per.week 1.029    0.001      18.795   0.000  "
      ]
     },
     "metadata": {},
     "output_type": "display_data"
    },
    {
     "data": {
      "text/html": [
       "<table class=\"dataframe\">\n",
       "<caption>A tibble: 4 × 5</caption>\n",
       "<thead>\n",
       "\t<tr><th scope=col>term</th><th scope=col>estimate</th><th scope=col>std.error</th><th scope=col>statistic</th><th scope=col>p.value</th></tr>\n",
       "\t<tr><th scope=col>&lt;chr&gt;</th><th scope=col>&lt;dbl&gt;</th><th scope=col>&lt;dbl&gt;</th><th scope=col>&lt;dbl&gt;</th><th scope=col>&lt;dbl&gt;</th></tr>\n",
       "</thead>\n",
       "<tbody>\n",
       "\t<tr><td>(Intercept)   </td><td>0.007</td><td>0.116</td><td>-43.289</td><td>0.000</td></tr>\n",
       "\t<tr><td>sexMale       </td><td>0.960</td><td>0.056</td><td> -0.735</td><td>0.463</td></tr>\n",
       "\t<tr><td>hours.per.week</td><td>1.024</td><td>0.002</td><td> 15.243</td><td>0.000</td></tr>\n",
       "\t<tr><td>education.num </td><td>1.431</td><td>0.008</td><td> 44.704</td><td>0.000</td></tr>\n",
       "</tbody>\n",
       "</table>\n"
      ],
      "text/latex": [
       "A tibble: 4 × 5\n",
       "\\begin{tabular}{lllll}\n",
       " term & estimate & std.error & statistic & p.value\\\\\n",
       " <chr> & <dbl> & <dbl> & <dbl> & <dbl>\\\\\n",
       "\\hline\n",
       "\t (Intercept)    & 0.007 & 0.116 & -43.289 & 0.000\\\\\n",
       "\t sexMale        & 0.960 & 0.056 &  -0.735 & 0.463\\\\\n",
       "\t hours.per.week & 1.024 & 0.002 &  15.243 & 0.000\\\\\n",
       "\t education.num  & 1.431 & 0.008 &  44.704 & 0.000\\\\\n",
       "\\end{tabular}\n"
      ],
      "text/markdown": [
       "\n",
       "A tibble: 4 × 5\n",
       "\n",
       "| term &lt;chr&gt; | estimate &lt;dbl&gt; | std.error &lt;dbl&gt; | statistic &lt;dbl&gt; | p.value &lt;dbl&gt; |\n",
       "|---|---|---|---|---|\n",
       "| (Intercept)    | 0.007 | 0.116 | -43.289 | 0.000 |\n",
       "| sexMale        | 0.960 | 0.056 |  -0.735 | 0.463 |\n",
       "| hours.per.week | 1.024 | 0.002 |  15.243 | 0.000 |\n",
       "| education.num  | 1.431 | 0.008 |  44.704 | 0.000 |\n",
       "\n"
      ],
      "text/plain": [
       "  term           estimate std.error statistic p.value\n",
       "1 (Intercept)    0.007    0.116     -43.289   0.000  \n",
       "2 sexMale        0.960    0.056      -0.735   0.463  \n",
       "3 hours.per.week 1.024    0.002      15.243   0.000  \n",
       "4 education.num  1.431    0.008      44.704   0.000  "
      ]
     },
     "metadata": {},
     "output_type": "display_data"
    }
   ],
   "source": [
    "# Creating a three variables logistic model\n",
    "# Main developer: Lily\n",
    "# Contributor: Manuella, Una, Kaiwei\n",
    "three_log_model <- glm(income ~ sex + hours.per.week + education.num, \n",
    "                       data = data_filtered, \n",
    "                       family = binomial)\n",
    "\n",
    "three_log_model_tidy <- tidy(three_log_model, exponentiate = TRUE) %>% \n",
    "    mutate_if(is.numeric, round, 3)\n",
    "\n",
    "two_log_model_tidy\n",
    "three_log_model_tidy"
   ]
  },
  {
   "cell_type": "code",
   "execution_count": 9,
   "id": "438bb22a-db4a-4b29-aa6c-a8fd466bc779",
   "metadata": {},
   "outputs": [
    {
     "data": {
      "text/html": [
       "<table class=\"dataframe\">\n",
       "<caption>A anova: 2 × 5</caption>\n",
       "<thead>\n",
       "\t<tr><th></th><th scope=col>Resid. Df</th><th scope=col>Resid. Dev</th><th scope=col>Df</th><th scope=col>Deviance</th><th scope=col>Pr(&gt;Chi)</th></tr>\n",
       "\t<tr><th></th><th scope=col>&lt;dbl&gt;</th><th scope=col>&lt;dbl&gt;</th><th scope=col>&lt;dbl&gt;</th><th scope=col>&lt;dbl&gt;</th><th scope=col>&lt;dbl&gt;</th></tr>\n",
       "</thead>\n",
       "<tbody>\n",
       "\t<tr><th scope=row>1</th><td>15414</td><td>20739.61</td><td>NA</td><td>      NA</td><td>NA</td></tr>\n",
       "\t<tr><th scope=row>2</th><td>15413</td><td>18160.93</td><td> 1</td><td>2578.671</td><td> 0</td></tr>\n",
       "</tbody>\n",
       "</table>\n"
      ],
      "text/latex": [
       "A anova: 2 × 5\n",
       "\\begin{tabular}{r|lllll}\n",
       "  & Resid. Df & Resid. Dev & Df & Deviance & Pr(>Chi)\\\\\n",
       "  & <dbl> & <dbl> & <dbl> & <dbl> & <dbl>\\\\\n",
       "\\hline\n",
       "\t1 & 15414 & 20739.61 & NA &       NA & NA\\\\\n",
       "\t2 & 15413 & 18160.93 &  1 & 2578.671 &  0\\\\\n",
       "\\end{tabular}\n"
      ],
      "text/markdown": [
       "\n",
       "A anova: 2 × 5\n",
       "\n",
       "| <!--/--> | Resid. Df &lt;dbl&gt; | Resid. Dev &lt;dbl&gt; | Df &lt;dbl&gt; | Deviance &lt;dbl&gt; | Pr(&gt;Chi) &lt;dbl&gt; |\n",
       "|---|---|---|---|---|---|\n",
       "| 1 | 15414 | 20739.61 | NA |       NA | NA |\n",
       "| 2 | 15413 | 18160.93 |  1 | 2578.671 |  0 |\n",
       "\n"
      ],
      "text/plain": [
       "  Resid. Df Resid. Dev Df Deviance Pr(>Chi)\n",
       "1 15414     20739.61   NA       NA NA      \n",
       "2 15413     18160.93    1 2578.671  0      "
      ]
     },
     "metadata": {},
     "output_type": "display_data"
    }
   ],
   "source": [
    "# Computing the LRT between two and three additive variables model to measure goodness of fit\n",
    "# Main developer: Lily\n",
    "# Contributor: Manuella, Una, Kaiwei\n",
    "compare_result <- anova(two_log_model, three_log_model, test = \"LRT\")\n",
    "\n",
    "compare_result"
   ]
  },
  {
   "cell_type": "markdown",
   "id": "9a15e7fe-1a85-43b1-8669-2a9982ea0625",
   "metadata": {},
   "source": [
    "Here, the residual deviance after adding `education.num` decreased, indicating that this variable significantly improves the model's fit."
   ]
  },
  {
   "cell_type": "markdown",
   "id": "e40029d6-bae5-4f51-875b-da30fdd5cb76",
   "metadata": {},
   "source": [
    "Adding one more variable, `occupation`."
   ]
  },
  {
   "cell_type": "code",
   "execution_count": 10,
   "id": "0ccdc1ac-b2db-418c-9e3b-71190284b324",
   "metadata": {},
   "outputs": [
    {
     "data": {
      "text/html": [
       "<table class=\"dataframe\">\n",
       "<caption>A tibble: 4 × 5</caption>\n",
       "<thead>\n",
       "\t<tr><th scope=col>term</th><th scope=col>estimate</th><th scope=col>std.error</th><th scope=col>statistic</th><th scope=col>p.value</th></tr>\n",
       "\t<tr><th scope=col>&lt;chr&gt;</th><th scope=col>&lt;dbl&gt;</th><th scope=col>&lt;dbl&gt;</th><th scope=col>&lt;dbl&gt;</th><th scope=col>&lt;dbl&gt;</th></tr>\n",
       "</thead>\n",
       "<tbody>\n",
       "\t<tr><td>(Intercept)   </td><td>0.007</td><td>0.116</td><td>-43.289</td><td>0.000</td></tr>\n",
       "\t<tr><td>sexMale       </td><td>0.960</td><td>0.056</td><td> -0.735</td><td>0.463</td></tr>\n",
       "\t<tr><td>hours.per.week</td><td>1.024</td><td>0.002</td><td> 15.243</td><td>0.000</td></tr>\n",
       "\t<tr><td>education.num </td><td>1.431</td><td>0.008</td><td> 44.704</td><td>0.000</td></tr>\n",
       "</tbody>\n",
       "</table>\n"
      ],
      "text/latex": [
       "A tibble: 4 × 5\n",
       "\\begin{tabular}{lllll}\n",
       " term & estimate & std.error & statistic & p.value\\\\\n",
       " <chr> & <dbl> & <dbl> & <dbl> & <dbl>\\\\\n",
       "\\hline\n",
       "\t (Intercept)    & 0.007 & 0.116 & -43.289 & 0.000\\\\\n",
       "\t sexMale        & 0.960 & 0.056 &  -0.735 & 0.463\\\\\n",
       "\t hours.per.week & 1.024 & 0.002 &  15.243 & 0.000\\\\\n",
       "\t education.num  & 1.431 & 0.008 &  44.704 & 0.000\\\\\n",
       "\\end{tabular}\n"
      ],
      "text/markdown": [
       "\n",
       "A tibble: 4 × 5\n",
       "\n",
       "| term &lt;chr&gt; | estimate &lt;dbl&gt; | std.error &lt;dbl&gt; | statistic &lt;dbl&gt; | p.value &lt;dbl&gt; |\n",
       "|---|---|---|---|---|\n",
       "| (Intercept)    | 0.007 | 0.116 | -43.289 | 0.000 |\n",
       "| sexMale        | 0.960 | 0.056 |  -0.735 | 0.463 |\n",
       "| hours.per.week | 1.024 | 0.002 |  15.243 | 0.000 |\n",
       "| education.num  | 1.431 | 0.008 |  44.704 | 0.000 |\n",
       "\n"
      ],
      "text/plain": [
       "  term           estimate std.error statistic p.value\n",
       "1 (Intercept)    0.007    0.116     -43.289   0.000  \n",
       "2 sexMale        0.960    0.056      -0.735   0.463  \n",
       "3 hours.per.week 1.024    0.002      15.243   0.000  \n",
       "4 education.num  1.431    0.008      44.704   0.000  "
      ]
     },
     "metadata": {},
     "output_type": "display_data"
    },
    {
     "data": {
      "text/html": [
       "<table class=\"dataframe\">\n",
       "<caption>A tibble: 18 × 5</caption>\n",
       "<thead>\n",
       "\t<tr><th scope=col>term</th><th scope=col>estimate</th><th scope=col>std.error</th><th scope=col>statistic</th><th scope=col>p.value</th></tr>\n",
       "\t<tr><th scope=col>&lt;chr&gt;</th><th scope=col>&lt;dbl&gt;</th><th scope=col>&lt;dbl&gt;</th><th scope=col>&lt;dbl&gt;</th><th scope=col>&lt;dbl&gt;</th></tr>\n",
       "</thead>\n",
       "<tbody>\n",
       "\t<tr><td>(Intercept)                </td><td>0.011</td><td>  0.150</td><td>-30.269</td><td>0.000</td></tr>\n",
       "\t<tr><td>sexMale                    </td><td>0.983</td><td>  0.061</td><td> -0.290</td><td>0.772</td></tr>\n",
       "\t<tr><td>hours.per.week             </td><td>1.023</td><td>  0.002</td><td> 13.518</td><td>0.000</td></tr>\n",
       "\t<tr><td>education.num              </td><td>1.311</td><td>  0.009</td><td> 29.003</td><td>0.000</td></tr>\n",
       "\t<tr><td>occupationAdm-clerical     </td><td>1.671</td><td>  0.115</td><td>  4.466</td><td>0.000</td></tr>\n",
       "\t<tr><td>occupationArmed-Forces     </td><td>1.020</td><td>  1.297</td><td>  0.015</td><td>0.988</td></tr>\n",
       "\t<tr><td>occupationCraft-repair     </td><td>1.332</td><td>  0.106</td><td>  2.708</td><td>0.007</td></tr>\n",
       "\t<tr><td>occupationExec-managerial  </td><td>3.233</td><td>  0.106</td><td> 11.048</td><td>0.000</td></tr>\n",
       "\t<tr><td>occupationFarming-fishing  </td><td>0.471</td><td>  0.152</td><td> -4.961</td><td>0.000</td></tr>\n",
       "\t<tr><td>occupationHandlers-cleaners</td><td>0.631</td><td>  0.159</td><td> -2.895</td><td>0.004</td></tr>\n",
       "\t<tr><td>occupationMachine-op-inspct</td><td>1.017</td><td>  0.123</td><td>  0.134</td><td>0.894</td></tr>\n",
       "\t<tr><td>occupationOther-service    </td><td>0.498</td><td>  0.143</td><td> -4.875</td><td>0.000</td></tr>\n",
       "\t<tr><td>occupationPriv-house-serv  </td><td>0.000</td><td>106.616</td><td> -0.117</td><td>0.907</td></tr>\n",
       "\t<tr><td>occupationProf-specialty   </td><td>2.439</td><td>  0.109</td><td>  8.176</td><td>0.000</td></tr>\n",
       "\t<tr><td>occupationProtective-serv  </td><td>1.886</td><td>  0.143</td><td>  4.438</td><td>0.000</td></tr>\n",
       "\t<tr><td>occupationSales            </td><td>1.848</td><td>  0.109</td><td>  5.646</td><td>0.000</td></tr>\n",
       "\t<tr><td>occupationTech-support     </td><td>2.845</td><td>  0.140</td><td>  7.449</td><td>0.000</td></tr>\n",
       "\t<tr><td>occupationTransport-moving </td><td>1.179</td><td>  0.121</td><td>  1.358</td><td>0.174</td></tr>\n",
       "</tbody>\n",
       "</table>\n"
      ],
      "text/latex": [
       "A tibble: 18 × 5\n",
       "\\begin{tabular}{lllll}\n",
       " term & estimate & std.error & statistic & p.value\\\\\n",
       " <chr> & <dbl> & <dbl> & <dbl> & <dbl>\\\\\n",
       "\\hline\n",
       "\t (Intercept)                 & 0.011 &   0.150 & -30.269 & 0.000\\\\\n",
       "\t sexMale                     & 0.983 &   0.061 &  -0.290 & 0.772\\\\\n",
       "\t hours.per.week              & 1.023 &   0.002 &  13.518 & 0.000\\\\\n",
       "\t education.num               & 1.311 &   0.009 &  29.003 & 0.000\\\\\n",
       "\t occupationAdm-clerical      & 1.671 &   0.115 &   4.466 & 0.000\\\\\n",
       "\t occupationArmed-Forces      & 1.020 &   1.297 &   0.015 & 0.988\\\\\n",
       "\t occupationCraft-repair      & 1.332 &   0.106 &   2.708 & 0.007\\\\\n",
       "\t occupationExec-managerial   & 3.233 &   0.106 &  11.048 & 0.000\\\\\n",
       "\t occupationFarming-fishing   & 0.471 &   0.152 &  -4.961 & 0.000\\\\\n",
       "\t occupationHandlers-cleaners & 0.631 &   0.159 &  -2.895 & 0.004\\\\\n",
       "\t occupationMachine-op-inspct & 1.017 &   0.123 &   0.134 & 0.894\\\\\n",
       "\t occupationOther-service     & 0.498 &   0.143 &  -4.875 & 0.000\\\\\n",
       "\t occupationPriv-house-serv   & 0.000 & 106.616 &  -0.117 & 0.907\\\\\n",
       "\t occupationProf-specialty    & 2.439 &   0.109 &   8.176 & 0.000\\\\\n",
       "\t occupationProtective-serv   & 1.886 &   0.143 &   4.438 & 0.000\\\\\n",
       "\t occupationSales             & 1.848 &   0.109 &   5.646 & 0.000\\\\\n",
       "\t occupationTech-support      & 2.845 &   0.140 &   7.449 & 0.000\\\\\n",
       "\t occupationTransport-moving  & 1.179 &   0.121 &   1.358 & 0.174\\\\\n",
       "\\end{tabular}\n"
      ],
      "text/markdown": [
       "\n",
       "A tibble: 18 × 5\n",
       "\n",
       "| term &lt;chr&gt; | estimate &lt;dbl&gt; | std.error &lt;dbl&gt; | statistic &lt;dbl&gt; | p.value &lt;dbl&gt; |\n",
       "|---|---|---|---|---|\n",
       "| (Intercept)                 | 0.011 |   0.150 | -30.269 | 0.000 |\n",
       "| sexMale                     | 0.983 |   0.061 |  -0.290 | 0.772 |\n",
       "| hours.per.week              | 1.023 |   0.002 |  13.518 | 0.000 |\n",
       "| education.num               | 1.311 |   0.009 |  29.003 | 0.000 |\n",
       "| occupationAdm-clerical      | 1.671 |   0.115 |   4.466 | 0.000 |\n",
       "| occupationArmed-Forces      | 1.020 |   1.297 |   0.015 | 0.988 |\n",
       "| occupationCraft-repair      | 1.332 |   0.106 |   2.708 | 0.007 |\n",
       "| occupationExec-managerial   | 3.233 |   0.106 |  11.048 | 0.000 |\n",
       "| occupationFarming-fishing   | 0.471 |   0.152 |  -4.961 | 0.000 |\n",
       "| occupationHandlers-cleaners | 0.631 |   0.159 |  -2.895 | 0.004 |\n",
       "| occupationMachine-op-inspct | 1.017 |   0.123 |   0.134 | 0.894 |\n",
       "| occupationOther-service     | 0.498 |   0.143 |  -4.875 | 0.000 |\n",
       "| occupationPriv-house-serv   | 0.000 | 106.616 |  -0.117 | 0.907 |\n",
       "| occupationProf-specialty    | 2.439 |   0.109 |   8.176 | 0.000 |\n",
       "| occupationProtective-serv   | 1.886 |   0.143 |   4.438 | 0.000 |\n",
       "| occupationSales             | 1.848 |   0.109 |   5.646 | 0.000 |\n",
       "| occupationTech-support      | 2.845 |   0.140 |   7.449 | 0.000 |\n",
       "| occupationTransport-moving  | 1.179 |   0.121 |   1.358 | 0.174 |\n",
       "\n"
      ],
      "text/plain": [
       "   term                        estimate std.error statistic p.value\n",
       "1  (Intercept)                 0.011      0.150   -30.269   0.000  \n",
       "2  sexMale                     0.983      0.061    -0.290   0.772  \n",
       "3  hours.per.week              1.023      0.002    13.518   0.000  \n",
       "4  education.num               1.311      0.009    29.003   0.000  \n",
       "5  occupationAdm-clerical      1.671      0.115     4.466   0.000  \n",
       "6  occupationArmed-Forces      1.020      1.297     0.015   0.988  \n",
       "7  occupationCraft-repair      1.332      0.106     2.708   0.007  \n",
       "8  occupationExec-managerial   3.233      0.106    11.048   0.000  \n",
       "9  occupationFarming-fishing   0.471      0.152    -4.961   0.000  \n",
       "10 occupationHandlers-cleaners 0.631      0.159    -2.895   0.004  \n",
       "11 occupationMachine-op-inspct 1.017      0.123     0.134   0.894  \n",
       "12 occupationOther-service     0.498      0.143    -4.875   0.000  \n",
       "13 occupationPriv-house-serv   0.000    106.616    -0.117   0.907  \n",
       "14 occupationProf-specialty    2.439      0.109     8.176   0.000  \n",
       "15 occupationProtective-serv   1.886      0.143     4.438   0.000  \n",
       "16 occupationSales             1.848      0.109     5.646   0.000  \n",
       "17 occupationTech-support      2.845      0.140     7.449   0.000  \n",
       "18 occupationTransport-moving  1.179      0.121     1.358   0.174  "
      ]
     },
     "metadata": {},
     "output_type": "display_data"
    }
   ],
   "source": [
    "# Creating a four variables logistic model\n",
    "# Main developer: Lily\n",
    "# Contributor: Manuella, Una, Kaiwei\n",
    "four_log_model <- glm(income ~ sex + hours.per.week + education.num + occupation, \n",
    "                      data = data_filtered, \n",
    "                      family = binomial)\n",
    "\n",
    "four_log_model_tidy <- tidy(four_log_model, exponentiate = TRUE) %>% \n",
    "    mutate_if(is.numeric, round, 3)\n",
    "\n",
    "three_log_model_tidy\n",
    "four_log_model_tidy"
   ]
  },
  {
   "cell_type": "code",
   "execution_count": 11,
   "id": "98465590-dd56-4160-8627-0702930e1c79",
   "metadata": {},
   "outputs": [
    {
     "data": {
      "text/html": [
       "<table class=\"dataframe\">\n",
       "<caption>A anova: 2 × 5</caption>\n",
       "<thead>\n",
       "\t<tr><th></th><th scope=col>Resid. Df</th><th scope=col>Resid. Dev</th><th scope=col>Df</th><th scope=col>Deviance</th><th scope=col>Pr(&gt;Chi)</th></tr>\n",
       "\t<tr><th></th><th scope=col>&lt;dbl&gt;</th><th scope=col>&lt;dbl&gt;</th><th scope=col>&lt;dbl&gt;</th><th scope=col>&lt;dbl&gt;</th><th scope=col>&lt;dbl&gt;</th></tr>\n",
       "</thead>\n",
       "<tbody>\n",
       "\t<tr><th scope=row>1</th><td>15413</td><td>18160.93</td><td>NA</td><td>      NA</td><td>           NA</td></tr>\n",
       "\t<tr><th scope=row>2</th><td>15399</td><td>17436.78</td><td>14</td><td>724.1524</td><td>1.798895e-145</td></tr>\n",
       "</tbody>\n",
       "</table>\n"
      ],
      "text/latex": [
       "A anova: 2 × 5\n",
       "\\begin{tabular}{r|lllll}\n",
       "  & Resid. Df & Resid. Dev & Df & Deviance & Pr(>Chi)\\\\\n",
       "  & <dbl> & <dbl> & <dbl> & <dbl> & <dbl>\\\\\n",
       "\\hline\n",
       "\t1 & 15413 & 18160.93 & NA &       NA &            NA\\\\\n",
       "\t2 & 15399 & 17436.78 & 14 & 724.1524 & 1.798895e-145\\\\\n",
       "\\end{tabular}\n"
      ],
      "text/markdown": [
       "\n",
       "A anova: 2 × 5\n",
       "\n",
       "| <!--/--> | Resid. Df &lt;dbl&gt; | Resid. Dev &lt;dbl&gt; | Df &lt;dbl&gt; | Deviance &lt;dbl&gt; | Pr(&gt;Chi) &lt;dbl&gt; |\n",
       "|---|---|---|---|---|---|\n",
       "| 1 | 15413 | 18160.93 | NA |       NA |            NA |\n",
       "| 2 | 15399 | 17436.78 | 14 | 724.1524 | 1.798895e-145 |\n",
       "\n"
      ],
      "text/plain": [
       "  Resid. Df Resid. Dev Df Deviance Pr(>Chi)     \n",
       "1 15413     18160.93   NA       NA            NA\n",
       "2 15399     17436.78   14 724.1524 1.798895e-145"
      ]
     },
     "metadata": {},
     "output_type": "display_data"
    }
   ],
   "source": [
    "# Computing the LRT between the three variables and four variables model to measure goodness of fit\n",
    "# Main developer: Lily\n",
    "# Contributor: Manuella, Una, Kaiwei\n",
    "compare_result <- anova(three_log_model, four_log_model, test = \"LRT\")\n",
    "\n",
    "compare_result"
   ]
  },
  {
   "cell_type": "markdown",
   "id": "544aa4c7-ffd7-4e5f-aba7-cf96dc34db56",
   "metadata": {},
   "source": [
    "Here, the residual deviance after adding `occupation` decreased, indicating that this variable significantly improves the model's fit as well."
   ]
  },
  {
   "cell_type": "markdown",
   "id": "4637a84d-6dd6-4b9b-9717-02049c75f743",
   "metadata": {},
   "source": [
    "Looking at our last model with four input variables, it seems that `hours.per.week` and `occupation` may be interactive variables as occupations determine the hours worked per week.\n",
    "\n",
    "For the two models:\n",
    "- Null hypothesis: the interaction term (`hours.per.week * occupation`) does not improve the model's fit.\n",
    "- Alternative hypothesis: the interaction term significantly improves the model's fit."
   ]
  },
  {
   "cell_type": "code",
   "execution_count": 12,
   "id": "e8f2c5df-bd6e-48cc-93fc-5bca6f3b8c9a",
   "metadata": {},
   "outputs": [
    {
     "data": {
      "text/html": [
       "<table class=\"dataframe\">\n",
       "<caption>A anova: 2 × 5</caption>\n",
       "<thead>\n",
       "\t<tr><th></th><th scope=col>Resid. Df</th><th scope=col>Resid. Dev</th><th scope=col>Df</th><th scope=col>Deviance</th><th scope=col>Pr(&gt;Chi)</th></tr>\n",
       "\t<tr><th></th><th scope=col>&lt;dbl&gt;</th><th scope=col>&lt;dbl&gt;</th><th scope=col>&lt;dbl&gt;</th><th scope=col>&lt;dbl&gt;</th><th scope=col>&lt;dbl&gt;</th></tr>\n",
       "</thead>\n",
       "<tbody>\n",
       "\t<tr><th scope=row>1</th><td>15399</td><td>17436.78</td><td>NA</td><td>      NA</td><td>       NA</td></tr>\n",
       "\t<tr><th scope=row>2</th><td>15385</td><td>17423.46</td><td>14</td><td>13.32115</td><td>0.5014068</td></tr>\n",
       "</tbody>\n",
       "</table>\n"
      ],
      "text/latex": [
       "A anova: 2 × 5\n",
       "\\begin{tabular}{r|lllll}\n",
       "  & Resid. Df & Resid. Dev & Df & Deviance & Pr(>Chi)\\\\\n",
       "  & <dbl> & <dbl> & <dbl> & <dbl> & <dbl>\\\\\n",
       "\\hline\n",
       "\t1 & 15399 & 17436.78 & NA &       NA &        NA\\\\\n",
       "\t2 & 15385 & 17423.46 & 14 & 13.32115 & 0.5014068\\\\\n",
       "\\end{tabular}\n"
      ],
      "text/markdown": [
       "\n",
       "A anova: 2 × 5\n",
       "\n",
       "| <!--/--> | Resid. Df &lt;dbl&gt; | Resid. Dev &lt;dbl&gt; | Df &lt;dbl&gt; | Deviance &lt;dbl&gt; | Pr(&gt;Chi) &lt;dbl&gt; |\n",
       "|---|---|---|---|---|---|\n",
       "| 1 | 15399 | 17436.78 | NA |       NA |        NA |\n",
       "| 2 | 15385 | 17423.46 | 14 | 13.32115 | 0.5014068 |\n",
       "\n"
      ],
      "text/plain": [
       "  Resid. Df Resid. Dev Df Deviance Pr(>Chi) \n",
       "1 15399     17436.78   NA       NA        NA\n",
       "2 15385     17423.46   14 13.32115 0.5014068"
      ]
     },
     "metadata": {},
     "output_type": "display_data"
    }
   ],
   "source": [
    "# Main developer: Lily\n",
    "# Contributor: Manuella, Una, Kaiwei\n",
    "# Changing four variable additive model to interactive model for two variables\n",
    "four_log_model_interactive <- glm(income ~ sex + hours.per.week * occupation + education.num, \n",
    "                                  data = data_filtered, \n",
    "                                  family = binomial)\n",
    "\n",
    "\n",
    "# Computing the LRT between the four additive variables and four interactive variables model to measure goodness of fit\n",
    "compare_result <- anova(four_log_model, four_log_model_interactive, test = \"LRT\")\n",
    "\n",
    "compare_result"
   ]
  },
  {
   "cell_type": "markdown",
   "id": "8f30058c-670c-4209-86ac-b48b73155066",
   "metadata": {},
   "source": [
    "Our result shows a p-value of 0.50, greater than a significance level of 0.05. Therefore, we fail to reject the null hypothesis in favour of the alternative hypothesis. This concludes that the interaction term (`hours.per.week * occupation`) does not improve the model's fit."
   ]
  },
  {
   "cell_type": "markdown",
   "id": "a20a7623-f0e2-449d-adb8-83c1a231cdb3",
   "metadata": {},
   "source": [
    "Thus, the model `four_log_model` with four additive variables would be our best fitted model."
   ]
  },
  {
   "cell_type": "code",
   "execution_count": 13,
   "id": "0e10383e-1aa6-409d-a860-6626032c8bfa",
   "metadata": {},
   "outputs": [
    {
     "data": {
      "text/plain": [
       "\n",
       "Call:  glm(formula = income ~ sex + hours.per.week + education.num + \n",
       "    occupation, family = binomial, data = data_filtered)\n",
       "\n",
       "Coefficients:\n",
       "                (Intercept)                      sexMale  \n",
       "                   -4.53291                     -0.01756  \n",
       "             hours.per.week                education.num  \n",
       "                    0.02275                      0.27071  \n",
       "     occupationAdm-clerical       occupationArmed-Forces  \n",
       "                    0.51372                      0.01984  \n",
       "     occupationCraft-repair    occupationExec-managerial  \n",
       "                    0.28675                      1.17327  \n",
       "  occupationFarming-fishing  occupationHandlers-cleaners  \n",
       "                   -0.75294                     -0.45971  \n",
       "occupationMachine-op-inspct      occupationOther-service  \n",
       "                    0.01643                     -0.69664  \n",
       "  occupationPriv-house-serv     occupationProf-specialty  \n",
       "                  -12.44325                      0.89149  \n",
       "  occupationProtective-serv              occupationSales  \n",
       "                    0.63435                      0.61436  \n",
       "     occupationTech-support   occupationTransport-moving  \n",
       "                    1.04546                      0.16502  \n",
       "\n",
       "Degrees of Freedom: 15416 Total (i.e. Null);  15399 Residual\n",
       "Null Deviance:\t    21130 \n",
       "Residual Deviance: 17440 \tAIC: 17470"
      ]
     },
     "metadata": {},
     "output_type": "display_data"
    }
   ],
   "source": [
    "four_log_model"
   ]
  },
  {
   "cell_type": "markdown",
   "id": "65dae1a8-edb7-4b44-ba1c-ddc254c8252f",
   "metadata": {},
   "source": [
    "- $\\hat{\\beta}_1$ gives the changes in log odds per one-unit increase in X.\n",
    "\n",
    "Since 1/0.983=1.0173, we estimate that the odds of income are higher for male individuals than female individuals while keeping the rest of the input variables constant."
   ]
  },
  {
   "cell_type": "code",
   "execution_count": 14,
   "id": "cb98de22-6528-494a-a719-cb8efa939f00",
   "metadata": {},
   "outputs": [
    {
     "data": {
      "application/pdf": "[encoded data removed]",
      "image/jpeg": "[encoded data removed]",
      "image/png": "[encoded data removed]",
      "image/svg+xml": [
       "<?xml version=\"1.0\" encoding=\"UTF-8\"?>\n",
       "<svg xmlns=\"http://www.w3.org/2000/svg\" xmlns:xlink=\"http://www.w3.org/1999/xlink\" width=\"504\" height=\"504\" viewBox=\"0 0 504 504\">\n",
       "<defs>\n",
       "<g>\n",
       "<g id=\"glyph-0-0\">\n",
       "<path d=\"M 4.546875 -3.03125 C 4.546875 -2.445312 4.488281 -1.957031 4.375 -1.5625 C 4.269531 -1.164062 4.117188 -0.84375 3.921875 -0.59375 C 3.734375 -0.351562 3.507812 -0.179688 3.25 -0.078125 C 3 0.0234375 2.726562 0.078125 2.4375 0.078125 C 2.144531 0.078125 1.867188 0.0234375 1.609375 -0.078125 C 1.359375 -0.179688 1.140625 -0.351562 0.953125 -0.59375 C 0.765625 -0.84375 0.613281 -1.164062 0.5 -1.5625 C 0.394531 -1.957031 0.34375 -2.445312 0.34375 -3.03125 C 0.34375 -3.632812 0.394531 -4.132812 0.5 -4.53125 C 0.613281 -4.9375 0.765625 -5.257812 0.953125 -5.5 C 1.140625 -5.738281 1.359375 -5.90625 1.609375 -6 C 1.867188 -6.09375 2.15625 -6.140625 2.46875 -6.140625 C 2.75 -6.140625 3.015625 -6.09375 3.265625 -6 C 3.523438 -5.90625 3.75 -5.738281 3.9375 -5.5 C 4.125 -5.257812 4.269531 -4.9375 4.375 -4.53125 C 4.488281 -4.132812 4.546875 -3.632812 4.546875 -3.03125 Z M 3.765625 -3.03125 C 3.765625 -3.507812 3.734375 -3.90625 3.671875 -4.21875 C 3.617188 -4.539062 3.535156 -4.796875 3.421875 -4.984375 C 3.304688 -5.179688 3.164062 -5.316406 3 -5.390625 C 2.84375 -5.472656 2.664062 -5.515625 2.46875 -5.515625 C 2.25 -5.515625 2.054688 -5.472656 1.890625 -5.390625 C 1.722656 -5.316406 1.582031 -5.179688 1.46875 -4.984375 C 1.351562 -4.796875 1.265625 -4.539062 1.203125 -4.21875 C 1.148438 -3.90625 1.125 -3.507812 1.125 -3.03125 C 1.125 -2.5625 1.148438 -2.164062 1.203125 -1.84375 C 1.265625 -1.53125 1.351562 -1.273438 1.46875 -1.078125 C 1.582031 -0.890625 1.71875 -0.753906 1.875 -0.671875 C 2.039062 -0.585938 2.226562 -0.546875 2.4375 -0.546875 C 2.644531 -0.546875 2.828125 -0.585938 2.984375 -0.671875 C 3.148438 -0.753906 3.289062 -0.890625 3.40625 -1.078125 C 3.519531 -1.273438 3.609375 -1.53125 3.671875 -1.84375 C 3.734375 -2.164062 3.765625 -2.5625 3.765625 -3.03125 Z M 3.765625 -3.03125 \"/>\n",
       "</g>\n",
       "<g id=\"glyph-0-1\">\n",
       "<path d=\"M 0.796875 0 L 0.796875 -0.9375 L 1.640625 -0.9375 L 1.640625 0 Z M 0.796875 0 \"/>\n",
       "</g>\n",
       "<g id=\"glyph-0-2\">\n",
       "<path d=\"M 0.4375 0 L 0.4375 -0.546875 C 0.582031 -0.878906 0.757812 -1.171875 0.96875 -1.421875 C 1.1875 -1.679688 1.410156 -1.914062 1.640625 -2.125 C 1.867188 -2.332031 2.097656 -2.523438 2.328125 -2.703125 C 2.554688 -2.878906 2.757812 -3.054688 2.9375 -3.234375 C 3.125 -3.410156 3.273438 -3.597656 3.390625 -3.796875 C 3.503906 -3.992188 3.5625 -4.210938 3.5625 -4.453125 C 3.5625 -4.628906 3.535156 -4.78125 3.484375 -4.90625 C 3.429688 -5.039062 3.351562 -5.148438 3.25 -5.234375 C 3.15625 -5.328125 3.039062 -5.394531 2.90625 -5.4375 C 2.769531 -5.476562 2.617188 -5.5 2.453125 -5.5 C 2.296875 -5.5 2.148438 -5.476562 2.015625 -5.4375 C 1.878906 -5.394531 1.757812 -5.332031 1.65625 -5.25 C 1.550781 -5.164062 1.460938 -5.054688 1.390625 -4.921875 C 1.328125 -4.796875 1.285156 -4.648438 1.265625 -4.484375 L 0.484375 -4.5625 C 0.503906 -4.78125 0.5625 -4.984375 0.65625 -5.171875 C 0.75 -5.359375 0.878906 -5.523438 1.046875 -5.671875 C 1.210938 -5.816406 1.410156 -5.929688 1.640625 -6.015625 C 1.878906 -6.097656 2.148438 -6.140625 2.453125 -6.140625 C 2.753906 -6.140625 3.019531 -6.101562 3.25 -6.03125 C 3.488281 -5.957031 3.6875 -5.847656 3.84375 -5.703125 C 4.007812 -5.566406 4.132812 -5.394531 4.21875 -5.1875 C 4.3125 -4.988281 4.359375 -4.753906 4.359375 -4.484375 C 4.359375 -4.273438 4.320312 -4.078125 4.25 -3.890625 C 4.175781 -3.710938 4.078125 -3.539062 3.953125 -3.375 C 3.828125 -3.207031 3.6875 -3.046875 3.53125 -2.890625 C 3.375 -2.742188 3.207031 -2.59375 3.03125 -2.4375 C 2.851562 -2.289062 2.675781 -2.144531 2.5 -2 C 2.320312 -1.863281 2.15625 -1.722656 2 -1.578125 C 1.84375 -1.429688 1.703125 -1.28125 1.578125 -1.125 C 1.453125 -0.976562 1.359375 -0.820312 1.296875 -0.65625 L 4.453125 -0.65625 L 4.453125 0 Z M 0.4375 0 \"/>\n",
       "</g>\n",
       "<g id=\"glyph-0-3\">\n",
       "<path d=\"M 4.515625 -1.96875 C 4.515625 -1.664062 4.46875 -1.390625 4.375 -1.140625 C 4.289062 -0.890625 4.15625 -0.671875 3.96875 -0.484375 C 3.789062 -0.304688 3.566406 -0.164062 3.296875 -0.0625 C 3.035156 0.03125 2.726562 0.078125 2.375 0.078125 C 2.0625 0.078125 1.785156 0.0390625 1.546875 -0.03125 C 1.304688 -0.101562 1.101562 -0.203125 0.9375 -0.328125 C 0.78125 -0.460938 0.648438 -0.613281 0.546875 -0.78125 C 0.453125 -0.957031 0.390625 -1.148438 0.359375 -1.359375 L 1.140625 -1.4375 C 1.171875 -1.320312 1.210938 -1.210938 1.265625 -1.109375 C 1.328125 -1.003906 1.40625 -0.910156 1.5 -0.828125 C 1.601562 -0.742188 1.722656 -0.675781 1.859375 -0.625 C 2.003906 -0.570312 2.179688 -0.546875 2.390625 -0.546875 C 2.585938 -0.546875 2.769531 -0.578125 2.9375 -0.640625 C 3.101562 -0.703125 3.242188 -0.789062 3.359375 -0.90625 C 3.472656 -1.03125 3.5625 -1.175781 3.625 -1.34375 C 3.6875 -1.519531 3.71875 -1.722656 3.71875 -1.953125 C 3.71875 -2.140625 3.6875 -2.3125 3.625 -2.46875 C 3.570312 -2.625 3.488281 -2.757812 3.375 -2.875 C 3.257812 -2.988281 3.117188 -3.078125 2.953125 -3.140625 C 2.796875 -3.203125 2.613281 -3.234375 2.40625 -3.234375 C 2.28125 -3.234375 2.160156 -3.21875 2.046875 -3.1875 C 1.941406 -3.164062 1.84375 -3.132812 1.75 -3.09375 C 1.65625 -3.0625 1.570312 -3.015625 1.5 -2.953125 C 1.425781 -2.898438 1.351562 -2.847656 1.28125 -2.796875 L 0.53125 -2.796875 L 0.734375 -6.046875 L 4.171875 -6.046875 L 4.171875 -5.390625 L 1.4375 -5.390625 L 1.3125 -3.46875 C 1.457031 -3.582031 1.628906 -3.675781 1.828125 -3.75 C 2.035156 -3.820312 2.28125 -3.859375 2.5625 -3.859375 C 2.863281 -3.859375 3.132812 -3.8125 3.375 -3.71875 C 3.613281 -3.632812 3.816406 -3.503906 3.984375 -3.328125 C 4.160156 -3.160156 4.289062 -2.960938 4.375 -2.734375 C 4.46875 -2.503906 4.515625 -2.25 4.515625 -1.96875 Z M 4.515625 -1.96875 \"/>\n",
       "</g>\n",
       "<g id=\"glyph-0-4\">\n",
       "<path d=\"M 4.453125 -5.421875 C 4.148438 -4.960938 3.867188 -4.515625 3.609375 -4.078125 C 3.359375 -3.648438 3.140625 -3.21875 2.953125 -2.78125 C 2.773438 -2.351562 2.632812 -1.910156 2.53125 -1.453125 C 2.425781 -0.992188 2.375 -0.507812 2.375 0 L 1.5625 0 C 1.5625 -0.476562 1.617188 -0.953125 1.734375 -1.421875 C 1.847656 -1.890625 2.003906 -2.347656 2.203125 -2.796875 C 2.398438 -3.242188 2.625 -3.679688 2.875 -4.109375 C 3.132812 -4.546875 3.410156 -4.972656 3.703125 -5.390625 L 0.453125 -5.390625 L 0.453125 -6.046875 L 4.453125 -6.046875 Z M 4.453125 -5.421875 \"/>\n",
       "</g>\n",
       "<g id=\"glyph-0-5\">\n",
       "<path d=\"M 1.546875 -5.375 L 1.546875 -3.125 L 4.921875 -3.125 L 4.921875 -2.453125 L 1.546875 -2.453125 L 1.546875 0 L 0.71875 0 L 0.71875 -6.046875 L 5.015625 -6.046875 L 5.015625 -5.375 Z M 1.546875 -5.375 \"/>\n",
       "</g>\n",
       "<g id=\"glyph-0-6\">\n",
       "<path d=\"M 1.1875 -2.15625 C 1.1875 -1.914062 1.207031 -1.691406 1.25 -1.484375 C 1.300781 -1.285156 1.378906 -1.109375 1.484375 -0.953125 C 1.597656 -0.804688 1.734375 -0.691406 1.890625 -0.609375 C 2.054688 -0.535156 2.253906 -0.5 2.484375 -0.5 C 2.816406 -0.5 3.082031 -0.5625 3.28125 -0.6875 C 3.488281 -0.820312 3.628906 -0.992188 3.703125 -1.203125 L 4.375 -1.015625 C 4.320312 -0.890625 4.253906 -0.757812 4.171875 -0.625 C 4.085938 -0.488281 3.972656 -0.367188 3.828125 -0.265625 C 3.679688 -0.160156 3.5 -0.078125 3.28125 -0.015625 C 3.0625 0.046875 2.796875 0.078125 2.484375 0.078125 C 1.796875 0.078125 1.269531 -0.125 0.90625 -0.53125 C 0.550781 -0.9375 0.375 -1.546875 0.375 -2.359375 C 0.375 -2.785156 0.425781 -3.148438 0.53125 -3.453125 C 0.644531 -3.753906 0.796875 -4 0.984375 -4.1875 C 1.171875 -4.382812 1.390625 -4.523438 1.640625 -4.609375 C 1.890625 -4.691406 2.160156 -4.734375 2.453125 -4.734375 C 2.835938 -4.734375 3.160156 -4.671875 3.421875 -4.546875 C 3.691406 -4.421875 3.90625 -4.242188 4.0625 -4.015625 C 4.21875 -3.796875 4.328125 -3.535156 4.390625 -3.234375 C 4.460938 -2.929688 4.5 -2.609375 4.5 -2.265625 L 4.5 -2.15625 Z M 3.703125 -2.75 C 3.660156 -3.238281 3.535156 -3.59375 3.328125 -3.8125 C 3.117188 -4.039062 2.820312 -4.15625 2.4375 -4.15625 C 2.3125 -4.15625 2.175781 -4.132812 2.03125 -4.09375 C 1.894531 -4.050781 1.765625 -3.976562 1.640625 -3.875 C 1.515625 -3.769531 1.410156 -3.625 1.328125 -3.4375 C 1.253906 -3.257812 1.207031 -3.03125 1.1875 -2.75 Z M 3.703125 -2.75 \"/>\n",
       "</g>\n",
       "<g id=\"glyph-0-7\">\n",
       "<path d=\"M 3.296875 0 L 3.296875 -2.953125 C 3.296875 -3.171875 3.28125 -3.351562 3.25 -3.5 C 3.226562 -3.65625 3.179688 -3.78125 3.109375 -3.875 C 3.046875 -3.96875 2.957031 -4.035156 2.84375 -4.078125 C 2.738281 -4.117188 2.609375 -4.140625 2.453125 -4.140625 C 2.285156 -4.140625 2.132812 -4.101562 2 -4.03125 C 1.875 -3.96875 1.765625 -3.875 1.671875 -3.75 C 1.578125 -3.632812 1.503906 -3.488281 1.453125 -3.3125 C 1.398438 -3.132812 1.375 -2.925781 1.375 -2.6875 L 1.375 0 L 0.609375 0 L 0.609375 -3.65625 C 0.609375 -3.75 0.609375 -3.847656 0.609375 -3.953125 C 0.609375 -4.066406 0.601562 -4.171875 0.59375 -4.265625 C 0.59375 -4.359375 0.59375 -4.441406 0.59375 -4.515625 C 0.59375 -4.585938 0.585938 -4.628906 0.578125 -4.640625 L 1.3125 -4.640625 C 1.3125 -4.628906 1.3125 -4.59375 1.3125 -4.53125 C 1.320312 -4.46875 1.328125 -4.394531 1.328125 -4.3125 C 1.335938 -4.226562 1.34375 -4.144531 1.34375 -4.0625 C 1.34375 -3.976562 1.34375 -3.910156 1.34375 -3.859375 L 1.359375 -3.859375 C 1.429688 -3.992188 1.503906 -4.113281 1.578125 -4.21875 C 1.660156 -4.320312 1.753906 -4.410156 1.859375 -4.484375 C 1.972656 -4.566406 2.097656 -4.628906 2.234375 -4.671875 C 2.367188 -4.710938 2.53125 -4.734375 2.71875 -4.734375 C 3.070312 -4.734375 3.347656 -4.660156 3.546875 -4.515625 C 3.753906 -4.378906 3.898438 -4.160156 3.984375 -3.859375 L 4 -3.859375 C 4.0625 -3.992188 4.132812 -4.113281 4.21875 -4.21875 C 4.3125 -4.320312 4.414062 -4.410156 4.53125 -4.484375 C 4.644531 -4.566406 4.769531 -4.628906 4.90625 -4.671875 C 5.050781 -4.710938 5.21875 -4.734375 5.40625 -4.734375 C 5.632812 -4.734375 5.832031 -4.703125 6 -4.640625 C 6.175781 -4.578125 6.316406 -4.476562 6.421875 -4.34375 C 6.535156 -4.21875 6.617188 -4.050781 6.671875 -3.84375 C 6.722656 -3.632812 6.75 -3.382812 6.75 -3.09375 L 6.75 0 L 5.984375 0 L 5.984375 -2.953125 C 5.984375 -3.171875 5.96875 -3.351562 5.9375 -3.5 C 5.90625 -3.65625 5.859375 -3.78125 5.796875 -3.875 C 5.734375 -3.96875 5.644531 -4.035156 5.53125 -4.078125 C 5.425781 -4.117188 5.296875 -4.140625 5.140625 -4.140625 C 4.972656 -4.140625 4.820312 -4.109375 4.6875 -4.046875 C 4.5625 -3.984375 4.453125 -3.890625 4.359375 -3.765625 C 4.265625 -3.648438 4.191406 -3.5 4.140625 -3.3125 C 4.085938 -3.132812 4.0625 -2.925781 4.0625 -2.6875 L 4.0625 0 Z M 3.296875 0 \"/>\n",
       "</g>\n",
       "<g id=\"glyph-0-8\">\n",
       "<path d=\"M 1.78125 0.078125 C 1.3125 0.078125 0.957031 -0.0390625 0.71875 -0.28125 C 0.488281 -0.53125 0.375 -0.867188 0.375 -1.296875 C 0.375 -1.597656 0.429688 -1.847656 0.546875 -2.046875 C 0.660156 -2.242188 0.8125 -2.398438 1 -2.515625 C 1.1875 -2.628906 1.398438 -2.707031 1.640625 -2.75 C 1.878906 -2.789062 2.125 -2.8125 2.375 -2.8125 L 3.421875 -2.828125 L 3.421875 -3.09375 C 3.421875 -3.28125 3.398438 -3.441406 3.359375 -3.578125 C 3.316406 -3.710938 3.253906 -3.820312 3.171875 -3.90625 C 3.085938 -3.988281 2.984375 -4.046875 2.859375 -4.078125 C 2.742188 -4.117188 2.597656 -4.140625 2.421875 -4.140625 C 2.273438 -4.140625 2.140625 -4.128906 2.015625 -4.109375 C 1.898438 -4.085938 1.796875 -4.046875 1.703125 -3.984375 C 1.617188 -3.929688 1.546875 -3.859375 1.484375 -3.765625 C 1.429688 -3.671875 1.398438 -3.550781 1.390625 -3.40625 L 0.578125 -3.484375 C 0.609375 -3.660156 0.660156 -3.828125 0.734375 -3.984375 C 0.816406 -4.140625 0.929688 -4.269531 1.078125 -4.375 C 1.234375 -4.488281 1.421875 -4.578125 1.640625 -4.640625 C 1.859375 -4.703125 2.125 -4.734375 2.4375 -4.734375 C 3.019531 -4.734375 3.457031 -4.597656 3.75 -4.328125 C 4.050781 -4.066406 4.203125 -3.679688 4.203125 -3.171875 L 4.203125 -1.171875 C 4.203125 -0.941406 4.234375 -0.769531 4.296875 -0.65625 C 4.359375 -0.539062 4.472656 -0.484375 4.640625 -0.484375 C 4.679688 -0.484375 4.722656 -0.484375 4.765625 -0.484375 C 4.804688 -0.492188 4.847656 -0.5 4.890625 -0.5 L 4.890625 -0.03125 C 4.796875 0 4.695312 0.0195312 4.59375 0.03125 C 4.5 0.0390625 4.398438 0.046875 4.296875 0.046875 C 4.148438 0.046875 4.023438 0.0234375 3.921875 -0.015625 C 3.816406 -0.0546875 3.726562 -0.113281 3.65625 -0.1875 C 3.59375 -0.269531 3.546875 -0.367188 3.515625 -0.484375 C 3.484375 -0.597656 3.460938 -0.734375 3.453125 -0.890625 L 3.421875 -0.890625 C 3.335938 -0.742188 3.242188 -0.609375 3.140625 -0.484375 C 3.046875 -0.367188 2.929688 -0.265625 2.796875 -0.171875 C 2.671875 -0.0859375 2.523438 -0.0234375 2.359375 0.015625 C 2.191406 0.0546875 2 0.078125 1.78125 0.078125 Z M 1.953125 -0.5 C 2.203125 -0.5 2.414062 -0.539062 2.59375 -0.625 C 2.78125 -0.71875 2.9375 -0.832031 3.0625 -0.96875 C 3.1875 -1.113281 3.273438 -1.269531 3.328125 -1.4375 C 3.390625 -1.601562 3.421875 -1.757812 3.421875 -1.90625 L 3.421875 -2.296875 L 2.578125 -2.28125 C 2.390625 -2.269531 2.207031 -2.253906 2.03125 -2.234375 C 1.863281 -2.210938 1.710938 -2.164062 1.578125 -2.09375 C 1.453125 -2.019531 1.351562 -1.914062 1.28125 -1.78125 C 1.207031 -1.65625 1.171875 -1.488281 1.171875 -1.28125 C 1.171875 -1.03125 1.238281 -0.835938 1.375 -0.703125 C 1.507812 -0.566406 1.703125 -0.5 1.953125 -0.5 Z M 1.953125 -0.5 \"/>\n",
       "</g>\n",
       "<g id=\"glyph-0-9\">\n",
       "<path d=\"M 0.59375 0 L 0.59375 -6.375 L 1.359375 -6.375 L 1.359375 0 Z M 0.59375 0 \"/>\n",
       "</g>\n",
       "<g id=\"glyph-0-10\">\n",
       "<path d=\"M 5.875 0 L 5.875 -4.03125 C 5.875 -4.175781 5.875 -4.328125 5.875 -4.484375 C 5.875 -4.640625 5.878906 -4.78125 5.890625 -4.90625 C 5.890625 -5.050781 5.894531 -5.191406 5.90625 -5.328125 C 5.863281 -5.179688 5.820312 -5.035156 5.78125 -4.890625 C 5.738281 -4.765625 5.695312 -4.632812 5.65625 -4.5 C 5.613281 -4.363281 5.570312 -4.238281 5.53125 -4.125 L 3.96875 0 L 3.390625 0 L 1.796875 -4.125 C 1.785156 -4.164062 1.769531 -4.210938 1.75 -4.265625 C 1.726562 -4.328125 1.707031 -4.390625 1.6875 -4.453125 C 1.664062 -4.515625 1.644531 -4.578125 1.625 -4.640625 C 1.601562 -4.710938 1.582031 -4.785156 1.5625 -4.859375 C 1.507812 -5.003906 1.460938 -5.160156 1.421875 -5.328125 C 1.421875 -5.160156 1.425781 -5 1.4375 -4.84375 C 1.4375 -4.707031 1.4375 -4.566406 1.4375 -4.421875 C 1.445312 -4.273438 1.453125 -4.144531 1.453125 -4.03125 L 1.453125 0 L 0.71875 0 L 0.71875 -6.046875 L 1.796875 -6.046875 L 3.40625 -1.859375 C 3.425781 -1.796875 3.453125 -1.71875 3.484375 -1.625 C 3.515625 -1.539062 3.539062 -1.453125 3.5625 -1.359375 C 3.59375 -1.265625 3.617188 -1.175781 3.640625 -1.09375 C 3.660156 -1.007812 3.675781 -0.941406 3.6875 -0.890625 C 3.6875 -0.941406 3.695312 -1.007812 3.71875 -1.09375 C 3.75 -1.175781 3.78125 -1.265625 3.8125 -1.359375 C 3.84375 -1.453125 3.867188 -1.539062 3.890625 -1.625 C 3.921875 -1.71875 3.945312 -1.796875 3.96875 -1.859375 L 5.546875 -6.046875 L 6.609375 -6.046875 L 6.609375 0 Z M 5.875 0 \"/>\n",
       "</g>\n",
       "<g id=\"glyph-1-0\">\n",
       "<path d=\"M 0.546875 -3.8125 C 0.546875 -4.40625 0.625 -4.941406 0.78125 -5.421875 C 0.945312 -5.898438 1.1875 -6.304688 1.5 -6.640625 C 1.820312 -6.972656 2.21875 -7.226562 2.6875 -7.40625 C 3.15625 -7.59375 3.695312 -7.6875 4.3125 -7.6875 C 4.78125 -7.6875 5.1875 -7.644531 5.53125 -7.5625 C 5.882812 -7.476562 6.191406 -7.359375 6.453125 -7.203125 C 6.710938 -7.046875 6.929688 -6.859375 7.109375 -6.640625 C 7.285156 -6.421875 7.4375 -6.171875 7.5625 -5.890625 L 6.59375 -5.609375 C 6.5 -5.796875 6.382812 -5.960938 6.25 -6.109375 C 6.125 -6.265625 5.96875 -6.394531 5.78125 -6.5 C 5.59375 -6.613281 5.375 -6.695312 5.125 -6.75 C 4.882812 -6.8125 4.609375 -6.84375 4.296875 -6.84375 C 3.835938 -6.84375 3.4375 -6.769531 3.09375 -6.625 C 2.757812 -6.476562 2.476562 -6.273438 2.25 -6.015625 C 2.03125 -5.753906 1.863281 -5.4375 1.75 -5.0625 C 1.644531 -4.6875 1.59375 -4.269531 1.59375 -3.8125 C 1.59375 -3.363281 1.648438 -2.945312 1.765625 -2.5625 C 1.890625 -2.1875 2.066406 -1.863281 2.296875 -1.59375 C 2.523438 -1.320312 2.8125 -1.109375 3.15625 -0.953125 C 3.507812 -0.796875 3.910156 -0.71875 4.359375 -0.71875 C 4.660156 -0.71875 4.9375 -0.742188 5.1875 -0.796875 C 5.4375 -0.847656 5.660156 -0.914062 5.859375 -1 C 6.066406 -1.082031 6.25 -1.171875 6.40625 -1.265625 C 6.5625 -1.359375 6.691406 -1.457031 6.796875 -1.5625 L 6.796875 -2.921875 L 4.53125 -2.921875 L 4.53125 -3.78125 L 7.734375 -3.78125 L 7.734375 -1.171875 C 7.566406 -1.003906 7.367188 -0.84375 7.140625 -0.6875 C 6.910156 -0.53125 6.65625 -0.390625 6.375 -0.265625 C 6.09375 -0.148438 5.78125 -0.0625 5.4375 0 C 5.101562 0.0703125 4.742188 0.109375 4.359375 0.109375 C 3.722656 0.109375 3.164062 0.0078125 2.6875 -0.1875 C 2.21875 -0.382812 1.820312 -0.65625 1.5 -1 C 1.1875 -1.351562 0.945312 -1.769531 0.78125 -2.25 C 0.625 -2.726562 0.546875 -3.25 0.546875 -3.8125 Z M 0.546875 -3.8125 \"/>\n",
       "</g>\n",
       "<g id=\"glyph-1-1\">\n",
       "<path d=\"M 1.484375 -2.703125 C 1.484375 -2.398438 1.515625 -2.117188 1.578125 -1.859375 C 1.640625 -1.609375 1.734375 -1.390625 1.859375 -1.203125 C 1.992188 -1.015625 2.160156 -0.867188 2.359375 -0.765625 C 2.566406 -0.671875 2.816406 -0.625 3.109375 -0.625 C 3.523438 -0.625 3.859375 -0.707031 4.109375 -0.875 C 4.359375 -1.039062 4.53125 -1.253906 4.625 -1.515625 L 5.46875 -1.265625 C 5.40625 -1.109375 5.316406 -0.945312 5.203125 -0.78125 C 5.097656 -0.613281 4.953125 -0.460938 4.765625 -0.328125 C 4.585938 -0.203125 4.363281 -0.0976562 4.09375 -0.015625 C 3.820312 0.0664062 3.492188 0.109375 3.109375 0.109375 C 2.242188 0.109375 1.585938 -0.144531 1.140625 -0.65625 C 0.691406 -1.164062 0.46875 -1.925781 0.46875 -2.9375 C 0.46875 -3.488281 0.535156 -3.953125 0.671875 -4.328125 C 0.804688 -4.703125 0.988281 -5.007812 1.21875 -5.25 C 1.457031 -5.488281 1.734375 -5.660156 2.046875 -5.765625 C 2.367188 -5.867188 2.707031 -5.921875 3.0625 -5.921875 C 3.550781 -5.921875 3.957031 -5.84375 4.28125 -5.6875 C 4.613281 -5.53125 4.878906 -5.3125 5.078125 -5.03125 C 5.273438 -4.75 5.414062 -4.421875 5.5 -4.046875 C 5.582031 -3.671875 5.625 -3.265625 5.625 -2.828125 L 5.625 -2.703125 Z M 4.625 -3.4375 C 4.570312 -4.050781 4.414062 -4.5 4.15625 -4.78125 C 3.90625 -5.0625 3.535156 -5.203125 3.046875 -5.203125 C 2.890625 -5.203125 2.722656 -5.175781 2.546875 -5.125 C 2.367188 -5.070312 2.203125 -4.976562 2.046875 -4.84375 C 1.898438 -4.71875 1.773438 -4.539062 1.671875 -4.3125 C 1.566406 -4.082031 1.507812 -3.789062 1.5 -3.4375 Z M 4.625 -3.4375 \"/>\n",
       "</g>\n",
       "<g id=\"glyph-1-2\">\n",
       "<path d=\"M 4.4375 0 L 4.4375 -3.6875 C 4.4375 -3.96875 4.414062 -4.203125 4.375 -4.390625 C 4.332031 -4.578125 4.265625 -4.726562 4.171875 -4.84375 C 4.078125 -4.96875 3.953125 -5.050781 3.796875 -5.09375 C 3.648438 -5.144531 3.460938 -5.171875 3.234375 -5.171875 C 3.003906 -5.171875 2.796875 -5.128906 2.609375 -5.046875 C 2.429688 -4.972656 2.273438 -4.859375 2.140625 -4.703125 C 2.003906 -4.546875 1.898438 -4.351562 1.828125 -4.125 C 1.765625 -3.90625 1.734375 -3.65625 1.734375 -3.375 L 1.734375 0 L 0.765625 0 L 0.765625 -4.578125 C 0.765625 -4.691406 0.757812 -4.816406 0.75 -4.953125 C 0.75 -5.085938 0.75 -5.210938 0.75 -5.328125 C 0.75 -5.453125 0.742188 -5.554688 0.734375 -5.640625 C 0.734375 -5.734375 0.734375 -5.789062 0.734375 -5.8125 L 1.640625 -5.8125 C 1.648438 -5.789062 1.65625 -5.738281 1.65625 -5.65625 C 1.65625 -5.582031 1.65625 -5.492188 1.65625 -5.390625 C 1.664062 -5.296875 1.671875 -5.191406 1.671875 -5.078125 C 1.679688 -4.972656 1.6875 -4.882812 1.6875 -4.8125 L 1.703125 -4.8125 C 1.796875 -4.988281 1.894531 -5.144531 2 -5.28125 C 2.113281 -5.414062 2.242188 -5.53125 2.390625 -5.625 C 2.535156 -5.71875 2.703125 -5.789062 2.890625 -5.84375 C 3.085938 -5.894531 3.3125 -5.921875 3.5625 -5.921875 C 3.882812 -5.921875 4.160156 -5.878906 4.390625 -5.796875 C 4.628906 -5.722656 4.820312 -5.601562 4.96875 -5.4375 C 5.113281 -5.269531 5.222656 -5.054688 5.296875 -4.796875 C 5.367188 -4.535156 5.40625 -4.226562 5.40625 -3.875 L 5.40625 0 Z M 4.4375 0 \"/>\n",
       "</g>\n",
       "<g id=\"glyph-1-3\">\n",
       "<path d=\"M 4.40625 -0.9375 C 4.226562 -0.5625 3.988281 -0.289062 3.6875 -0.125 C 3.394531 0.03125 3.03125 0.109375 2.59375 0.109375 C 1.863281 0.109375 1.328125 -0.132812 0.984375 -0.625 C 0.640625 -1.125 0.46875 -1.875 0.46875 -2.875 C 0.46875 -4.90625 1.175781 -5.921875 2.59375 -5.921875 C 3.039062 -5.921875 3.410156 -5.835938 3.703125 -5.671875 C 3.992188 -5.515625 4.226562 -5.257812 4.40625 -4.90625 L 4.421875 -4.90625 C 4.421875 -4.945312 4.421875 -5.003906 4.421875 -5.078125 C 4.421875 -5.148438 4.414062 -5.226562 4.40625 -5.3125 C 4.40625 -5.40625 4.40625 -5.488281 4.40625 -5.5625 C 4.40625 -5.632812 4.40625 -5.6875 4.40625 -5.71875 L 4.40625 -7.96875 L 5.375 -7.96875 L 5.375 -1.203125 C 5.375 -1.054688 5.375 -0.921875 5.375 -0.796875 C 5.375 -0.671875 5.375 -0.550781 5.375 -0.4375 C 5.382812 -0.332031 5.390625 -0.238281 5.390625 -0.15625 C 5.398438 -0.0820312 5.40625 -0.03125 5.40625 0 L 4.484375 0 C 4.472656 -0.03125 4.460938 -0.078125 4.453125 -0.140625 C 4.453125 -0.210938 4.445312 -0.289062 4.4375 -0.375 C 4.4375 -0.46875 4.4375 -0.5625 4.4375 -0.65625 C 4.4375 -0.75 4.4375 -0.84375 4.4375 -0.9375 Z M 1.484375 -2.90625 C 1.484375 -2.507812 1.503906 -2.164062 1.546875 -1.875 C 1.597656 -1.59375 1.675781 -1.359375 1.78125 -1.171875 C 1.894531 -0.984375 2.035156 -0.847656 2.203125 -0.765625 C 2.378906 -0.679688 2.59375 -0.640625 2.84375 -0.640625 C 3.101562 -0.640625 3.328125 -0.679688 3.515625 -0.765625 C 3.710938 -0.847656 3.875 -0.976562 4 -1.15625 C 4.132812 -1.34375 4.234375 -1.582031 4.296875 -1.875 C 4.367188 -2.175781 4.40625 -2.539062 4.40625 -2.96875 C 4.40625 -3.382812 4.367188 -3.734375 4.296875 -4.015625 C 4.234375 -4.304688 4.132812 -4.535156 4 -4.703125 C 3.875 -4.878906 3.710938 -5.003906 3.515625 -5.078125 C 3.328125 -5.160156 3.109375 -5.203125 2.859375 -5.203125 C 2.617188 -5.203125 2.410156 -5.160156 2.234375 -5.078125 C 2.066406 -4.992188 1.925781 -4.859375 1.8125 -4.671875 C 1.695312 -4.492188 1.613281 -4.257812 1.5625 -3.96875 C 1.507812 -3.675781 1.484375 -3.320312 1.484375 -2.90625 Z M 1.484375 -2.90625 \"/>\n",
       "</g>\n",
       "<g id=\"glyph-1-4\">\n",
       "<path d=\"M 0.765625 0 L 0.765625 -4.453125 C 0.765625 -4.578125 0.757812 -4.703125 0.75 -4.828125 C 0.75 -4.953125 0.75 -5.070312 0.75 -5.1875 C 0.75 -5.3125 0.742188 -5.425781 0.734375 -5.53125 C 0.734375 -5.632812 0.734375 -5.726562 0.734375 -5.8125 L 1.640625 -5.8125 C 1.648438 -5.726562 1.65625 -5.632812 1.65625 -5.53125 C 1.664062 -5.425781 1.671875 -5.316406 1.671875 -5.203125 C 1.679688 -5.085938 1.6875 -4.976562 1.6875 -4.875 C 1.6875 -4.78125 1.6875 -4.695312 1.6875 -4.625 L 1.703125 -4.625 C 1.773438 -4.84375 1.847656 -5.035156 1.921875 -5.203125 C 2.003906 -5.367188 2.097656 -5.503906 2.203125 -5.609375 C 2.304688 -5.710938 2.425781 -5.789062 2.5625 -5.84375 C 2.707031 -5.894531 2.882812 -5.921875 3.09375 -5.921875 C 3.164062 -5.921875 3.238281 -5.910156 3.3125 -5.890625 C 3.382812 -5.878906 3.441406 -5.867188 3.484375 -5.859375 L 3.484375 -4.984375 C 3.421875 -4.992188 3.34375 -5.003906 3.25 -5.015625 C 3.164062 -5.023438 3.070312 -5.03125 2.96875 -5.03125 C 2.738281 -5.03125 2.546875 -4.976562 2.390625 -4.875 C 2.242188 -4.78125 2.117188 -4.644531 2.015625 -4.46875 C 1.921875 -4.289062 1.847656 -4.078125 1.796875 -3.828125 C 1.753906 -3.585938 1.734375 -3.320312 1.734375 -3.03125 L 1.734375 0 Z M 0.765625 0 \"/>\n",
       "</g>\n",
       "<g id=\"glyph-2-0\">\n",
       "<path d=\"M -5.296875 -6.75 C -4.960938 -6.75 -4.648438 -6.691406 -4.359375 -6.578125 C -4.078125 -6.472656 -3.832031 -6.3125 -3.625 -6.09375 C -3.414062 -5.882812 -3.25 -5.613281 -3.125 -5.28125 C -3.007812 -4.957031 -2.953125 -4.582031 -2.953125 -4.15625 L -2.953125 -1.921875 L 0 -1.921875 L 0 -0.90625 L -7.5625 -0.90625 L -7.5625 -4.09375 C -7.5625 -4.539062 -7.503906 -4.929688 -7.390625 -5.265625 C -7.285156 -5.597656 -7.132812 -5.875 -6.9375 -6.09375 C -6.738281 -6.3125 -6.5 -6.472656 -6.21875 -6.578125 C -5.9375 -6.691406 -5.628906 -6.75 -5.296875 -6.75 Z M -5.28125 -5.71875 C -5.757812 -5.71875 -6.125 -5.570312 -6.375 -5.28125 C -6.625 -4.988281 -6.75 -4.550781 -6.75 -3.96875 L -6.75 -1.921875 L -3.765625 -1.921875 L -3.765625 -4 C -3.765625 -4.59375 -3.894531 -5.023438 -4.15625 -5.296875 C -4.414062 -5.578125 -4.789062 -5.71875 -5.28125 -5.71875 Z M -5.28125 -5.71875 \"/>\n",
       "</g>\n",
       "<g id=\"glyph-2-1\">\n",
       "<path d=\"M 0 -0.765625 L -4.453125 -0.765625 C -4.578125 -0.765625 -4.703125 -0.757812 -4.828125 -0.75 C -4.953125 -0.75 -5.070312 -0.75 -5.1875 -0.75 C -5.3125 -0.75 -5.425781 -0.742188 -5.53125 -0.734375 C -5.632812 -0.734375 -5.726562 -0.734375 -5.8125 -0.734375 L -5.8125 -1.640625 C -5.726562 -1.648438 -5.632812 -1.65625 -5.53125 -1.65625 C -5.425781 -1.664062 -5.316406 -1.671875 -5.203125 -1.671875 C -5.085938 -1.679688 -4.976562 -1.6875 -4.875 -1.6875 C -4.78125 -1.6875 -4.695312 -1.6875 -4.625 -1.6875 L -4.625 -1.703125 C -4.84375 -1.773438 -5.035156 -1.847656 -5.203125 -1.921875 C -5.367188 -2.003906 -5.503906 -2.097656 -5.609375 -2.203125 C -5.710938 -2.304688 -5.789062 -2.425781 -5.84375 -2.5625 C -5.894531 -2.707031 -5.921875 -2.882812 -5.921875 -3.09375 C -5.921875 -3.164062 -5.910156 -3.238281 -5.890625 -3.3125 C -5.878906 -3.382812 -5.867188 -3.441406 -5.859375 -3.484375 L -4.984375 -3.484375 C -4.992188 -3.421875 -5.003906 -3.34375 -5.015625 -3.25 C -5.023438 -3.164062 -5.03125 -3.070312 -5.03125 -2.96875 C -5.03125 -2.738281 -4.976562 -2.546875 -4.875 -2.390625 C -4.78125 -2.242188 -4.644531 -2.117188 -4.46875 -2.015625 C -4.289062 -1.921875 -4.078125 -1.847656 -3.828125 -1.796875 C -3.585938 -1.753906 -3.320312 -1.734375 -3.03125 -1.734375 L 0 -1.734375 Z M 0 -0.765625 \"/>\n",
       "</g>\n",
       "<g id=\"glyph-2-2\">\n",
       "<path d=\"M -2.90625 -5.65625 C -1.894531 -5.65625 -1.140625 -5.429688 -0.640625 -4.984375 C -0.140625 -4.535156 0.109375 -3.882812 0.109375 -3.03125 C 0.109375 -2.625 0.046875 -2.257812 -0.078125 -1.9375 C -0.203125 -1.625 -0.390625 -1.359375 -0.640625 -1.140625 C -0.890625 -0.921875 -1.203125 -0.753906 -1.578125 -0.640625 C -1.953125 -0.523438 -2.394531 -0.46875 -2.90625 -0.46875 C -4.914062 -0.46875 -5.921875 -1.332031 -5.921875 -3.0625 C -5.921875 -3.519531 -5.859375 -3.910156 -5.734375 -4.234375 C -5.609375 -4.566406 -5.421875 -4.835938 -5.171875 -5.046875 C -4.921875 -5.253906 -4.601562 -5.40625 -4.21875 -5.5 C -3.84375 -5.601562 -3.40625 -5.65625 -2.90625 -5.65625 Z M -2.90625 -4.640625 C -3.363281 -4.640625 -3.738281 -4.601562 -4.03125 -4.53125 C -4.320312 -4.46875 -4.554688 -4.367188 -4.734375 -4.234375 C -4.910156 -4.097656 -5.03125 -3.929688 -5.09375 -3.734375 C -5.164062 -3.546875 -5.203125 -3.328125 -5.203125 -3.078125 C -5.203125 -2.835938 -5.164062 -2.613281 -5.09375 -2.40625 C -5.019531 -2.207031 -4.894531 -2.039062 -4.71875 -1.90625 C -4.539062 -1.769531 -4.304688 -1.664062 -4.015625 -1.59375 C -3.722656 -1.519531 -3.351562 -1.484375 -2.90625 -1.484375 C -2.457031 -1.484375 -2.082031 -1.519531 -1.78125 -1.59375 C -1.488281 -1.675781 -1.253906 -1.785156 -1.078125 -1.921875 C -0.910156 -2.054688 -0.789062 -2.21875 -0.71875 -2.40625 C -0.644531 -2.59375 -0.609375 -2.800781 -0.609375 -3.03125 C -0.609375 -3.269531 -0.640625 -3.488281 -0.703125 -3.6875 C -0.773438 -3.894531 -0.898438 -4.066406 -1.078125 -4.203125 C -1.253906 -4.347656 -1.488281 -4.457031 -1.78125 -4.53125 C -2.082031 -4.601562 -2.457031 -4.640625 -2.90625 -4.640625 Z M -2.90625 -4.640625 \"/>\n",
       "</g>\n",
       "<g id=\"glyph-2-3\">\n",
       "<path d=\"M -2.9375 -5.65625 C -0.90625 -5.65625 0.109375 -4.941406 0.109375 -3.515625 C 0.109375 -3.078125 0.03125 -2.710938 -0.125 -2.421875 C -0.289062 -2.128906 -0.550781 -1.890625 -0.90625 -1.703125 C -0.8125 -1.703125 -0.710938 -1.695312 -0.609375 -1.6875 C -0.515625 -1.6875 -0.421875 -1.679688 -0.328125 -1.671875 C -0.242188 -1.671875 -0.171875 -1.664062 -0.109375 -1.65625 C -0.046875 -1.65625 -0.0078125 -1.648438 0 -1.640625 L 0 -0.703125 C -0.03125 -0.710938 -0.0820312 -0.71875 -0.15625 -0.71875 C -0.238281 -0.71875 -0.332031 -0.71875 -0.4375 -0.71875 C -0.550781 -0.726562 -0.671875 -0.734375 -0.796875 -0.734375 C -0.921875 -0.734375 -1.054688 -0.734375 -1.203125 -0.734375 L -7.96875 -0.734375 L -7.96875 -1.703125 L -5.703125 -1.703125 C -5.585938 -1.703125 -5.484375 -1.703125 -5.390625 -1.703125 C -5.296875 -1.703125 -5.207031 -1.703125 -5.125 -1.703125 C -5.039062 -1.691406 -4.957031 -1.6875 -4.875 -1.6875 L -4.875 -1.703125 C -5.25 -1.890625 -5.515625 -2.128906 -5.671875 -2.421875 C -5.835938 -2.710938 -5.921875 -3.078125 -5.921875 -3.515625 C -5.921875 -4.253906 -5.671875 -4.796875 -5.171875 -5.140625 C -4.679688 -5.484375 -3.9375 -5.65625 -2.9375 -5.65625 Z M -2.90625 -4.640625 C -3.300781 -4.640625 -3.640625 -4.613281 -3.921875 -4.5625 C -4.210938 -4.507812 -4.453125 -4.425781 -4.640625 -4.3125 C -4.828125 -4.207031 -4.960938 -4.066406 -5.046875 -3.890625 C -5.128906 -3.722656 -5.171875 -3.515625 -5.171875 -3.265625 C -5.171875 -3.015625 -5.128906 -2.789062 -5.046875 -2.59375 C -4.960938 -2.394531 -4.828125 -2.226562 -4.640625 -2.09375 C -4.460938 -1.96875 -4.222656 -1.867188 -3.921875 -1.796875 C -3.628906 -1.734375 -3.269531 -1.703125 -2.84375 -1.703125 C -2.425781 -1.703125 -2.078125 -1.734375 -1.796875 -1.796875 C -1.515625 -1.867188 -1.285156 -1.96875 -1.109375 -2.09375 C -0.929688 -2.226562 -0.800781 -2.394531 -0.71875 -2.59375 C -0.644531 -2.789062 -0.609375 -3.015625 -0.609375 -3.265625 C -0.609375 -3.492188 -0.648438 -3.691406 -0.734375 -3.859375 C -0.816406 -4.035156 -0.945312 -4.179688 -1.125 -4.296875 C -1.3125 -4.410156 -1.550781 -4.492188 -1.84375 -4.546875 C -2.132812 -4.609375 -2.488281 -4.640625 -2.90625 -4.640625 Z M -2.90625 -4.640625 \"/>\n",
       "</g>\n",
       "<g id=\"glyph-2-4\">\n",
       "<path d=\"M 0.109375 -2.21875 C 0.109375 -1.632812 -0.0390625 -1.195312 -0.34375 -0.90625 C -0.65625 -0.613281 -1.082031 -0.46875 -1.625 -0.46875 C -2.007812 -0.46875 -2.320312 -0.539062 -2.5625 -0.6875 C -2.8125 -0.832031 -3.003906 -1.019531 -3.140625 -1.25 C -3.285156 -1.488281 -3.382812 -1.757812 -3.4375 -2.0625 C -3.488281 -2.363281 -3.519531 -2.664062 -3.53125 -2.96875 L -3.546875 -4.28125 L -3.859375 -4.28125 C -4.097656 -4.28125 -4.300781 -4.253906 -4.46875 -4.203125 C -4.644531 -4.148438 -4.78125 -4.070312 -4.875 -3.96875 C -4.976562 -3.863281 -5.054688 -3.734375 -5.109375 -3.578125 C -5.160156 -3.429688 -5.1875 -3.25 -5.1875 -3.03125 C -5.1875 -2.84375 -5.171875 -2.671875 -5.140625 -2.515625 C -5.117188 -2.367188 -5.070312 -2.238281 -5 -2.125 C -4.925781 -2.019531 -4.828125 -1.929688 -4.703125 -1.859375 C -4.585938 -1.796875 -4.441406 -1.753906 -4.265625 -1.734375 L -4.34375 -0.71875 C -4.570312 -0.757812 -4.78125 -0.828125 -4.96875 -0.921875 C -5.164062 -1.023438 -5.332031 -1.171875 -5.46875 -1.359375 C -5.613281 -1.546875 -5.722656 -1.773438 -5.796875 -2.046875 C -5.878906 -2.328125 -5.921875 -2.664062 -5.921875 -3.0625 C -5.921875 -3.789062 -5.753906 -4.335938 -5.421875 -4.703125 C -5.085938 -5.078125 -4.601562 -5.265625 -3.96875 -5.265625 L -1.46875 -5.265625 C -1.175781 -5.265625 -0.957031 -5.300781 -0.8125 -5.375 C -0.664062 -5.445312 -0.59375 -5.585938 -0.59375 -5.796875 C -0.59375 -5.847656 -0.597656 -5.898438 -0.609375 -5.953125 C -0.617188 -6.015625 -0.628906 -6.070312 -0.640625 -6.125 L -0.03125 -6.125 C 0 -6 0.0195312 -5.875 0.03125 -5.75 C 0.0390625 -5.632812 0.046875 -5.507812 0.046875 -5.375 C 0.046875 -5.1875 0.0234375 -5.023438 -0.015625 -4.890625 C -0.0664062 -4.765625 -0.140625 -4.660156 -0.234375 -4.578125 C -0.335938 -4.492188 -0.460938 -4.429688 -0.609375 -4.390625 C -0.753906 -4.347656 -0.921875 -4.320312 -1.109375 -4.3125 L -1.109375 -4.28125 C -0.921875 -4.175781 -0.75 -4.0625 -0.59375 -3.9375 C -0.445312 -3.8125 -0.320312 -3.664062 -0.21875 -3.5 C -0.113281 -3.34375 -0.0351562 -3.15625 0.015625 -2.9375 C 0.078125 -2.726562 0.109375 -2.488281 0.109375 -2.21875 Z M -0.625 -2.4375 C -0.625 -2.75 -0.675781 -3.019531 -0.78125 -3.25 C -0.894531 -3.476562 -1.039062 -3.671875 -1.21875 -3.828125 C -1.394531 -3.984375 -1.585938 -4.097656 -1.796875 -4.171875 C -2.003906 -4.242188 -2.203125 -4.28125 -2.390625 -4.28125 L -2.875 -4.28125 L -2.84375 -3.21875 C -2.84375 -2.988281 -2.828125 -2.765625 -2.796875 -2.546875 C -2.765625 -2.335938 -2.703125 -2.148438 -2.609375 -1.984375 C -2.523438 -1.828125 -2.398438 -1.703125 -2.234375 -1.609375 C -2.078125 -1.515625 -1.867188 -1.46875 -1.609375 -1.46875 C -1.296875 -1.46875 -1.050781 -1.550781 -0.875 -1.71875 C -0.707031 -1.882812 -0.625 -2.125 -0.625 -2.4375 Z M -0.625 -2.4375 \"/>\n",
       "</g>\n",
       "<g id=\"glyph-2-5\">\n",
       "<path d=\"M -7.046875 -0.734375 L -7.96875 -0.734375 L -7.96875 -1.703125 L -7.046875 -1.703125 Z M 0 -0.734375 L -5.8125 -0.734375 L -5.8125 -1.703125 L 0 -1.703125 Z M 0 -0.734375 \"/>\n",
       "</g>\n",
       "<g id=\"glyph-2-6\">\n",
       "<path d=\"M 0 -0.734375 L -7.96875 -0.734375 L -7.96875 -1.703125 L 0 -1.703125 Z M 0 -0.734375 \"/>\n",
       "</g>\n",
       "<g id=\"glyph-2-7\">\n",
       "<path d=\"M -0.046875 -2.96875 C -0.00390625 -2.820312 0.0234375 -2.671875 0.046875 -2.515625 C 0.078125 -2.367188 0.09375 -2.195312 0.09375 -2 C 0.09375 -1.226562 -0.347656 -0.84375 -1.234375 -0.84375 L -5.109375 -0.84375 L -5.109375 -0.171875 L -5.8125 -0.171875 L -5.8125 -0.875 L -7.109375 -1.15625 L -7.109375 -1.8125 L -5.8125 -1.8125 L -5.8125 -2.875 L -5.109375 -2.875 L -5.109375 -1.8125 L -1.4375 -1.8125 C -1.15625 -1.8125 -0.957031 -1.851562 -0.84375 -1.9375 C -0.738281 -2.03125 -0.6875 -2.191406 -0.6875 -2.421875 C -0.6875 -2.515625 -0.691406 -2.601562 -0.703125 -2.6875 C -0.710938 -2.769531 -0.726562 -2.863281 -0.75 -2.96875 Z M -0.046875 -2.96875 \"/>\n",
       "</g>\n",
       "<g id=\"glyph-2-8\">\n",
       "<path d=\"M 0 -3.25 C 0.351562 -3.113281 0.671875 -2.972656 0.953125 -2.828125 C 1.234375 -2.679688 1.472656 -2.519531 1.671875 -2.34375 C 1.867188 -2.175781 2.019531 -1.984375 2.125 -1.765625 C 2.226562 -1.546875 2.28125 -1.300781 2.28125 -1.03125 C 2.28125 -0.90625 2.273438 -0.789062 2.265625 -0.6875 C 2.265625 -0.582031 2.25 -0.472656 2.21875 -0.359375 L 1.5 -0.359375 C 1.507812 -0.429688 1.515625 -0.507812 1.515625 -0.59375 C 1.523438 -0.675781 1.53125 -0.75 1.53125 -0.8125 C 1.53125 -1.09375 1.421875 -1.351562 1.203125 -1.59375 C 0.992188 -1.84375 0.660156 -2.054688 0.203125 -2.234375 L -0.03125 -2.328125 L -5.8125 -0.03125 L -5.8125 -1.0625 L -2.59375 -2.28125 C -2.5 -2.320312 -2.367188 -2.367188 -2.203125 -2.421875 C -2.046875 -2.472656 -1.882812 -2.523438 -1.71875 -2.578125 C -1.5625 -2.640625 -1.414062 -2.691406 -1.28125 -2.734375 C -1.15625 -2.773438 -1.078125 -2.800781 -1.046875 -2.8125 C -1.085938 -2.820312 -1.164062 -2.847656 -1.28125 -2.890625 C -1.40625 -2.929688 -1.535156 -2.976562 -1.671875 -3.03125 C -1.816406 -3.082031 -1.960938 -3.132812 -2.109375 -3.1875 C -2.253906 -3.238281 -2.382812 -3.28125 -2.5 -3.3125 L -5.8125 -4.453125 L -5.8125 -5.484375 Z M 0 -3.25 \"/>\n",
       "</g>\n",
       "<g id=\"glyph-3-0\">\n",
       "<path d=\"M 8.109375 -6.34375 C 8.109375 -5.945312 8.039062 -5.578125 7.90625 -5.234375 C 7.78125 -4.898438 7.585938 -4.609375 7.328125 -4.359375 C 7.066406 -4.109375 6.738281 -3.910156 6.34375 -3.765625 C 5.957031 -3.617188 5.503906 -3.546875 4.984375 -3.546875 L 2.3125 -3.546875 L 2.3125 0 L 1.078125 0 L 1.078125 -9.078125 L 4.90625 -9.078125 C 5.445312 -9.078125 5.914062 -9.007812 6.3125 -8.875 C 6.707031 -8.75 7.035156 -8.566406 7.296875 -8.328125 C 7.566406 -8.085938 7.769531 -7.800781 7.90625 -7.46875 C 8.039062 -7.132812 8.109375 -6.757812 8.109375 -6.34375 Z M 6.875 -6.34375 C 6.875 -6.914062 6.695312 -7.347656 6.34375 -7.640625 C 5.988281 -7.941406 5.457031 -8.09375 4.75 -8.09375 L 2.3125 -8.09375 L 2.3125 -4.515625 L 4.8125 -4.515625 C 5.519531 -4.515625 6.039062 -4.671875 6.375 -4.984375 C 6.707031 -5.296875 6.875 -5.75 6.875 -6.34375 Z M 6.875 -6.34375 \"/>\n",
       "</g>\n",
       "<g id=\"glyph-3-1\">\n",
       "<path d=\"M 0.921875 0 L 0.921875 -5.34375 C 0.921875 -5.488281 0.914062 -5.640625 0.90625 -5.796875 C 0.90625 -5.953125 0.898438 -6.097656 0.890625 -6.234375 C 0.890625 -6.378906 0.890625 -6.515625 0.890625 -6.640625 C 0.890625 -6.765625 0.882812 -6.875 0.875 -6.96875 L 1.96875 -6.96875 C 1.976562 -6.875 1.984375 -6.765625 1.984375 -6.640625 C 1.992188 -6.515625 2 -6.382812 2 -6.25 C 2.007812 -6.113281 2.015625 -5.984375 2.015625 -5.859375 C 2.023438 -5.734375 2.03125 -5.628906 2.03125 -5.546875 L 2.046875 -5.546875 C 2.128906 -5.816406 2.21875 -6.046875 2.3125 -6.234375 C 2.40625 -6.429688 2.515625 -6.59375 2.640625 -6.71875 C 2.765625 -6.851562 2.910156 -6.953125 3.078125 -7.015625 C 3.253906 -7.078125 3.460938 -7.109375 3.703125 -7.109375 C 3.796875 -7.109375 3.882812 -7.097656 3.96875 -7.078125 C 4.0625 -7.066406 4.128906 -7.054688 4.171875 -7.046875 L 4.171875 -5.96875 C 4.097656 -6 4.007812 -6.019531 3.90625 -6.03125 C 3.800781 -6.039062 3.6875 -6.046875 3.5625 -6.046875 C 3.289062 -6.046875 3.0625 -5.984375 2.875 -5.859375 C 2.6875 -5.734375 2.535156 -5.566406 2.421875 -5.359375 C 2.304688 -5.148438 2.21875 -4.894531 2.15625 -4.59375 C 2.101562 -4.300781 2.078125 -3.984375 2.078125 -3.640625 L 2.078125 0 Z M 0.921875 0 \"/>\n",
       "</g>\n",
       "<g id=\"glyph-3-2\">\n",
       "<path d=\"M 6.78125 -3.5 C 6.78125 -2.269531 6.507812 -1.359375 5.96875 -0.765625 C 5.4375 -0.171875 4.660156 0.125 3.640625 0.125 C 3.148438 0.125 2.710938 0.0507812 2.328125 -0.09375 C 1.953125 -0.238281 1.628906 -0.460938 1.359375 -0.765625 C 1.097656 -1.066406 0.894531 -1.441406 0.75 -1.890625 C 0.613281 -2.347656 0.546875 -2.882812 0.546875 -3.5 C 0.546875 -5.90625 1.59375 -7.109375 3.6875 -7.109375 C 4.226562 -7.109375 4.691406 -7.03125 5.078125 -6.875 C 5.472656 -6.726562 5.796875 -6.503906 6.046875 -6.203125 C 6.296875 -5.898438 6.476562 -5.519531 6.59375 -5.0625 C 6.71875 -4.613281 6.78125 -4.09375 6.78125 -3.5 Z M 5.5625 -3.5 C 5.5625 -4.039062 5.519531 -4.484375 5.4375 -4.828125 C 5.351562 -5.179688 5.226562 -5.460938 5.0625 -5.671875 C 4.90625 -5.890625 4.710938 -6.039062 4.484375 -6.125 C 4.253906 -6.207031 3.992188 -6.25 3.703125 -6.25 C 3.398438 -6.25 3.128906 -6.203125 2.890625 -6.109375 C 2.660156 -6.023438 2.457031 -5.875 2.28125 -5.65625 C 2.113281 -5.445312 1.984375 -5.164062 1.890625 -4.8125 C 1.804688 -4.457031 1.765625 -4.019531 1.765625 -3.5 C 1.765625 -2.957031 1.8125 -2.507812 1.90625 -2.15625 C 2.007812 -1.800781 2.140625 -1.515625 2.296875 -1.296875 C 2.460938 -1.085938 2.660156 -0.941406 2.890625 -0.859375 C 3.117188 -0.773438 3.363281 -0.734375 3.625 -0.734375 C 3.925781 -0.734375 4.195312 -0.773438 4.4375 -0.859375 C 4.675781 -0.941406 4.878906 -1.085938 5.046875 -1.296875 C 5.210938 -1.503906 5.335938 -1.785156 5.421875 -2.140625 C 5.515625 -2.503906 5.5625 -2.957031 5.5625 -3.5 Z M 5.5625 -3.5 \"/>\n",
       "</g>\n",
       "<g id=\"glyph-3-3\">\n",
       "<path d=\"M 6.78125 -3.515625 C 6.78125 -1.085938 5.925781 0.125 4.21875 0.125 C 3.695312 0.125 3.257812 0.03125 2.90625 -0.15625 C 2.550781 -0.34375 2.265625 -0.648438 2.046875 -1.078125 L 2.03125 -1.078125 C 2.03125 -0.972656 2.023438 -0.859375 2.015625 -0.734375 C 2.015625 -0.609375 2.007812 -0.492188 2 -0.390625 C 2 -0.296875 1.992188 -0.210938 1.984375 -0.140625 C 1.984375 -0.0664062 1.976562 -0.0195312 1.96875 0 L 0.84375 0 C 0.851562 -0.0390625 0.859375 -0.101562 0.859375 -0.1875 C 0.867188 -0.28125 0.875 -0.390625 0.875 -0.515625 C 0.882812 -0.648438 0.890625 -0.796875 0.890625 -0.953125 C 0.890625 -1.109375 0.890625 -1.269531 0.890625 -1.4375 L 0.890625 -9.5625 L 2.046875 -9.5625 L 2.046875 -6.84375 C 2.046875 -6.707031 2.046875 -6.582031 2.046875 -6.46875 C 2.046875 -6.351562 2.039062 -6.25 2.03125 -6.15625 C 2.03125 -6.050781 2.03125 -5.953125 2.03125 -5.859375 L 2.046875 -5.859375 C 2.265625 -6.304688 2.550781 -6.625 2.90625 -6.8125 C 3.257812 -7.007812 3.695312 -7.109375 4.21875 -7.109375 C 5.101562 -7.109375 5.75 -6.8125 6.15625 -6.21875 C 6.570312 -5.625 6.78125 -4.722656 6.78125 -3.515625 Z M 5.5625 -3.484375 C 5.5625 -3.960938 5.53125 -4.375 5.46875 -4.71875 C 5.414062 -5.0625 5.320312 -5.34375 5.1875 -5.5625 C 5.050781 -5.789062 4.878906 -5.953125 4.671875 -6.046875 C 4.472656 -6.148438 4.222656 -6.203125 3.921875 -6.203125 C 3.617188 -6.203125 3.347656 -6.148438 3.109375 -6.046875 C 2.878906 -5.953125 2.6875 -5.796875 2.53125 -5.578125 C 2.375 -5.359375 2.253906 -5.070312 2.171875 -4.71875 C 2.085938 -4.363281 2.046875 -3.925781 2.046875 -3.40625 C 2.046875 -2.90625 2.085938 -2.484375 2.171875 -2.140625 C 2.253906 -1.804688 2.375 -1.53125 2.53125 -1.3125 C 2.6875 -1.101562 2.878906 -0.953125 3.109375 -0.859375 C 3.347656 -0.773438 3.613281 -0.734375 3.90625 -0.734375 C 4.195312 -0.734375 4.441406 -0.78125 4.640625 -0.875 C 4.847656 -0.976562 5.019531 -1.140625 5.15625 -1.359375 C 5.300781 -1.578125 5.40625 -1.859375 5.46875 -2.203125 C 5.53125 -2.554688 5.5625 -2.984375 5.5625 -3.484375 Z M 5.5625 -3.484375 \"/>\n",
       "</g>\n",
       "<g id=\"glyph-3-4\">\n",
       "<path d=\"M 2.671875 0.125 C 1.972656 0.125 1.445312 -0.0546875 1.09375 -0.421875 C 0.738281 -0.796875 0.5625 -1.304688 0.5625 -1.953125 C 0.5625 -2.410156 0.644531 -2.785156 0.8125 -3.078125 C 0.988281 -3.367188 1.21875 -3.597656 1.5 -3.765625 C 1.78125 -3.929688 2.101562 -4.046875 2.46875 -4.109375 C 2.832031 -4.179688 3.203125 -4.222656 3.578125 -4.234375 L 5.140625 -4.25 L 5.140625 -4.640625 C 5.140625 -4.921875 5.109375 -5.160156 5.046875 -5.359375 C 4.984375 -5.566406 4.890625 -5.734375 4.765625 -5.859375 C 4.640625 -5.984375 4.484375 -6.070312 4.296875 -6.125 C 4.109375 -6.1875 3.890625 -6.21875 3.640625 -6.21875 C 3.421875 -6.21875 3.21875 -6.203125 3.03125 -6.171875 C 2.851562 -6.140625 2.695312 -6.082031 2.5625 -6 C 2.425781 -5.914062 2.316406 -5.800781 2.234375 -5.65625 C 2.160156 -5.507812 2.109375 -5.328125 2.078125 -5.109375 L 0.875 -5.21875 C 0.914062 -5.5 0.992188 -5.753906 1.109375 -5.984375 C 1.234375 -6.210938 1.40625 -6.410156 1.625 -6.578125 C 1.84375 -6.742188 2.117188 -6.875 2.453125 -6.96875 C 2.785156 -7.0625 3.191406 -7.109375 3.671875 -7.109375 C 4.546875 -7.109375 5.203125 -6.90625 5.640625 -6.5 C 6.085938 -6.101562 6.3125 -5.519531 6.3125 -4.75 L 6.3125 -1.75 C 6.3125 -1.40625 6.351562 -1.144531 6.4375 -0.96875 C 6.53125 -0.800781 6.707031 -0.71875 6.96875 -0.71875 C 7.03125 -0.71875 7.09375 -0.71875 7.15625 -0.71875 C 7.21875 -0.726562 7.28125 -0.742188 7.34375 -0.765625 L 7.34375 -0.03125 C 7.195312 0 7.050781 0.0195312 6.90625 0.03125 C 6.757812 0.0507812 6.609375 0.0625 6.453125 0.0625 C 6.234375 0.0625 6.039062 0.0351562 5.875 -0.015625 C 5.71875 -0.078125 5.585938 -0.164062 5.484375 -0.28125 C 5.390625 -0.40625 5.316406 -0.550781 5.265625 -0.71875 C 5.222656 -0.894531 5.191406 -1.097656 5.171875 -1.328125 L 5.140625 -1.328125 C 5.015625 -1.109375 4.875 -0.90625 4.71875 -0.71875 C 4.570312 -0.539062 4.398438 -0.390625 4.203125 -0.265625 C 4.003906 -0.140625 3.78125 -0.046875 3.53125 0.015625 C 3.28125 0.0859375 2.992188 0.125 2.671875 0.125 Z M 2.9375 -0.734375 C 3.300781 -0.734375 3.617188 -0.800781 3.890625 -0.9375 C 4.171875 -1.070312 4.40625 -1.242188 4.59375 -1.453125 C 4.78125 -1.671875 4.914062 -1.90625 5 -2.15625 C 5.09375 -2.40625 5.140625 -2.644531 5.140625 -2.875 L 5.140625 -3.4375 L 3.875 -3.421875 C 3.582031 -3.410156 3.304688 -3.382812 3.046875 -3.34375 C 2.796875 -3.3125 2.570312 -3.242188 2.375 -3.140625 C 2.1875 -3.035156 2.035156 -2.882812 1.921875 -2.6875 C 1.804688 -2.488281 1.75 -2.234375 1.75 -1.921875 C 1.75 -1.546875 1.847656 -1.253906 2.046875 -1.046875 C 2.253906 -0.835938 2.550781 -0.734375 2.9375 -0.734375 Z M 2.9375 -0.734375 \"/>\n",
       "</g>\n",
       "<g id=\"glyph-3-5\">\n",
       "<path d=\"M 0.890625 -8.453125 L 0.890625 -9.5625 L 2.046875 -9.5625 L 2.046875 -8.453125 Z M 0.890625 0 L 0.890625 -6.96875 L 2.046875 -6.96875 L 2.046875 0 Z M 0.890625 0 \"/>\n",
       "</g>\n",
       "<g id=\"glyph-3-6\">\n",
       "<path d=\"M 0.890625 0 L 0.890625 -9.5625 L 2.046875 -9.5625 L 2.046875 0 Z M 0.890625 0 \"/>\n",
       "</g>\n",
       "<g id=\"glyph-3-7\">\n",
       "<path d=\"M 3.578125 -0.046875 C 3.398438 -0.00390625 3.21875 0.03125 3.03125 0.0625 C 2.851562 0.09375 2.640625 0.109375 2.390625 0.109375 C 1.460938 0.109375 1 -0.414062 1 -1.46875 L 1 -6.125 L 0.203125 -6.125 L 0.203125 -6.96875 L 1.046875 -6.96875 L 1.390625 -8.53125 L 2.171875 -8.53125 L 2.171875 -6.96875 L 3.453125 -6.96875 L 3.453125 -6.125 L 2.171875 -6.125 L 2.171875 -1.734375 C 2.171875 -1.390625 2.222656 -1.148438 2.328125 -1.015625 C 2.441406 -0.878906 2.632812 -0.8125 2.90625 -0.8125 C 3.007812 -0.8125 3.113281 -0.820312 3.21875 -0.84375 C 3.332031 -0.863281 3.453125 -0.882812 3.578125 -0.90625 Z M 3.578125 -0.046875 \"/>\n",
       "</g>\n",
       "<g id=\"glyph-3-8\">\n",
       "<path d=\"M 3.890625 0 C 3.734375 0.414062 3.566406 0.789062 3.390625 1.125 C 3.222656 1.46875 3.035156 1.757812 2.828125 2 C 2.617188 2.238281 2.382812 2.421875 2.125 2.546875 C 1.863281 2.671875 1.566406 2.734375 1.234375 2.734375 C 1.085938 2.734375 0.953125 2.726562 0.828125 2.71875 C 0.703125 2.71875 0.570312 2.703125 0.4375 2.671875 L 0.4375 1.796875 C 0.507812 1.804688 0.597656 1.816406 0.703125 1.828125 C 0.804688 1.835938 0.894531 1.84375 0.96875 1.84375 C 1.3125 1.84375 1.628906 1.710938 1.921875 1.453125 C 2.210938 1.203125 2.46875 0.800781 2.6875 0.25 L 2.796875 -0.03125 L 0.03125 -6.96875 L 1.265625 -6.96875 L 2.734375 -3.125 C 2.773438 -3.007812 2.828125 -2.851562 2.890625 -2.65625 C 2.960938 -2.457031 3.03125 -2.257812 3.09375 -2.0625 C 3.164062 -1.875 3.226562 -1.703125 3.28125 -1.546875 C 3.332031 -1.398438 3.363281 -1.304688 3.375 -1.265625 C 3.382812 -1.304688 3.414062 -1.394531 3.46875 -1.53125 C 3.519531 -1.675781 3.570312 -1.832031 3.625 -2 C 3.6875 -2.175781 3.75 -2.351562 3.8125 -2.53125 C 3.882812 -2.707031 3.941406 -2.859375 3.984375 -2.984375 L 5.34375 -6.96875 L 6.578125 -6.96875 Z M 3.890625 0 \"/>\n",
       "</g>\n",
       "<g id=\"glyph-3-9\">\n",
       "</g>\n",
       "<g id=\"glyph-3-10\">\n",
       "<path d=\"M 2.328125 -6.125 L 2.328125 0 L 1.171875 0 L 1.171875 -6.125 L 0.1875 -6.125 L 0.1875 -6.96875 L 1.171875 -6.96875 L 1.171875 -7.765625 C 1.171875 -8.015625 1.191406 -8.25 1.234375 -8.46875 C 1.285156 -8.6875 1.375 -8.875 1.5 -9.03125 C 1.625 -9.195312 1.796875 -9.320312 2.015625 -9.40625 C 2.234375 -9.5 2.519531 -9.546875 2.875 -9.546875 C 3.007812 -9.546875 3.148438 -9.539062 3.296875 -9.53125 C 3.441406 -9.519531 3.570312 -9.503906 3.6875 -9.484375 L 3.6875 -8.59375 C 3.613281 -8.601562 3.523438 -8.613281 3.421875 -8.625 C 3.328125 -8.632812 3.242188 -8.640625 3.171875 -8.640625 C 2.992188 -8.640625 2.847656 -8.613281 2.734375 -8.5625 C 2.628906 -8.519531 2.546875 -8.453125 2.484375 -8.359375 C 2.421875 -8.273438 2.378906 -8.171875 2.359375 -8.046875 C 2.335938 -7.921875 2.328125 -7.769531 2.328125 -7.59375 L 2.328125 -6.96875 L 3.6875 -6.96875 L 3.6875 -6.125 Z M 2.328125 -6.125 \"/>\n",
       "</g>\n",
       "<g id=\"glyph-3-11\">\n",
       "<path d=\"M 1.078125 0 L 1.078125 -9.078125 L 7.96875 -9.078125 L 7.96875 -8.078125 L 2.3125 -8.078125 L 2.3125 -5.15625 L 7.59375 -5.15625 L 7.59375 -4.171875 L 2.3125 -4.171875 L 2.3125 -1 L 8.234375 -1 L 8.234375 0 Z M 1.078125 0 \"/>\n",
       "</g>\n",
       "<g id=\"glyph-3-12\">\n",
       "<path d=\"M 5.3125 0 L 5.3125 -4.421875 C 5.3125 -4.765625 5.285156 -5.046875 5.234375 -5.265625 C 5.191406 -5.492188 5.113281 -5.675781 5 -5.8125 C 4.882812 -5.957031 4.734375 -6.054688 4.546875 -6.109375 C 4.367188 -6.171875 4.144531 -6.203125 3.875 -6.203125 C 3.601562 -6.203125 3.351562 -6.15625 3.125 -6.0625 C 2.90625 -5.96875 2.71875 -5.828125 2.5625 -5.640625 C 2.40625 -5.460938 2.285156 -5.238281 2.203125 -4.96875 C 2.117188 -4.695312 2.078125 -4.390625 2.078125 -4.046875 L 2.078125 0 L 0.921875 0 L 0.921875 -5.484375 C 0.921875 -5.628906 0.914062 -5.78125 0.90625 -5.9375 C 0.90625 -6.101562 0.898438 -6.257812 0.890625 -6.40625 C 0.890625 -6.550781 0.890625 -6.675781 0.890625 -6.78125 C 0.890625 -6.882812 0.882812 -6.945312 0.875 -6.96875 L 1.96875 -6.96875 C 1.976562 -6.945312 1.984375 -6.890625 1.984375 -6.796875 C 1.984375 -6.703125 1.988281 -6.59375 2 -6.46875 C 2.007812 -6.351562 2.015625 -6.226562 2.015625 -6.09375 C 2.023438 -5.96875 2.03125 -5.863281 2.03125 -5.78125 L 2.046875 -5.78125 C 2.160156 -5.976562 2.28125 -6.160156 2.40625 -6.328125 C 2.539062 -6.492188 2.695312 -6.632812 2.875 -6.75 C 3.050781 -6.863281 3.253906 -6.953125 3.484375 -7.015625 C 3.710938 -7.078125 3.976562 -7.109375 4.28125 -7.109375 C 4.664062 -7.109375 4.992188 -7.0625 5.265625 -6.96875 C 5.546875 -6.875 5.773438 -6.726562 5.953125 -6.53125 C 6.140625 -6.332031 6.273438 -6.078125 6.359375 -5.765625 C 6.441406 -5.453125 6.484375 -5.078125 6.484375 -4.640625 L 6.484375 0 Z M 5.3125 0 \"/>\n",
       "</g>\n",
       "<g id=\"glyph-3-13\">\n",
       "<path d=\"M 3.53125 2.734375 C 3.132812 2.734375 2.78125 2.691406 2.46875 2.609375 C 2.15625 2.535156 1.890625 2.421875 1.671875 2.265625 C 1.453125 2.109375 1.273438 1.925781 1.140625 1.71875 C 1.003906 1.507812 0.90625 1.273438 0.84375 1.015625 L 2.015625 0.84375 C 2.085938 1.164062 2.253906 1.414062 2.515625 1.59375 C 2.785156 1.769531 3.132812 1.859375 3.5625 1.859375 C 3.820312 1.859375 4.0625 1.820312 4.28125 1.75 C 4.5 1.675781 4.679688 1.554688 4.828125 1.390625 C 4.972656 1.234375 5.085938 1.023438 5.171875 0.765625 C 5.253906 0.503906 5.296875 0.191406 5.296875 -0.171875 L 5.296875 -1.296875 L 5.28125 -1.296875 C 5.195312 -1.117188 5.09375 -0.945312 4.96875 -0.78125 C 4.84375 -0.625 4.6875 -0.484375 4.5 -0.359375 C 4.320312 -0.234375 4.109375 -0.132812 3.859375 -0.0625 C 3.617188 0.0078125 3.347656 0.046875 3.046875 0.046875 C 2.597656 0.046875 2.21875 -0.0234375 1.90625 -0.171875 C 1.59375 -0.316406 1.332031 -0.535156 1.125 -0.828125 C 0.925781 -1.128906 0.78125 -1.5 0.6875 -1.9375 C 0.59375 -2.382812 0.546875 -2.894531 0.546875 -3.46875 C 0.546875 -4.03125 0.59375 -4.535156 0.6875 -4.984375 C 0.78125 -5.429688 0.929688 -5.8125 1.140625 -6.125 C 1.347656 -6.4375 1.617188 -6.671875 1.953125 -6.828125 C 2.285156 -6.992188 2.691406 -7.078125 3.171875 -7.078125 C 3.660156 -7.078125 4.085938 -6.960938 4.453125 -6.734375 C 4.816406 -6.515625 5.097656 -6.195312 5.296875 -5.78125 L 5.3125 -5.78125 C 5.3125 -5.882812 5.3125 -6.003906 5.3125 -6.140625 C 5.320312 -6.273438 5.328125 -6.398438 5.328125 -6.515625 C 5.335938 -6.640625 5.347656 -6.742188 5.359375 -6.828125 C 5.367188 -6.910156 5.378906 -6.957031 5.390625 -6.96875 L 6.484375 -6.96875 C 6.484375 -6.9375 6.476562 -6.875 6.46875 -6.78125 C 6.46875 -6.6875 6.460938 -6.570312 6.453125 -6.4375 C 6.453125 -6.3125 6.453125 -6.171875 6.453125 -6.015625 C 6.453125 -5.859375 6.453125 -5.695312 6.453125 -5.53125 L 6.453125 -0.203125 C 6.453125 0.773438 6.210938 1.507812 5.734375 2 C 5.253906 2.488281 4.519531 2.734375 3.53125 2.734375 Z M 5.296875 -3.484375 C 5.296875 -3.972656 5.242188 -4.390625 5.140625 -4.734375 C 5.035156 -5.078125 4.894531 -5.359375 4.71875 -5.578125 C 4.550781 -5.796875 4.351562 -5.957031 4.125 -6.0625 C 3.90625 -6.164062 3.679688 -6.21875 3.453125 -6.21875 C 3.160156 -6.21875 2.90625 -6.164062 2.6875 -6.0625 C 2.476562 -5.957031 2.300781 -5.796875 2.15625 -5.578125 C 2.019531 -5.359375 1.914062 -5.070312 1.84375 -4.71875 C 1.78125 -4.375 1.75 -3.960938 1.75 -3.484375 C 1.75 -2.984375 1.78125 -2.5625 1.84375 -2.21875 C 1.914062 -1.875 2.019531 -1.597656 2.15625 -1.390625 C 2.289062 -1.179688 2.460938 -1.03125 2.671875 -0.9375 C 2.890625 -0.851562 3.144531 -0.8125 3.4375 -0.8125 C 3.664062 -0.8125 3.890625 -0.859375 4.109375 -0.953125 C 4.335938 -1.054688 4.539062 -1.210938 4.71875 -1.421875 C 4.894531 -1.640625 5.035156 -1.914062 5.140625 -2.25 C 5.242188 -2.59375 5.296875 -3.003906 5.296875 -3.484375 Z M 5.296875 -3.484375 \"/>\n",
       "</g>\n",
       "<g id=\"glyph-3-14\">\n",
       "<path d=\"M 0.65625 -1 L 0.65625 -1.984375 L 6.1875 -4.34375 L 0.65625 -6.703125 L 0.65625 -7.703125 L 7.0625 -5 L 7.0625 -3.6875 Z M 0.65625 -1 \"/>\n",
       "</g>\n",
       "<g id=\"glyph-3-15\">\n",
       "<path d=\"M 6.78125 -2.953125 C 6.78125 -2.503906 6.710938 -2.085938 6.578125 -1.703125 C 6.441406 -1.328125 6.238281 -1.003906 5.96875 -0.734375 C 5.695312 -0.460938 5.359375 -0.25 4.953125 -0.09375 C 4.554688 0.0507812 4.09375 0.125 3.5625 0.125 C 3.082031 0.125 2.664062 0.0703125 2.3125 -0.03125 C 1.957031 -0.144531 1.65625 -0.300781 1.40625 -0.5 C 1.164062 -0.695312 0.972656 -0.925781 0.828125 -1.1875 C 0.691406 -1.445312 0.59375 -1.726562 0.53125 -2.03125 L 1.703125 -2.171875 C 1.742188 -1.992188 1.804688 -1.820312 1.890625 -1.65625 C 1.984375 -1.5 2.101562 -1.359375 2.25 -1.234375 C 2.394531 -1.109375 2.578125 -1.003906 2.796875 -0.921875 C 3.015625 -0.847656 3.28125 -0.8125 3.59375 -0.8125 C 3.894531 -0.8125 4.164062 -0.859375 4.40625 -0.953125 C 4.65625 -1.046875 4.863281 -1.179688 5.03125 -1.359375 C 5.207031 -1.546875 5.34375 -1.769531 5.4375 -2.03125 C 5.53125 -2.289062 5.578125 -2.59375 5.578125 -2.9375 C 5.578125 -3.21875 5.53125 -3.472656 5.4375 -3.703125 C 5.351562 -3.941406 5.226562 -4.144531 5.0625 -4.3125 C 4.894531 -4.476562 4.6875 -4.609375 4.4375 -4.703125 C 4.195312 -4.796875 3.921875 -4.84375 3.609375 -4.84375 C 3.421875 -4.84375 3.242188 -4.828125 3.078125 -4.796875 C 2.921875 -4.765625 2.769531 -4.71875 2.625 -4.65625 C 2.488281 -4.59375 2.363281 -4.519531 2.25 -4.4375 C 2.132812 -4.363281 2.023438 -4.285156 1.921875 -4.203125 L 0.796875 -4.203125 L 1.09375 -9.078125 L 6.265625 -9.078125 L 6.265625 -8.09375 L 2.15625 -8.09375 L 1.984375 -5.21875 C 2.179688 -5.375 2.4375 -5.507812 2.75 -5.625 C 3.0625 -5.738281 3.429688 -5.796875 3.859375 -5.796875 C 4.304688 -5.796875 4.707031 -5.726562 5.0625 -5.59375 C 5.425781 -5.457031 5.734375 -5.257812 5.984375 -5 C 6.242188 -4.75 6.441406 -4.445312 6.578125 -4.09375 C 6.710938 -3.75 6.78125 -3.367188 6.78125 -2.953125 Z M 6.78125 -2.953125 \"/>\n",
       "</g>\n",
       "<g id=\"glyph-3-16\">\n",
       "<path d=\"M 6.828125 -4.546875 C 6.828125 -3.671875 6.742188 -2.9375 6.578125 -2.34375 C 6.410156 -1.75 6.179688 -1.265625 5.890625 -0.890625 C 5.609375 -0.523438 5.273438 -0.265625 4.890625 -0.109375 C 4.503906 0.046875 4.09375 0.125 3.65625 0.125 C 3.207031 0.125 2.789062 0.046875 2.40625 -0.109375 C 2.03125 -0.265625 1.703125 -0.523438 1.421875 -0.890625 C 1.140625 -1.253906 0.914062 -1.734375 0.75 -2.328125 C 0.59375 -2.929688 0.515625 -3.671875 0.515625 -4.546875 C 0.515625 -5.460938 0.59375 -6.21875 0.75 -6.8125 C 0.914062 -7.414062 1.140625 -7.894531 1.421875 -8.25 C 1.703125 -8.601562 2.035156 -8.851562 2.421875 -9 C 2.816406 -9.144531 3.238281 -9.21875 3.6875 -9.21875 C 4.125 -9.21875 4.53125 -9.144531 4.90625 -9 C 5.289062 -8.851562 5.625 -8.601562 5.90625 -8.25 C 6.195312 -7.894531 6.421875 -7.414062 6.578125 -6.8125 C 6.742188 -6.21875 6.828125 -5.460938 6.828125 -4.546875 Z M 5.640625 -4.546875 C 5.640625 -5.265625 5.597656 -5.863281 5.515625 -6.34375 C 5.429688 -6.820312 5.304688 -7.203125 5.140625 -7.484375 C 4.972656 -7.773438 4.765625 -7.976562 4.515625 -8.09375 C 4.273438 -8.21875 4 -8.28125 3.6875 -8.28125 C 3.363281 -8.28125 3.078125 -8.21875 2.828125 -8.09375 C 2.578125 -7.976562 2.367188 -7.773438 2.203125 -7.484375 C 2.035156 -7.203125 1.90625 -6.820312 1.8125 -6.34375 C 1.726562 -5.863281 1.6875 -5.265625 1.6875 -4.546875 C 1.6875 -3.847656 1.726562 -3.257812 1.8125 -2.78125 C 1.90625 -2.300781 2.035156 -1.914062 2.203125 -1.625 C 2.378906 -1.34375 2.585938 -1.132812 2.828125 -1 C 3.078125 -0.875 3.359375 -0.8125 3.671875 -0.8125 C 3.972656 -0.8125 4.242188 -0.875 4.484375 -1 C 4.734375 -1.132812 4.941406 -1.34375 5.109375 -1.625 C 5.285156 -1.914062 5.414062 -2.300781 5.5 -2.78125 C 5.59375 -3.257812 5.640625 -3.847656 5.640625 -4.546875 Z M 5.640625 -4.546875 \"/>\n",
       "</g>\n",
       "<g id=\"glyph-3-17\">\n",
       "<path d=\"M 7.125 0 L 3.5 -4.390625 L 2.3125 -3.484375 L 2.3125 0 L 1.078125 0 L 1.078125 -9.078125 L 2.3125 -9.078125 L 2.3125 -4.53125 L 6.6875 -9.078125 L 8.140625 -9.078125 L 4.28125 -5.140625 L 8.65625 0 Z M 7.125 0 \"/>\n",
       "</g>\n",
       "<g id=\"glyph-3-18\">\n",
       "<path d=\"M 1.78125 -3.25 C 1.78125 -2.875 1.816406 -2.53125 1.890625 -2.21875 C 1.960938 -1.914062 2.078125 -1.65625 2.234375 -1.4375 C 2.390625 -1.21875 2.585938 -1.046875 2.828125 -0.921875 C 3.078125 -0.796875 3.375 -0.734375 3.71875 -0.734375 C 4.226562 -0.734375 4.632812 -0.832031 4.9375 -1.03125 C 5.238281 -1.238281 5.441406 -1.5 5.546875 -1.8125 L 6.5625 -1.515625 C 6.488281 -1.328125 6.382812 -1.132812 6.25 -0.9375 C 6.125 -0.738281 5.953125 -0.5625 5.734375 -0.40625 C 5.515625 -0.25 5.238281 -0.117188 4.90625 -0.015625 C 4.582031 0.078125 4.1875 0.125 3.71875 0.125 C 2.6875 0.125 1.898438 -0.179688 1.359375 -0.796875 C 0.828125 -1.410156 0.5625 -2.320312 0.5625 -3.53125 C 0.5625 -4.1875 0.640625 -4.738281 0.796875 -5.1875 C 0.960938 -5.644531 1.1875 -6.015625 1.46875 -6.296875 C 1.757812 -6.578125 2.09375 -6.78125 2.46875 -6.90625 C 2.84375 -7.039062 3.25 -7.109375 3.6875 -7.109375 C 4.269531 -7.109375 4.753906 -7.007812 5.140625 -6.8125 C 5.535156 -6.625 5.851562 -6.363281 6.09375 -6.03125 C 6.332031 -5.695312 6.5 -5.304688 6.59375 -4.859375 C 6.695312 -4.410156 6.75 -3.921875 6.75 -3.390625 L 6.75 -3.25 Z M 5.5625 -4.125 C 5.488281 -4.863281 5.296875 -5.398438 4.984375 -5.734375 C 4.679688 -6.078125 4.238281 -6.25 3.65625 -6.25 C 3.46875 -6.25 3.265625 -6.21875 3.046875 -6.15625 C 2.835938 -6.09375 2.640625 -5.976562 2.453125 -5.8125 C 2.273438 -5.65625 2.125 -5.441406 2 -5.171875 C 1.875 -4.898438 1.804688 -4.550781 1.796875 -4.125 Z M 5.5625 -4.125 \"/>\n",
       "</g>\n",
       "<g id=\"glyph-3-19\">\n",
       "<path d=\"M 7.5625 0 L 6.21875 0 L 5.109375 -4.5 C 5.066406 -4.613281 5.023438 -4.753906 4.984375 -4.921875 C 4.953125 -5.097656 4.921875 -5.269531 4.890625 -5.4375 C 4.847656 -5.625 4.804688 -5.816406 4.765625 -6.015625 C 4.734375 -5.828125 4.691406 -5.640625 4.640625 -5.453125 C 4.609375 -5.285156 4.570312 -5.113281 4.53125 -4.9375 C 4.488281 -4.757812 4.453125 -4.601562 4.421875 -4.46875 L 3.28125 0 L 1.9375 0 L -0.015625 -6.96875 L 1.125 -6.96875 L 2.3125 -2.234375 C 2.34375 -2.140625 2.367188 -2.019531 2.390625 -1.875 C 2.421875 -1.726562 2.453125 -1.585938 2.484375 -1.453125 C 2.515625 -1.296875 2.546875 -1.128906 2.578125 -0.953125 C 2.617188 -1.117188 2.65625 -1.28125 2.6875 -1.4375 C 2.726562 -1.570312 2.765625 -1.707031 2.796875 -1.84375 C 2.828125 -1.976562 2.859375 -2.09375 2.890625 -2.1875 L 4.15625 -6.96875 L 5.390625 -6.96875 L 6.609375 -2.1875 C 6.640625 -2.070312 6.671875 -1.941406 6.703125 -1.796875 C 6.742188 -1.660156 6.78125 -1.53125 6.8125 -1.40625 C 6.84375 -1.257812 6.875 -1.109375 6.90625 -0.953125 C 6.945312 -1.117188 6.984375 -1.28125 7.015625 -1.4375 C 7.046875 -1.570312 7.078125 -1.707031 7.109375 -1.84375 C 7.140625 -1.988281 7.171875 -2.117188 7.203125 -2.234375 L 8.4375 -6.96875 L 9.5625 -6.96875 Z M 7.5625 0 \"/>\n",
       "</g>\n",
       "<g id=\"glyph-3-20\">\n",
       "<path d=\"M 0.65625 -4.578125 C 0.65625 -5.285156 0.75 -5.925781 0.9375 -6.5 C 1.132812 -7.070312 1.421875 -7.554688 1.796875 -7.953125 C 2.179688 -8.359375 2.65625 -8.671875 3.21875 -8.890625 C 3.78125 -9.109375 4.4375 -9.21875 5.1875 -9.21875 C 5.738281 -9.21875 6.222656 -9.164062 6.640625 -9.0625 C 7.066406 -8.96875 7.4375 -8.828125 7.75 -8.640625 C 8.0625 -8.460938 8.320312 -8.238281 8.53125 -7.96875 C 8.75 -7.707031 8.929688 -7.410156 9.078125 -7.078125 L 7.90625 -6.734375 C 7.800781 -6.953125 7.664062 -7.148438 7.5 -7.328125 C 7.34375 -7.515625 7.15625 -7.671875 6.9375 -7.796875 C 6.71875 -7.929688 6.457031 -8.035156 6.15625 -8.109375 C 5.863281 -8.179688 5.53125 -8.21875 5.15625 -8.21875 C 4.601562 -8.21875 4.125 -8.128906 3.71875 -7.953125 C 3.3125 -7.785156 2.972656 -7.539062 2.703125 -7.21875 C 2.441406 -6.90625 2.242188 -6.523438 2.109375 -6.078125 C 1.984375 -5.628906 1.921875 -5.128906 1.921875 -4.578125 C 1.921875 -4.035156 1.988281 -3.535156 2.125 -3.078125 C 2.269531 -2.628906 2.476562 -2.238281 2.75 -1.90625 C 3.03125 -1.582031 3.378906 -1.328125 3.796875 -1.140625 C 4.210938 -0.960938 4.691406 -0.875 5.234375 -0.875 C 5.597656 -0.875 5.925781 -0.898438 6.21875 -0.953125 C 6.519531 -1.015625 6.789062 -1.09375 7.03125 -1.1875 C 7.28125 -1.289062 7.5 -1.398438 7.6875 -1.515625 C 7.875 -1.640625 8.03125 -1.757812 8.15625 -1.875 L 8.15625 -3.515625 L 5.4375 -3.515625 L 5.4375 -4.546875 L 9.28125 -4.546875 L 9.28125 -1.40625 C 9.082031 -1.207031 8.84375 -1.015625 8.5625 -0.828125 C 8.289062 -0.640625 7.984375 -0.472656 7.640625 -0.328125 C 7.304688 -0.179688 6.9375 -0.0703125 6.53125 0 C 6.132812 0.0820312 5.703125 0.125 5.234375 0.125 C 4.472656 0.125 3.804688 0.0078125 3.234375 -0.21875 C 2.660156 -0.457031 2.179688 -0.785156 1.796875 -1.203125 C 1.421875 -1.617188 1.132812 -2.113281 0.9375 -2.6875 C 0.75 -3.269531 0.65625 -3.898438 0.65625 -4.578125 Z M 0.65625 -4.578125 \"/>\n",
       "</g>\n",
       "<g id=\"glyph-3-21\">\n",
       "<path d=\"M 5.296875 -1.125 C 5.078125 -0.675781 4.789062 -0.351562 4.4375 -0.15625 C 4.082031 0.03125 3.644531 0.125 3.125 0.125 C 2.238281 0.125 1.585938 -0.171875 1.171875 -0.765625 C 0.753906 -1.359375 0.546875 -2.253906 0.546875 -3.453125 C 0.546875 -5.890625 1.40625 -7.109375 3.125 -7.109375 C 3.644531 -7.109375 4.082031 -7.007812 4.4375 -6.8125 C 4.789062 -6.625 5.078125 -6.316406 5.296875 -5.890625 L 5.3125 -5.890625 C 5.3125 -5.929688 5.304688 -6 5.296875 -6.09375 C 5.296875 -6.1875 5.296875 -6.28125 5.296875 -6.375 C 5.296875 -6.476562 5.296875 -6.578125 5.296875 -6.671875 C 5.296875 -6.765625 5.296875 -6.828125 5.296875 -6.859375 L 5.296875 -9.5625 L 6.453125 -9.5625 L 6.453125 -1.4375 C 6.453125 -1.269531 6.453125 -1.109375 6.453125 -0.953125 C 6.453125 -0.796875 6.453125 -0.648438 6.453125 -0.515625 C 6.460938 -0.390625 6.46875 -0.28125 6.46875 -0.1875 C 6.476562 -0.101562 6.484375 -0.0390625 6.484375 0 L 5.390625 0 C 5.378906 -0.0390625 5.367188 -0.0976562 5.359375 -0.171875 C 5.347656 -0.253906 5.335938 -0.347656 5.328125 -0.453125 C 5.328125 -0.554688 5.320312 -0.664062 5.3125 -0.78125 C 5.3125 -0.894531 5.3125 -1.007812 5.3125 -1.125 Z M 1.765625 -3.5 C 1.765625 -3.007812 1.796875 -2.59375 1.859375 -2.25 C 1.921875 -1.90625 2.019531 -1.625 2.15625 -1.40625 C 2.289062 -1.1875 2.457031 -1.023438 2.65625 -0.921875 C 2.863281 -0.816406 3.117188 -0.765625 3.421875 -0.765625 C 3.722656 -0.765625 3.988281 -0.8125 4.21875 -0.90625 C 4.457031 -1.007812 4.65625 -1.171875 4.8125 -1.390625 C 4.96875 -1.617188 5.085938 -1.910156 5.171875 -2.265625 C 5.253906 -2.617188 5.296875 -3.054688 5.296875 -3.578125 C 5.296875 -4.066406 5.253906 -4.484375 5.171875 -4.828125 C 5.085938 -5.171875 4.96875 -5.445312 4.8125 -5.65625 C 4.65625 -5.863281 4.457031 -6.015625 4.21875 -6.109375 C 3.988281 -6.203125 3.726562 -6.25 3.4375 -6.25 C 3.144531 -6.25 2.894531 -6.195312 2.6875 -6.09375 C 2.488281 -6 2.316406 -5.84375 2.171875 -5.625 C 2.035156 -5.40625 1.929688 -5.117188 1.859375 -4.765625 C 1.796875 -4.410156 1.765625 -3.988281 1.765625 -3.5 Z M 1.765625 -3.5 \"/>\n",
       "</g>\n",
       "</g>\n",
       "<clipPath id=\"clip-0\">\n",
       "<path clip-rule=\"nonzero\" d=\"M 40.152344 23.957031 L 424.84375 23.957031 L 424.84375 472.847656 L 40.152344 472.847656 Z M 40.152344 23.957031 \"/>\n",
       "</clipPath>\n",
       "<clipPath id=\"clip-1\">\n",
       "<path clip-rule=\"nonzero\" d=\"M 40.152344 398 L 424.84375 398 L 424.84375 399 L 40.152344 399 Z M 40.152344 398 \"/>\n",
       "</clipPath>\n",
       "<clipPath id=\"clip-2\">\n",
       "<path clip-rule=\"nonzero\" d=\"M 40.152344 290 L 424.84375 290 L 424.84375 292 L 40.152344 292 Z M 40.152344 290 \"/>\n",
       "</clipPath>\n",
       "<clipPath id=\"clip-3\">\n",
       "<path clip-rule=\"nonzero\" d=\"M 40.152344 183 L 424.84375 183 L 424.84375 184 L 40.152344 184 Z M 40.152344 183 \"/>\n",
       "</clipPath>\n",
       "<clipPath id=\"clip-4\">\n",
       "<path clip-rule=\"nonzero\" d=\"M 40.152344 75 L 424.84375 75 L 424.84375 77 L 40.152344 77 Z M 40.152344 75 \"/>\n",
       "</clipPath>\n",
       "<clipPath id=\"clip-5\">\n",
       "<path clip-rule=\"nonzero\" d=\"M 40.152344 451 L 424.84375 451 L 424.84375 453 L 40.152344 453 Z M 40.152344 451 \"/>\n",
       "</clipPath>\n",
       "<clipPath id=\"clip-6\">\n",
       "<path clip-rule=\"nonzero\" d=\"M 40.152344 344 L 424.84375 344 L 424.84375 346 L 40.152344 346 Z M 40.152344 344 \"/>\n",
       "</clipPath>\n",
       "<clipPath id=\"clip-7\">\n",
       "<path clip-rule=\"nonzero\" d=\"M 40.152344 236 L 424.84375 236 L 424.84375 238 L 40.152344 238 Z M 40.152344 236 \"/>\n",
       "</clipPath>\n",
       "<clipPath id=\"clip-8\">\n",
       "<path clip-rule=\"nonzero\" d=\"M 40.152344 129 L 424.84375 129 L 424.84375 131 L 40.152344 131 Z M 40.152344 129 \"/>\n",
       "</clipPath>\n",
       "<clipPath id=\"clip-9\">\n",
       "<path clip-rule=\"nonzero\" d=\"M 144 23.957031 L 146 23.957031 L 146 472.847656 L 144 472.847656 Z M 144 23.957031 \"/>\n",
       "</clipPath>\n",
       "<clipPath id=\"clip-10\">\n",
       "<path clip-rule=\"nonzero\" d=\"M 319 23.957031 L 321 23.957031 L 321 472.847656 L 319 472.847656 Z M 319 23.957031 \"/>\n",
       "</clipPath>\n",
       "</defs>\n",
       "<rect x=\"-50.4\" y=\"-50.4\" width=\"604.8\" height=\"604.8\" fill=\"rgb(100%, 100%, 100%)\" fill-opacity=\"1\"/>\n",
       "<rect x=\"-50.4\" y=\"-50.4\" width=\"604.8\" height=\"604.8\" fill=\"rgb(100%, 100%, 100%)\" fill-opacity=\"1\"/>\n",
       "<path fill=\"none\" stroke-width=\"1.066978\" stroke-linecap=\"round\" stroke-linejoin=\"round\" stroke=\"rgb(100%, 100%, 100%)\" stroke-opacity=\"1\" stroke-miterlimit=\"10\" d=\"M 0 504 L 504 504 L 504 0 L 0 0 Z M 0 504 \"/>\n",
       "<g clip-path=\"url(#clip-0)\">\n",
       "<path fill-rule=\"nonzero\" fill=\"rgb(92.156863%, 92.156863%, 92.156863%)\" fill-opacity=\"1\" d=\"M 40.152344 472.847656 L 424.84375 472.847656 L 424.84375 23.957031 L 40.152344 23.957031 Z M 40.152344 472.847656 \"/>\n",
       "</g>\n",
       "<g clip-path=\"url(#clip-1)\">\n",
       "<path fill=\"none\" stroke-width=\"0.533489\" stroke-linecap=\"butt\" stroke-linejoin=\"round\" stroke=\"rgb(100%, 100%, 100%)\" stroke-opacity=\"1\" stroke-miterlimit=\"10\" d=\"M 40.152344 398.695312 L 424.84375 398.695312 \"/>\n",
       "</g>\n",
       "<g clip-path=\"url(#clip-2)\">\n",
       "<path fill=\"none\" stroke-width=\"0.533489\" stroke-linecap=\"butt\" stroke-linejoin=\"round\" stroke=\"rgb(100%, 100%, 100%)\" stroke-opacity=\"1\" stroke-miterlimit=\"10\" d=\"M 40.152344 291.199219 L 424.84375 291.199219 \"/>\n",
       "</g>\n",
       "<g clip-path=\"url(#clip-3)\">\n",
       "<path fill=\"none\" stroke-width=\"0.533489\" stroke-linecap=\"butt\" stroke-linejoin=\"round\" stroke=\"rgb(100%, 100%, 100%)\" stroke-opacity=\"1\" stroke-miterlimit=\"10\" d=\"M 40.152344 183.703125 L 424.84375 183.703125 \"/>\n",
       "</g>\n",
       "<g clip-path=\"url(#clip-4)\">\n",
       "<path fill=\"none\" stroke-width=\"0.533489\" stroke-linecap=\"butt\" stroke-linejoin=\"round\" stroke=\"rgb(100%, 100%, 100%)\" stroke-opacity=\"1\" stroke-miterlimit=\"10\" d=\"M 40.152344 76.207031 L 424.84375 76.207031 \"/>\n",
       "</g>\n",
       "<g clip-path=\"url(#clip-5)\">\n",
       "<path fill=\"none\" stroke-width=\"1.066978\" stroke-linecap=\"butt\" stroke-linejoin=\"round\" stroke=\"rgb(100%, 100%, 100%)\" stroke-opacity=\"1\" stroke-miterlimit=\"10\" d=\"M 40.152344 452.445312 L 424.84375 452.445312 \"/>\n",
       "</g>\n",
       "<g clip-path=\"url(#clip-6)\">\n",
       "<path fill=\"none\" stroke-width=\"1.066978\" stroke-linecap=\"butt\" stroke-linejoin=\"round\" stroke=\"rgb(100%, 100%, 100%)\" stroke-opacity=\"1\" stroke-miterlimit=\"10\" d=\"M 40.152344 344.949219 L 424.84375 344.949219 \"/>\n",
       "</g>\n",
       "<g clip-path=\"url(#clip-7)\">\n",
       "<path fill=\"none\" stroke-width=\"1.066978\" stroke-linecap=\"butt\" stroke-linejoin=\"round\" stroke=\"rgb(100%, 100%, 100%)\" stroke-opacity=\"1\" stroke-miterlimit=\"10\" d=\"M 40.152344 237.453125 L 424.84375 237.453125 \"/>\n",
       "</g>\n",
       "<g clip-path=\"url(#clip-8)\">\n",
       "<path fill=\"none\" stroke-width=\"1.066978\" stroke-linecap=\"butt\" stroke-linejoin=\"round\" stroke=\"rgb(100%, 100%, 100%)\" stroke-opacity=\"1\" stroke-miterlimit=\"10\" d=\"M 40.152344 129.957031 L 424.84375 129.957031 \"/>\n",
       "</g>\n",
       "<g clip-path=\"url(#clip-9)\">\n",
       "<path fill=\"none\" stroke-width=\"1.066978\" stroke-linecap=\"butt\" stroke-linejoin=\"round\" stroke=\"rgb(100%, 100%, 100%)\" stroke-opacity=\"1\" stroke-miterlimit=\"10\" d=\"M 145.066406 472.847656 L 145.066406 23.957031 \"/>\n",
       "</g>\n",
       "<g clip-path=\"url(#clip-10)\">\n",
       "<path fill=\"none\" stroke-width=\"1.066978\" stroke-linecap=\"butt\" stroke-linejoin=\"round\" stroke=\"rgb(100%, 100%, 100%)\" stroke-opacity=\"1\" stroke-miterlimit=\"10\" d=\"M 319.925781 472.847656 L 319.925781 23.957031 \"/>\n",
       "</g>\n",
       "<path fill=\"none\" stroke-width=\"1.066978\" stroke-linecap=\"butt\" stroke-linejoin=\"round\" stroke=\"rgb(20%, 20%, 20%)\" stroke-opacity=\"1\" stroke-miterlimit=\"10\" d=\"M 145.066406 193.976562 L 145.066406 48.597656 \"/>\n",
       "<path fill=\"none\" stroke-width=\"1.066978\" stroke-linecap=\"butt\" stroke-linejoin=\"round\" stroke=\"rgb(20%, 20%, 20%)\" stroke-opacity=\"1\" stroke-miterlimit=\"10\" d=\"M 145.066406 350.605469 L 145.066406 452.445312 \"/>\n",
       "<path fill-rule=\"nonzero\" fill=\"rgb(97.254902%, 46.27451%, 42.745098%)\" fill-opacity=\"1\" stroke-width=\"1.066978\" stroke-linecap=\"butt\" stroke-linejoin=\"miter\" stroke=\"rgb(20%, 20%, 20%)\" stroke-opacity=\"1\" stroke-miterlimit=\"10\" d=\"M 79.496094 193.976562 L 79.496094 350.605469 L 210.640625 350.605469 L 210.640625 193.976562 Z M 79.496094 193.976562 \"/>\n",
       "<path fill=\"none\" stroke-width=\"2.133957\" stroke-linecap=\"butt\" stroke-linejoin=\"miter\" stroke=\"rgb(20%, 20%, 20%)\" stroke-opacity=\"1\" stroke-miterlimit=\"10\" d=\"M 79.496094 284.65625 L 210.640625 284.65625 \"/>\n",
       "<path fill=\"none\" stroke-width=\"1.066978\" stroke-linecap=\"butt\" stroke-linejoin=\"round\" stroke=\"rgb(20%, 20%, 20%)\" stroke-opacity=\"1\" stroke-miterlimit=\"10\" d=\"M 319.925781 172.855469 L 319.925781 44.363281 \"/>\n",
       "<path fill=\"none\" stroke-width=\"1.066978\" stroke-linecap=\"butt\" stroke-linejoin=\"round\" stroke=\"rgb(20%, 20%, 20%)\" stroke-opacity=\"1\" stroke-miterlimit=\"10\" d=\"M 319.925781 340.070312 L 319.925781 452.441406 \"/>\n",
       "<path fill-rule=\"nonzero\" fill=\"rgb(0%, 74.901961%, 76.862745%)\" fill-opacity=\"1\" stroke-width=\"1.066978\" stroke-linecap=\"butt\" stroke-linejoin=\"miter\" stroke=\"rgb(20%, 20%, 20%)\" stroke-opacity=\"1\" stroke-miterlimit=\"10\" d=\"M 254.355469 172.855469 L 254.355469 340.070312 L 385.5 340.070312 L 385.5 172.855469 Z M 254.355469 172.855469 \"/>\n",
       "<path fill=\"none\" stroke-width=\"2.133957\" stroke-linecap=\"butt\" stroke-linejoin=\"miter\" stroke=\"rgb(20%, 20%, 20%)\" stroke-opacity=\"1\" stroke-miterlimit=\"10\" d=\"M 254.355469 277.386719 L 385.5 277.386719 \"/>\n",
       "<g fill=\"rgb(30.196078%, 30.196078%, 30.196078%)\" fill-opacity=\"1\">\n",
       "<use xlink:href=\"#glyph-0-0\" x=\"18.21875\" y=\"455.911133\"/>\n",
       "<use xlink:href=\"#glyph-0-1\" x=\"23.21875\" y=\"455.911133\"/>\n",
       "<use xlink:href=\"#glyph-0-0\" x=\"25.21875\" y=\"455.911133\"/>\n",
       "<use xlink:href=\"#glyph-0-0\" x=\"30.21875\" y=\"455.911133\"/>\n",
       "</g>\n",
       "<g fill=\"rgb(30.196078%, 30.196078%, 30.196078%)\" fill-opacity=\"1\">\n",
       "<use xlink:href=\"#glyph-0-0\" x=\"18.21875\" y=\"348.415039\"/>\n",
       "<use xlink:href=\"#glyph-0-1\" x=\"23.21875\" y=\"348.415039\"/>\n",
       "<use xlink:href=\"#glyph-0-2\" x=\"25.21875\" y=\"348.415039\"/>\n",
       "<use xlink:href=\"#glyph-0-3\" x=\"30.21875\" y=\"348.415039\"/>\n",
       "</g>\n",
       "<g fill=\"rgb(30.196078%, 30.196078%, 30.196078%)\" fill-opacity=\"1\">\n",
       "<use xlink:href=\"#glyph-0-0\" x=\"18.21875\" y=\"240.918945\"/>\n",
       "<use xlink:href=\"#glyph-0-1\" x=\"23.21875\" y=\"240.918945\"/>\n",
       "<use xlink:href=\"#glyph-0-3\" x=\"25.21875\" y=\"240.918945\"/>\n",
       "<use xlink:href=\"#glyph-0-0\" x=\"30.21875\" y=\"240.918945\"/>\n",
       "</g>\n",
       "<g fill=\"rgb(30.196078%, 30.196078%, 30.196078%)\" fill-opacity=\"1\">\n",
       "<use xlink:href=\"#glyph-0-0\" x=\"18.21875\" y=\"133.422852\"/>\n",
       "<use xlink:href=\"#glyph-0-1\" x=\"23.21875\" y=\"133.422852\"/>\n",
       "<use xlink:href=\"#glyph-0-4\" x=\"25.21875\" y=\"133.422852\"/>\n",
       "<use xlink:href=\"#glyph-0-3\" x=\"30.21875\" y=\"133.422852\"/>\n",
       "</g>\n",
       "<path fill=\"none\" stroke-width=\"1.066978\" stroke-linecap=\"butt\" stroke-linejoin=\"round\" stroke=\"rgb(20%, 20%, 20%)\" stroke-opacity=\"1\" stroke-miterlimit=\"10\" d=\"M 37.410156 452.445312 L 40.152344 452.445312 \"/>\n",
       "<path fill=\"none\" stroke-width=\"1.066978\" stroke-linecap=\"butt\" stroke-linejoin=\"round\" stroke=\"rgb(20%, 20%, 20%)\" stroke-opacity=\"1\" stroke-miterlimit=\"10\" d=\"M 37.410156 344.949219 L 40.152344 344.949219 \"/>\n",
       "<path fill=\"none\" stroke-width=\"1.066978\" stroke-linecap=\"butt\" stroke-linejoin=\"round\" stroke=\"rgb(20%, 20%, 20%)\" stroke-opacity=\"1\" stroke-miterlimit=\"10\" d=\"M 37.410156 237.453125 L 40.152344 237.453125 \"/>\n",
       "<path fill=\"none\" stroke-width=\"1.066978\" stroke-linecap=\"butt\" stroke-linejoin=\"round\" stroke=\"rgb(20%, 20%, 20%)\" stroke-opacity=\"1\" stroke-miterlimit=\"10\" d=\"M 37.410156 129.957031 L 40.152344 129.957031 \"/>\n",
       "<path fill=\"none\" stroke-width=\"1.066978\" stroke-linecap=\"butt\" stroke-linejoin=\"round\" stroke=\"rgb(20%, 20%, 20%)\" stroke-opacity=\"1\" stroke-miterlimit=\"10\" d=\"M 145.066406 475.589844 L 145.066406 472.847656 \"/>\n",
       "<path fill=\"none\" stroke-width=\"1.066978\" stroke-linecap=\"butt\" stroke-linejoin=\"round\" stroke=\"rgb(20%, 20%, 20%)\" stroke-opacity=\"1\" stroke-miterlimit=\"10\" d=\"M 319.925781 475.589844 L 319.925781 472.847656 \"/>\n",
       "<g fill=\"rgb(30.196078%, 30.196078%, 30.196078%)\" fill-opacity=\"1\">\n",
       "<use xlink:href=\"#glyph-0-5\" x=\"130.566406\" y=\"484.74707\"/>\n",
       "<use xlink:href=\"#glyph-0-6\" x=\"135.566406\" y=\"484.74707\"/>\n",
       "<use xlink:href=\"#glyph-0-7\" x=\"140.566406\" y=\"484.74707\"/>\n",
       "<use xlink:href=\"#glyph-0-8\" x=\"147.566406\" y=\"484.74707\"/>\n",
       "<use xlink:href=\"#glyph-0-9\" x=\"152.566406\" y=\"484.74707\"/>\n",
       "<use xlink:href=\"#glyph-0-6\" x=\"154.566406\" y=\"484.74707\"/>\n",
       "</g>\n",
       "<g fill=\"rgb(30.196078%, 30.196078%, 30.196078%)\" fill-opacity=\"1\">\n",
       "<use xlink:href=\"#glyph-0-10\" x=\"310.425781\" y=\"484.74707\"/>\n",
       "<use xlink:href=\"#glyph-0-8\" x=\"317.425781\" y=\"484.74707\"/>\n",
       "<use xlink:href=\"#glyph-0-9\" x=\"322.425781\" y=\"484.74707\"/>\n",
       "<use xlink:href=\"#glyph-0-6\" x=\"324.425781\" y=\"484.74707\"/>\n",
       "</g>\n",
       "<g fill=\"rgb(0%, 0%, 0%)\" fill-opacity=\"1\">\n",
       "<use xlink:href=\"#glyph-1-0\" x=\"213.996094\" y=\"496.477539\"/>\n",
       "<use xlink:href=\"#glyph-1-1\" x=\"222.996094\" y=\"496.477539\"/>\n",
       "<use xlink:href=\"#glyph-1-2\" x=\"228.996094\" y=\"496.477539\"/>\n",
       "<use xlink:href=\"#glyph-1-3\" x=\"234.996094\" y=\"496.477539\"/>\n",
       "<use xlink:href=\"#glyph-1-1\" x=\"240.996094\" y=\"496.477539\"/>\n",
       "<use xlink:href=\"#glyph-1-4\" x=\"246.996094\" y=\"496.477539\"/>\n",
       "</g>\n",
       "<g fill=\"rgb(0%, 0%, 0%)\" fill-opacity=\"1\">\n",
       "<use xlink:href=\"#glyph-2-0\" x=\"13.438477\" y=\"273.402344\"/>\n",
       "<use xlink:href=\"#glyph-2-1\" x=\"13.438477\" y=\"266.402344\"/>\n",
       "<use xlink:href=\"#glyph-2-2\" x=\"13.438477\" y=\"262.402344\"/>\n",
       "<use xlink:href=\"#glyph-2-3\" x=\"13.438477\" y=\"256.402344\"/>\n",
       "<use xlink:href=\"#glyph-2-4\" x=\"13.438477\" y=\"250.402344\"/>\n",
       "<use xlink:href=\"#glyph-2-3\" x=\"13.438477\" y=\"244.402344\"/>\n",
       "<use xlink:href=\"#glyph-2-5\" x=\"13.438477\" y=\"238.402344\"/>\n",
       "<use xlink:href=\"#glyph-2-6\" x=\"13.438477\" y=\"236.402344\"/>\n",
       "<use xlink:href=\"#glyph-2-5\" x=\"13.438477\" y=\"234.402344\"/>\n",
       "<use xlink:href=\"#glyph-2-7\" x=\"13.438477\" y=\"232.402344\"/>\n",
       "<use xlink:href=\"#glyph-2-8\" x=\"13.438477\" y=\"229.402344\"/>\n",
       "</g>\n",
       "<path fill-rule=\"nonzero\" fill=\"rgb(100%, 100%, 100%)\" fill-opacity=\"1\" d=\"M 435.800781 278.902344 L 498.519531 278.902344 L 498.519531 217.902344 L 435.800781 217.902344 Z M 435.800781 278.902344 \"/>\n",
       "<g fill=\"rgb(0%, 0%, 0%)\" fill-opacity=\"1\">\n",
       "<use xlink:href=\"#glyph-1-0\" x=\"441.28125\" y=\"232.34082\"/>\n",
       "<use xlink:href=\"#glyph-1-1\" x=\"450.28125\" y=\"232.34082\"/>\n",
       "<use xlink:href=\"#glyph-1-2\" x=\"456.28125\" y=\"232.34082\"/>\n",
       "<use xlink:href=\"#glyph-1-3\" x=\"462.28125\" y=\"232.34082\"/>\n",
       "<use xlink:href=\"#glyph-1-1\" x=\"468.28125\" y=\"232.34082\"/>\n",
       "<use xlink:href=\"#glyph-1-4\" x=\"474.28125\" y=\"232.34082\"/>\n",
       "</g>\n",
       "<path fill-rule=\"nonzero\" fill=\"rgb(92.156863%, 92.156863%, 92.156863%)\" fill-opacity=\"1\" d=\"M 441.28125 256.144531 L 458.5625 256.144531 L 458.5625 238.863281 L 441.28125 238.863281 Z M 441.28125 256.144531 \"/>\n",
       "<path fill=\"none\" stroke-width=\"1.066978\" stroke-linecap=\"butt\" stroke-linejoin=\"miter\" stroke=\"rgb(20%, 20%, 20%)\" stroke-opacity=\"1\" stroke-miterlimit=\"10\" d=\"M 449.921875 254.414062 L 449.921875 251.824219 \"/>\n",
       "<path fill=\"none\" stroke-width=\"1.066978\" stroke-linecap=\"butt\" stroke-linejoin=\"miter\" stroke=\"rgb(20%, 20%, 20%)\" stroke-opacity=\"1\" stroke-miterlimit=\"10\" d=\"M 449.921875 243.183594 L 449.921875 240.59375 \"/>\n",
       "<path fill-rule=\"nonzero\" fill=\"rgb(97.254902%, 46.27451%, 42.745098%)\" fill-opacity=\"1\" stroke-width=\"1.066978\" stroke-linecap=\"butt\" stroke-linejoin=\"miter\" stroke=\"rgb(20%, 20%, 20%)\" stroke-opacity=\"1\" stroke-miterlimit=\"10\" d=\"M 443.441406 251.824219 L 456.402344 251.824219 L 456.402344 243.183594 L 443.441406 243.183594 Z M 443.441406 251.824219 \"/>\n",
       "<path fill=\"none\" stroke-width=\"1.066978\" stroke-linecap=\"butt\" stroke-linejoin=\"miter\" stroke=\"rgb(20%, 20%, 20%)\" stroke-opacity=\"1\" stroke-miterlimit=\"10\" d=\"M 443.441406 247.503906 L 456.402344 247.503906 \"/>\n",
       "<path fill-rule=\"nonzero\" fill=\"rgb(92.156863%, 92.156863%, 92.156863%)\" fill-opacity=\"1\" d=\"M 441.28125 273.425781 L 458.5625 273.425781 L 458.5625 256.144531 L 441.28125 256.144531 Z M 441.28125 273.425781 \"/>\n",
       "<path fill=\"none\" stroke-width=\"1.066978\" stroke-linecap=\"butt\" stroke-linejoin=\"miter\" stroke=\"rgb(20%, 20%, 20%)\" stroke-opacity=\"1\" stroke-miterlimit=\"10\" d=\"M 449.921875 271.695312 L 449.921875 269.105469 \"/>\n",
       "<path fill=\"none\" stroke-width=\"1.066978\" stroke-linecap=\"butt\" stroke-linejoin=\"miter\" stroke=\"rgb(20%, 20%, 20%)\" stroke-opacity=\"1\" stroke-miterlimit=\"10\" d=\"M 449.921875 260.464844 L 449.921875 257.871094 \"/>\n",
       "<path fill-rule=\"nonzero\" fill=\"rgb(0%, 74.901961%, 76.862745%)\" fill-opacity=\"1\" stroke-width=\"1.066978\" stroke-linecap=\"butt\" stroke-linejoin=\"miter\" stroke=\"rgb(20%, 20%, 20%)\" stroke-opacity=\"1\" stroke-miterlimit=\"10\" d=\"M 443.441406 269.105469 L 456.402344 269.105469 L 456.402344 260.464844 L 443.441406 260.464844 Z M 443.441406 269.105469 \"/>\n",
       "<path fill=\"none\" stroke-width=\"1.066978\" stroke-linecap=\"butt\" stroke-linejoin=\"miter\" stroke=\"rgb(20%, 20%, 20%)\" stroke-opacity=\"1\" stroke-miterlimit=\"10\" d=\"M 443.441406 264.785156 L 456.402344 264.785156 \"/>\n",
       "<g fill=\"rgb(0%, 0%, 0%)\" fill-opacity=\"1\">\n",
       "<use xlink:href=\"#glyph-0-5\" x=\"464.042969\" y=\"250.969727\"/>\n",
       "<use xlink:href=\"#glyph-0-6\" x=\"469.042969\" y=\"250.969727\"/>\n",
       "<use xlink:href=\"#glyph-0-7\" x=\"474.042969\" y=\"250.969727\"/>\n",
       "<use xlink:href=\"#glyph-0-8\" x=\"481.042969\" y=\"250.969727\"/>\n",
       "<use xlink:href=\"#glyph-0-9\" x=\"486.042969\" y=\"250.969727\"/>\n",
       "<use xlink:href=\"#glyph-0-6\" x=\"488.042969\" y=\"250.969727\"/>\n",
       "</g>\n",
       "<g fill=\"rgb(0%, 0%, 0%)\" fill-opacity=\"1\">\n",
       "<use xlink:href=\"#glyph-0-10\" x=\"464.042969\" y=\"268.250977\"/>\n",
       "<use xlink:href=\"#glyph-0-8\" x=\"471.042969\" y=\"268.250977\"/>\n",
       "<use xlink:href=\"#glyph-0-9\" x=\"476.042969\" y=\"268.250977\"/>\n",
       "<use xlink:href=\"#glyph-0-6\" x=\"478.042969\" y=\"268.250977\"/>\n",
       "</g>\n",
       "<g fill=\"rgb(0%, 0%, 0%)\" fill-opacity=\"1\">\n",
       "<use xlink:href=\"#glyph-3-0\" x=\"40.152344\" y=\"15.429688\"/>\n",
       "<use xlink:href=\"#glyph-3-1\" x=\"49.152344\" y=\"15.429688\"/>\n",
       "<use xlink:href=\"#glyph-3-2\" x=\"53.152344\" y=\"15.429688\"/>\n",
       "<use xlink:href=\"#glyph-3-3\" x=\"60.152344\" y=\"15.429688\"/>\n",
       "<use xlink:href=\"#glyph-3-4\" x=\"67.152344\" y=\"15.429688\"/>\n",
       "<use xlink:href=\"#glyph-3-3\" x=\"74.152344\" y=\"15.429688\"/>\n",
       "<use xlink:href=\"#glyph-3-5\" x=\"81.152344\" y=\"15.429688\"/>\n",
       "<use xlink:href=\"#glyph-3-6\" x=\"84.152344\" y=\"15.429688\"/>\n",
       "<use xlink:href=\"#glyph-3-5\" x=\"87.152344\" y=\"15.429688\"/>\n",
       "<use xlink:href=\"#glyph-3-7\" x=\"90.152344\" y=\"15.429688\"/>\n",
       "<use xlink:href=\"#glyph-3-8\" x=\"94.152344\" y=\"15.429688\"/>\n",
       "<use xlink:href=\"#glyph-3-9\" x=\"101.152344\" y=\"15.429688\"/>\n",
       "<use xlink:href=\"#glyph-3-2\" x=\"105.152344\" y=\"15.429688\"/>\n",
       "<use xlink:href=\"#glyph-3-10\" x=\"112.152344\" y=\"15.429688\"/>\n",
       "<use xlink:href=\"#glyph-3-9\" x=\"116.152344\" y=\"15.429688\"/>\n",
       "<use xlink:href=\"#glyph-3-11\" x=\"120.152344\" y=\"15.429688\"/>\n",
       "<use xlink:href=\"#glyph-3-4\" x=\"129.152344\" y=\"15.429688\"/>\n",
       "<use xlink:href=\"#glyph-3-1\" x=\"136.152344\" y=\"15.429688\"/>\n",
       "<use xlink:href=\"#glyph-3-12\" x=\"140.152344\" y=\"15.429688\"/>\n",
       "<use xlink:href=\"#glyph-3-5\" x=\"147.152344\" y=\"15.429688\"/>\n",
       "<use xlink:href=\"#glyph-3-12\" x=\"150.152344\" y=\"15.429688\"/>\n",
       "<use xlink:href=\"#glyph-3-13\" x=\"157.152344\" y=\"15.429688\"/>\n",
       "<use xlink:href=\"#glyph-3-9\" x=\"164.152344\" y=\"15.429688\"/>\n",
       "<use xlink:href=\"#glyph-3-14\" x=\"168.152344\" y=\"15.429688\"/>\n",
       "<use xlink:href=\"#glyph-3-15\" x=\"176.152344\" y=\"15.429688\"/>\n",
       "<use xlink:href=\"#glyph-3-16\" x=\"183.152344\" y=\"15.429688\"/>\n",
       "<use xlink:href=\"#glyph-3-17\" x=\"190.152344\" y=\"15.429688\"/>\n",
       "<use xlink:href=\"#glyph-3-9\" x=\"199.152344\" y=\"15.429688\"/>\n",
       "<use xlink:href=\"#glyph-3-3\" x=\"203.152344\" y=\"15.429688\"/>\n",
       "<use xlink:href=\"#glyph-3-18\" x=\"210.152344\" y=\"15.429688\"/>\n",
       "<use xlink:href=\"#glyph-3-7\" x=\"217.152344\" y=\"15.429688\"/>\n",
       "<use xlink:href=\"#glyph-3-19\" x=\"221.152344\" y=\"15.429688\"/>\n",
       "<use xlink:href=\"#glyph-3-18\" x=\"231.152344\" y=\"15.429688\"/>\n",
       "<use xlink:href=\"#glyph-3-18\" x=\"238.152344\" y=\"15.429688\"/>\n",
       "<use xlink:href=\"#glyph-3-12\" x=\"245.152344\" y=\"15.429688\"/>\n",
       "<use xlink:href=\"#glyph-3-9\" x=\"252.152344\" y=\"15.429688\"/>\n",
       "<use xlink:href=\"#glyph-3-20\" x=\"256.152344\" y=\"15.429688\"/>\n",
       "<use xlink:href=\"#glyph-3-18\" x=\"266.152344\" y=\"15.429688\"/>\n",
       "<use xlink:href=\"#glyph-3-12\" x=\"273.152344\" y=\"15.429688\"/>\n",
       "<use xlink:href=\"#glyph-3-21\" x=\"280.152344\" y=\"15.429688\"/>\n",
       "<use xlink:href=\"#glyph-3-18\" x=\"287.152344\" y=\"15.429688\"/>\n",
       "<use xlink:href=\"#glyph-3-1\" x=\"294.152344\" y=\"15.429688\"/>\n",
       "</g>\n",
       "</svg>\n"
      ],
      "text/plain": [
       "plot without title"
      ]
     },
     "metadata": {
      "application/pdf": {
       "height": 420,
       "width": 420
      },
      "image/jpeg": {
       "height": 420,
       "width": 420
      },
      "image/png": {
       "height": 420,
       "width": 420
      },
      "image/svg+xml": {
       "height": 420,
       "isolated": true,
       "width": 420
      }
     },
     "output_type": "display_data"
    }
   ],
   "source": [
    "# Main developer: Lily\n",
    "# Contributor: Manuella, Una, Kaiwei\n",
    "# Create a visualization for estimated probabilities\n",
    "predicted <- data_filtered %>%\n",
    "  mutate(predicted_prob = predict(four_log_model, type = \"response\"))\n",
    "\n",
    "ggplot(predicted, aes(x = sex, y = predicted_prob, fill = sex)) +\n",
    "  geom_boxplot() +\n",
    "  labs(\n",
    "    title = \"Probability of Earning >50K between Gender\",\n",
    "    x = \"Gender\",\n",
    "    y = \"Probability\",\n",
    "    fill = \"Gender\")"
   ]
  },
  {
   "cell_type": "markdown",
   "id": "cf010677-9e48-4a74-be5f-1618a5d69fb0",
   "metadata": {},
   "source": [
    "Looking at the boxplot above, it seems that the probability of married men earning over $50K is slightly higher than that of married women. This is the expected outcome from the planning stage with the final bar graph. However, the boxplots in this case overlap mostly at the same intervals of probability. This could be because many other variables may predict the income of individuals, and gender is not the most statistically important factor."
   ]
  },
  {
   "cell_type": "markdown",
   "id": "9be6f909-b4d6-405f-84bc-e7fc138822f5",
   "metadata": {},
   "source": [
    "## Discussion"
   ]
  },
  {
   "cell_type": "markdown",
   "id": "dd80fe20-ab4c-4fcc-b800-36b16dc5fb52",
   "metadata": {},
   "source": [
    "Our findings indicate that while male individuals showed slightly higher estimated probabilities of earning more than $50K, the difference between married men and married women was subtle and not as pronounced as we might have initially expected. The overlapping ranges in the boxplots suggest that gender alone is not a dominant predictor of income levels; many other factors, such as education, experience, and occupation type, likely play a more significant role. This outcome partially aligns with our initial expectations—while we did anticipate some gender-based disparities, the results illustrate the importance of considering a broader range of variables in the model.\n",
    "\n",
    "To improve our model, we could incorporate additional predictors or refine the ones already included. For example, using interaction terms to capture how certain variables jointly influence income or testing non-linear transformations may help uncover more nuanced relationships. Additionally, collecting more comprehensive or higher-quality data, such as more detailed occupational categories or region-specific economic indicators, could further strengthen our analysis.\n",
    "\n",
    "In terms of future research, this study opens up several avenues for inquiry. We could investigate how other demographic and socio-economic factors interact to determine income, explore changes over time to identify evolving labor market trends, or examine the effects of policy changes (e.g., minimum wage adjustments or family leave policies). Ultimately, our findings highlight the complexity of income determination and the need for multifaceted approaches to fully understand the driving forces behind earnings differences."
   ]
  },
  {
   "cell_type": "markdown",
   "id": "0ec6febb-9a83-4079-b805-15c67479d6dd",
   "metadata": {},
   "source": [
    "## References"
   ]
  },
  {
   "cell_type": "markdown",
   "id": "a67569e0-6023-4e50-bcb0-ae9f797f71b0",
   "metadata": {},
   "source": [
    "Fry, R. (2023, April 13). In a growing share of U.S. marriages, husbands and wives earn about the same. Pew Research Center. https://www.pewresearch.org/social-trends/2023/04/13/in-a-growing-share-of-u-s-marriages-husbands-and-wives-earn-about-the-same/ \n",
    "\n",
    "Vandenbroucke, G. (2018). Married men sit atop the wage ladder. Economic Synopses, 2018(24). https://doi.org/10.20955/es.2018.24 "
   ]
  },
  {
   "cell_type": "code",
   "execution_count": null,
   "id": "c7d83ab6-24c3-410e-9eea-ddc5a95b82cf",
   "metadata": {},
   "outputs": [],
   "source": []
  }
 ],
 "metadata": {
  "kernelspec": {
   "display_name": "R",
   "language": "R",
   "name": "ir"
  },
  "language_info": {
   "codemirror_mode": "r",
   "file_extension": ".r",
   "mimetype": "text/x-r-source",
   "name": "R",
   "pygments_lexer": "r",
   "version": "4.3.3"
  }
 },
 "nbformat": 4,
 "nbformat_minor": 5
}
